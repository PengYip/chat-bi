{
 "cells": [
  {
   "cell_type": "code",
   "execution_count": 6,
   "metadata": {},
   "outputs": [
    {
     "data": {
      "text/plain": [
       "AIMessage(content=' 你好！有什么可以帮助你的吗？', response_metadata={'model': 'deepseek-v2', 'created_at': '2024-08-24T14:38:46.313776445Z', 'message': {'role': 'assistant', 'content': ''}, 'done_reason': 'stop', 'done': True, 'total_duration': 464401375, 'load_duration': 9546255, 'prompt_eval_count': 18, 'prompt_eval_duration': 37634000, 'eval_count': 9, 'eval_duration': 274222000}, id='run-a7c34dd9-1403-4f92-b1a7-ccb8621ec0ec-0', usage_metadata={'input_tokens': 18, 'output_tokens': 9, 'total_tokens': 27})"
      ]
     },
     "execution_count": 6,
     "metadata": {},
     "output_type": "execute_result"
    }
   ],
   "source": [
    "from langchain_ollama import ChatOllama\n",
    "\n",
    "llm = ChatOllama(\n",
    "    model=\"deepseek-v2\",\n",
    "    temperature=0.7,\n",
    "    )\n",
    "from langchain_core.messages import AIMessage\n",
    "\n",
    "messages = [\n",
    "    (\n",
    "        \"system\",\n",
    "        \"You are a helpful assistant.\",\n",
    "    ),\n",
    "    (\"human\", \"你好.\"),\n",
    "]\n",
    "ai_msg = llm.invoke(messages)\n",
    "ai_msg"
   ]
  },
  {
   "cell_type": "code",
   "execution_count": 12,
   "metadata": {},
   "outputs": [],
   "source": [
    "from langchain_openai import ChatOpenAI\n",
    "import dotenv\n",
    "import os\n",
    "\n",
    "dotenv.load_dotenv()\n",
    "DEEPSEEK_API = os.getenv(\"DEEPSEEK_API\")\n",
    "BASE_URL = os.getenv(\"DEEPSEEK_URL\")\n",
    "MODEL_NAME=os.getenv(\"DEEPSEEK_MODEL\")\n",
    "llm = ChatOpenAI(api_key=DEEPSEEK_API, base_url=BASE_URL,model=MODEL_NAME)"
   ]
  },
  {
   "cell_type": "code",
   "execution_count": 11,
   "metadata": {},
   "outputs": [
    {
     "data": {
      "text/plain": [
       "AIMessage(content='你好！欢迎使用对话服务。有什么我可以帮助你的吗？', additional_kwargs={'refusal': None}, response_metadata={'token_usage': {'completion_tokens': 13, 'prompt_tokens': 4, 'total_tokens': 17, 'prompt_cache_hit_tokens': 0, 'prompt_cache_miss_tokens': 4}, 'model_name': 'deepseek-chat', 'system_fingerprint': 'fp_7e0991cad4', 'finish_reason': 'stop', 'logprobs': None}, id='run-367505f0-2f11-4c6c-ad81-ffc0103b2045-0', usage_metadata={'input_tokens': 4, 'output_tokens': 13, 'total_tokens': 17})"
      ]
     },
     "execution_count": 11,
     "metadata": {},
     "output_type": "execute_result"
    }
   ],
   "source": [
    "llm.invoke(\"你好\")"
   ]
  },
  {
   "cell_type": "code",
   "execution_count": null,
   "metadata": {},
   "outputs": [],
   "source": []
  }
 ],
 "metadata": {
  "kernelspec": {
   "display_name": "chatbi",
   "language": "python",
   "name": "python3"
  },
  "language_info": {
   "codemirror_mode": {
    "name": "ipython",
    "version": 3
   },
   "file_extension": ".py",
   "mimetype": "text/x-python",
   "name": "python",
   "nbconvert_exporter": "python",
   "pygments_lexer": "ipython3",
   "version": "3.12.4"
  }
 },
 "nbformat": 4,
 "nbformat_minor": 2
}
