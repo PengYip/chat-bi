{
 "cells": [
  {
   "cell_type": "code",
   "execution_count": null,
   "metadata": {},
   "outputs": [],
   "source": [
    "import pandas as pd\n",
    "import gradio as gr\n",
    "import plotly.express as px\n",
    "\n",
    "data = {\n",
    "    \"company_name\": [\n",
    "        \"湖北国贸汽车有限公司\",\n",
    "        \"湖北国贸能源化工有限公司\",\n",
    "        \"湖北国贸金属矿产有限公司\",\n",
    "        \"湖北国际贸易集团有限公司\",\n",
    "    ],\n",
    "    \"year\": [2024, 2024, 2024, 2024],\n",
    "    \"SALES\": [46037361.6, 52737264.5, 32396757.1, 58433198.0],\n",
    "}\n",
    "\n",
    "df = pd.DataFrame(data)\n",
    "\n",
    "\n",
    "# 创建柱状图\n",
    "fig = px.bar(data, x=\"company_name\", y=\"SALES\", color=\"company_name\", text=\"SALES\")\n",
    "\n",
    "# 在 Jupyter Notebook 中显示图表\n",
    "# fig.show()\n",
    "\n",
    "\n",
    "def show_plotly(text):\n",
    "    return fig\n",
    "\n",
    "import sys\n",
    "sys.path.append(\"..\")\n",
    "from app import chat2bi_main\n",
    "\n",
    "iface = gr.Interface(\n",
    "    fn=chat2bi_main,\n",
    "    inputs=[\n",
    "        gr.Textbox(label=\"问题\"),\n",
    "        gr.Dropdown(label=\"用户角色\", choices=[\"公司用户\", \"集团用户\"]),\n",
    "        gr.Textbox(label=\"公司名称\"),\n",
    "    ],\n",
    "    outputs=[\n",
    "        gr.Textbox(label=\"分类结果\"),\n",
    "        gr.Textbox(label=\"结构化参数提取结果\"),\n",
    "        gr.Plot(label=\"输出图表\"),\n",
    "    ],\n",
    "    title=\"Chat2BI演示demo\",\n",
    "    description=\"请输入你的关于数据分析的问题\",\n",
    ")\n",
    "\n",
    "# 启动Gradio应用\n",
    "iface.launch()\n"
   ]
  },
  {
   "cell_type": "code",
   "execution_count": null,
   "metadata": {},
   "outputs": [],
   "source": [
    "classify,params,fig=chat2bi_main(\"去年上半年的销售额\",\"公司用户\",\"国贸能化\")"
   ]
  }
 ],
 "metadata": {
  "kernelspec": {
   "display_name": "chatbi",
   "language": "python",
   "name": "python3"
  },
  "language_info": {
   "codemirror_mode": {
    "name": "ipython",
    "version": 3
   },
   "file_extension": ".py",
   "mimetype": "text/x-python",
   "name": "python",
   "nbconvert_exporter": "python",
   "pygments_lexer": "ipython3",
   "version": "3.12.4"
  }
 },
 "nbformat": 4,
 "nbformat_minor": 2
}
