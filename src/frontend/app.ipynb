{
 "cells": [
  {
   "cell_type": "code",
   "execution_count": null,
   "metadata": {},
   "outputs": [],
   "source": [
    "import gradio as gr\n",
    "from pyecharts import options as opts\n",
    "from pyecharts.charts import Bar\n",
    "from typing import List, Tuple\n",
    "from pandas import DataFrame\n",
    "\n",
    "\n",
    "def parse_input(input_text: str) -> DataFrame: ...\n",
    "\n",
    "\n",
    "def generate_bar_chart(df: DataFrame) -> str:\n",
    "    \"\"\"\n",
    "    生成一个基于给定标签和值的柱状图，并返回HTML字符串表示。\n",
    "    \"\"\"\n",
    "    ...\n",
    "\n",
    "\n",
    "def generate_bar_chart_example() -> str:\n",
    "    \"\"\"\n",
    "    生成一个示例柱状图，并返回HTML字符串表示。\n",
    "    \"\"\"\n",
    "    ...\n",
    "\n",
    "\n",
    "def app(input_text: str) -> str:\n",
    "    \"\"\"\n",
    "    Gradio应用的主要函数。接收用户输入的文本，解析它，并生成柱状图。\n",
    "    \"\"\"\n",
    "    df = parse_input(input_text)\n",
    "    return generate_bar_chart(df)\n",
    "\n",
    "\n",
    "def app_example() -> str:\n",
    "    \"\"\"\n",
    "    生成一个示例柱状图，并返回HTML字符串表示。\n",
    "    \"\"\"\n",
    "    return generate_bar_chart_example()\n",
    "\n",
    "\n"
   ]
  },
  {
   "cell_type": "code",
   "execution_count": null,
   "metadata": {},
   "outputs": [],
   "source": [
    "import pandas as pd\n",
    "import gradio as gr\n",
    "import plotly.express as px\n",
    "data = {\n",
    "    \"company_name\": [\n",
    "        \"湖北国贸汽车有限公司\",\n",
    "        \"湖北国贸能源化工有限公司\",\n",
    "        \"湖北国贸金属矿产有限公司\",\n",
    "        \"湖北国际贸易集团有限公司\",\n",
    "    ],\n",
    "    \"year\": [2024, 2024, 2024, 2024],\n",
    "    \"SALES\": [46037361.6, 52737264.5, 32396757.1, 58433198.0],\n",
    "}\n",
    "\n",
    "df = pd.DataFrame(data)\n",
    "\n",
    "\n",
    "# 创建柱状图\n",
    "fig = px.bar(data, x=\"company_name\", y=\"SALES\", color=\"company_name\", text=\"SALES\")\n",
    "\n",
    "# 在 Jupyter Notebook 中显示图表\n",
    "fig.show()\n",
    "\n",
    "def show_plotly(text):\n",
    "    return fig"
   ]
  },
  {
   "cell_type": "code",
   "execution_count": null,
   "metadata": {},
   "outputs": [],
   "source": [
    "iface = gr.Interface(\n",
    "    fn=app,\n",
    "    inputs=\"text\",\n",
    "    outputs=\"html\",\n",
    "    title=\"Text Input to Pyecharts Bar Chart\",\n",
    "    description=\"Enter comma-separated values and labels (e.g., 'Label1,Value1;Label2,Value2') to generate a bar chart.\",\n",
    ")\n",
    "\n",
    "# 启动Gradio应用\n",
    "iface.launch()"
   ]
  },
  {
   "cell_type": "code",
   "execution_count": null,
   "metadata": {},
   "outputs": [],
   "source": []
  }
 ],
 "metadata": {
  "kernelspec": {
   "display_name": "chatbi",
   "language": "python",
   "name": "python3"
  },
  "language_info": {
   "codemirror_mode": {
    "name": "ipython",
    "version": 3
   },
   "file_extension": ".py",
   "mimetype": "text/x-python",
   "name": "python",
   "nbconvert_exporter": "python",
   "pygments_lexer": "ipython3",
   "version": "3.12.4"
  }
 },
 "nbformat": 4,
 "nbformat_minor": 2
}
