import gradio as gr
from pyecharts.charts import Bar
from pyecharts import options as opts

# 示例数据
company_data = [
    {"company_name": "湖北国贸汽车有限公司", "year": 2024, "SALES": 46037361.6},
    {"company_name": "湖北国贸能源化工有限公司", "year": 2024, "SALES": 52737264.5},
    {"company_name": "湖北国贸金属矿产有限公司", "year": 2024, "SALES": 32396757.1},
    {"company_name": "湖北国际贸易集团有限公司", "year": 2024, "SALES": 58433198.0}
]

# 生成图表的函数
def generate_chart(data):
    company_names = [item["company_name"] for item in data]
    sales = [item["SALES"] for item in data]

    bar = (
        Bar()
        .add_xaxis(company_names)
        .add_yaxis("销售额", sales)
        .set_global_opts(
            title_opts=opts.TitleOpts(title="公司销售额"),
            xaxis_opts=opts.AxisOpts(axislabel_opts={"rotate": 45}),
            yaxis_opts=opts.AxisOpts(name="销售额 (元)")
        )
    )

    return bar.render_embed()

# Gradio 接口
def gradio_interface(data):
    return generate_chart(data)

# 创建 Gradio 界面
iface = gr.Interface(
    fn=gradio_interface,
    inputs=gr.inputs.JSON(default=company_data),
    outputs="html",
    title="公司销售额图表生成器",
    description="输入公司数据，生成销售额图表"
)

# 启动 Gradio 界面
iface.launch()