{
 "cells": [
  {
   "cell_type": "code",
   "execution_count": 1,
   "metadata": {},
   "outputs": [
    {
     "name": "stdout",
     "output_type": "stream",
     "text": [
      "   company_name customer_name      SALES       date industry\n",
      "0  湖北国贸能源化工有限公司        客户1163  2062328.2 2023-07-23       汽车\n",
      "1  湖北国贸金属矿产有限公司        客户1614  2551188.2 2023-06-27       钢材\n",
      "2    湖北国贸汽车有限公司        客户4771  1426953.6 2023-09-06     能源化工\n",
      "3  湖北国贸金属矿产有限公司        客户5461  2627756.4 2023-08-08     能源化工\n",
      "4  湖北国际贸易集团有限公司        客户5182  2417864.7 2023-12-07       煤炭\n"
     ]
    }
   ],
   "source": [
    "import pandas as pd\n",
    "from datetime import datetime, timedelta\n",
    "import random\n",
    "\n",
    "# 您提供的公司名称列表\n",
    "company_names = [\n",
    "    \"湖北国贸能源化工有限公司\",\n",
    "    \"湖北国贸金属矿产有限公司\",\n",
    "    \"湖北国贸汽车有限公司\",\n",
    "    \"湖北国际贸易集团有限公司\",\n",
    "    # ... 添加所有公司名称\n",
    "]\n",
    "\n",
    "# 假定的行业列表\n",
    "industries = [\"煤炭\", \"钢材\", \"农产品\", \"汽车\", \"能源化工\"]\n",
    "\n",
    "# 初始化一个空列表来存储数据\n",
    "data = []\n",
    "\n",
    "# 模拟2023年的数据\n",
    "start_date = datetime(2023, 1, 1)\n",
    "end_date = datetime(2023, 12, 31)\n",
    "\n",
    "# 计算总交易次数（每家公司每月平均4次交易）\n",
    "total_transactions = len(company_names) * 4 * 12\n",
    "\n",
    "for _ in range(total_transactions):\n",
    "    # 随机选择公司名称\n",
    "    company = random.choice(company_names)\n",
    "    # 随机生成交易日期\n",
    "    transaction_date = start_date + timedelta(days=random.randint(0, (end_date - start_date).days))\n",
    "    # 随机选择行业\n",
    "    industry = random.choice(industries)\n",
    "    # 随机生成下游客户名称\n",
    "    customer_name = f\"客户{random.randint(1000, 9999)}\"\n",
    "    # 随机生成金额\n",
    "    SALES = round(random.uniform(10000, 5000000), 1)\n",
    "\n",
    "    # 将生成的数据添加到列表\n",
    "    data.append({\n",
    "        \"company_name\": company,\n",
    "        \"customer_name\": customer_name,\n",
    "        \"SALES\": SALES,\n",
    "        \"date\": transaction_date.strftime(\"%Y-%m-%d\"),\n",
    "        \"industry\": industry\n",
    "    })\n",
    "    \n",
    "\n",
    "# 使用列表构造DataFrame\n",
    "sales_df = pd.DataFrame(data)\n",
    "sales_df['date'] = pd.to_datetime(sales_df['date'])\n",
    "sales_df['SALES'] = pd.to_numeric(sales_df['SALES'])\n",
    "# 打印DataFrame的前几行\n",
    "print(sales_df.head())"
   ]
  },
  {
   "cell_type": "code",
   "execution_count": 2,
   "metadata": {},
   "outputs": [
    {
     "name": "stdout",
     "output_type": "stream",
     "text": [
      "   company_name  year        SALES\n",
      "0    湖北国贸汽车有限公司  2023  136465236.4\n",
      "1  湖北国贸能源化工有限公司  2023  114587885.7\n",
      "2  湖北国贸金属矿产有限公司  2023  121155139.2\n",
      "3  湖北国际贸易集团有限公司  2023  132833502.5\n"
     ]
    }
   ],
   "source": [
    "import sys\n",
    "sys.path.append('..') \n",
    "from query import SalesQueryHelper\n",
    "from entity import PerformanceIndicator,PerformanceQuerySchema\n",
    "\n",
    "\n",
    "helper = SalesQueryHelper(sales_df)\n",
    "\n",
    "# 创建查询参数\n",
    "params = PerformanceQuerySchema(\n",
    "    indicator='SALES',\n",
    "    aggregation='YEAR',\n",
    "    start_time='2023-01-01',\n",
    "    end_time='2023-12-31',\n",
    "    scope='GROUP',\n",
    "    operator='>',\n",
    "    value='100000000',\n",
    "    company_name=\"None\"  # 如果scope为GROUP，则可能不需要company_name\n",
    ")\n",
    "\n",
    "# 执行查询\n",
    "result = helper.execute_query(params)\n",
    "print(result)"
   ]
  },
  {
   "cell_type": "code",
   "execution_count": null,
   "metadata": {},
   "outputs": [],
   "source": [
    "params_by_month=PerformanceQuerySchema(\n",
    "    indicator='SALES',\n",
    "    aggregation='YEAR',\n",
    "    start_time='2023-01-01',\n",
    "    end_time='2023-12-31',\n",
    "    scope='COMPANY',\n",
    "    company_name=\"湖北国贸能源化工有限公司\"  # 如果scope为GROUP，则可能不需要company_name\n",
    ")"
   ]
  }
 ],
 "metadata": {
  "kernelspec": {
   "display_name": "chatbi",
   "language": "python",
   "name": "python3"
  },
  "language_info": {
   "codemirror_mode": {
    "name": "ipython",
    "version": 3
   },
   "file_extension": ".py",
   "mimetype": "text/x-python",
   "name": "python",
   "nbconvert_exporter": "python",
   "pygments_lexer": "ipython3",
   "version": "3.12.4"
  }
 },
 "nbformat": 4,
 "nbformat_minor": 2
}
