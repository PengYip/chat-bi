{
 "cells": [
  {
   "cell_type": "code",
   "execution_count": 1,
   "metadata": {},
   "outputs": [
    {
     "name": "stdout",
     "output_type": "stream",
     "text": [
      "   company_name customer_name      SALES       date industry\n",
      "0  湖北国贸能源化工有限公司        客户5420   732764.2 2023-09-08      农产品\n",
      "1  湖北南方大集实业有限公司        客户4770  3377499.3 2023-07-04     能源化工\n",
      "2    湖北国贸汽车有限公司        客户6462   278343.7 2023-03-19       钢材\n",
      "3    湖北南方集团有限公司        客户5966  4722461.1 2023-09-19       煤炭\n",
      "4   湖北国贸农产品有限公司        客户9799  3776104.4 2024-08-13     能源化工\n"
     ]
    }
   ],
   "source": [
    "import pandas as pd\n",
    "from datetime import datetime, timedelta\n",
    "import random\n",
    "\n",
    "STEEL_INVENTORY_NAME_LIST = [\n",
    "    \"山西宏达钢铁有限公司厂库\",\n",
    "    \"山西华鑫源钢铁集团有限公司厂库\",\n",
    "    \"安阳市新普钢铁有限公司厂库\",\n",
    "    \"安钢集团信阳钢铁有限责任公司厂库\",\n",
    "    \"四川德润钢铁集团航达钢铁有限责任公司厂库\",\n",
    "    \"山西晋南钢铁集团有限公司厂库\",\n",
    "    \"山西新泰钢铁有限公司厂库\",\n",
    "    \"云南曲靖呈钢钢铁(集团)有限公司厂库\",\n",
    "    \"六安钢铁控股集团有限公司仓库\",\n",
    "    \"山西建龙实业有限公司厂库\",\n",
    "    \"中拓物流(武汉建投汉阳库)\",\n",
    "]\n",
    "\n",
    "COAL_INVENTORY_NAME_LIST = [\n",
    "    \"杨桥畔华茂二号库\",\n",
    "    \"靖江盈利港\",\n",
    "    \"京唐港\",\n",
    "    \"直发港\",\n",
    "    \"太仓港\",\n",
    "]\n",
    "\n",
    "COMPANY_NAME_LIST = [\n",
    "    \"湖北国贸能源化工有限公司\",\n",
    "    \"湖北国贸金属矿产有限公司\",\n",
    "    \"湖北国贸汽车有限公司\",\n",
    "    \"湖北国际贸易集团有限公司\",\n",
    "    \"湖北国贸农产品有限公司\",\n",
    "    \"武汉鼎联丰国际贸易有限公司\",\n",
    "    \"湖北国贸农产品有限公司武汉分公司\",\n",
    "    \"湖北南方大集实业有限公司\",\n",
    "    \"湖北南方大集实业有限公司东西湖分公司\",\n",
    "    \"湖北南方大集实业有限公司慈惠分公司\",\n",
    "    \"湖北南方大集实业有限公司江汉分公司\",\n",
    "    \"湖北南方大集实业有限公司能源分公司\",\n",
    "    \"湖北南方工贸有限公司\",\n",
    "    \"湖北南方集团有限公司\",\n",
    "    \"湖北国贸供应链管理有限公司\",\n",
    "    \"湖北华中能源发展有限公司\",\n",
    "    \"湖北国贸汽车有限公司红安分公司\",\n",
    "]\n",
    "\n",
    "# 假定的行业列表\n",
    "industries = [\"煤炭\", \"钢材\", \"农产品\", \"汽车\", \"能源化工\"]\n",
    "\n",
    "# 初始化一个空列表来存储数据\n",
    "data = []\n",
    "\n",
    "# 模拟2023年的数据\n",
    "start_date = datetime(2023, 1, 1)\n",
    "end_date = datetime(2024, 8, 26)\n",
    "\n",
    "# 计算总交易次数（每家公司每月平均4次交易）\n",
    "total_transactions = len(COMPANY_NAME_LIST) * 4 * 12\n",
    "\n",
    "for _ in range(total_transactions):\n",
    "    # 随机选择公司名称\n",
    "    company = random.choice(COMPANY_NAME_LIST)\n",
    "    # 随机生成交易日期\n",
    "    transaction_date = start_date + timedelta(\n",
    "        days=random.randint(0, (end_date - start_date).days)\n",
    "    )\n",
    "    # 随机选择行业\n",
    "    industry = random.choice(industries)\n",
    "    # 随机生成下游客户名称\n",
    "    customer_name = f\"客户{random.randint(1000, 9999)}\"\n",
    "    # 随机生成金额\n",
    "    SALES = round(random.uniform(10000, 5000000), 1)\n",
    "\n",
    "    # 将生成的数据添加到列表\n",
    "    data.append(\n",
    "        {\n",
    "            \"company_name\": company,\n",
    "            \"customer_name\": customer_name,\n",
    "            \"SALES\": SALES,\n",
    "            \"date\": transaction_date.strftime(\"%Y-%m-%d\"),\n",
    "            \"industry\": industry,\n",
    "        }\n",
    "    )\n",
    "\n",
    "\n",
    "# 使用列表构造DataFrame\n",
    "sales_df = pd.DataFrame(data)\n",
    "sales_df[\"date\"] = pd.to_datetime(sales_df[\"date\"])\n",
    "sales_df[\"SALES\"] = pd.to_numeric(sales_df[\"SALES\"])\n",
    "# 打印DataFrame的前几行\n",
    "print(sales_df.head())"
   ]
  },
  {
   "cell_type": "code",
   "execution_count": 2,
   "metadata": {},
   "outputs": [
    {
     "name": "stdout",
     "output_type": "stream",
     "text": [
      "         company_name  year        SALES\n",
      "4   湖北南方大集实业有限公司慈惠分公司  2023  103116025.2\n",
      "6   湖北南方大集实业有限公司能源分公司  2023   88091479.5\n",
      "7          湖北南方工贸有限公司  2023   88815031.3\n",
      "12         湖北国贸汽车有限公司  2023   86049023.2\n"
     ]
    }
   ],
   "source": [
    "import sys\n",
    "sys.path.append('..') \n",
    "from query import SalesQueryHelper\n",
    "from entity import PerformanceQuerySchema\n",
    "\n",
    "\n",
    "helper = SalesQueryHelper(sales_df)\n",
    "\n",
    "# 创建查询参数\n",
    "params = PerformanceQuerySchema(\n",
    "    indicator='SALES',\n",
    "    aggregation='YEAR',\n",
    "    start_time='2023-01-01',\n",
    "    end_time='2023-12-31',\n",
    "    scope='GROUP',\n",
    "    operator='>',\n",
    "    value='80000000',\n",
    "    company_name=\"None\"  # 如果scope为GROUP，则可能不需要company_name\n",
    ")\n",
    "\n",
    "# 执行查询\n",
    "result = helper.execute_query(params)\n",
    "print(result)"
   ]
  },
  {
   "cell_type": "code",
   "execution_count": 3,
   "metadata": {},
   "outputs": [
    {
     "name": "stdout",
     "output_type": "stream",
     "text": [
      "   company_name  year       SALES\n",
      "0  湖北国贸能源化工有限公司  2023  68407461.2\n"
     ]
    }
   ],
   "source": [
    "params_by_month=PerformanceQuerySchema(\n",
    "    indicator='SALES',\n",
    "    aggregation='YEAR',\n",
    "    start_time='2023-01-01',\n",
    "    end_time='2023-12-31',\n",
    "    scope='COMPANY',\n",
    "    company_name=\"湖北国贸能源化工有限公司\"  # 如果scope为GROUP，则可能不需要company_name\n",
    ")\n",
    "result = helper.execute_query(params_by_month)\n",
    "print(result)"
   ]
  },
  {
   "cell_type": "code",
   "execution_count": 4,
   "metadata": {},
   "outputs": [
    {
     "name": "stdout",
     "output_type": "stream",
     "text": [
      "indicator='SALES' aggregation='YEAR' start_time='2024-01-01' end_time='2024-12-31' scope='GROUP' sort_type='DESC' operator=None value=None company_name=None\n",
      "          company_name  year       SALES\n",
      "0        武汉鼎联丰国际贸易有限公司  2024  48277983.5\n",
      "1         湖北华中能源发展有限公司  2024  44096354.7\n",
      "2         湖北南方大集实业有限公司  2024  31783572.8\n",
      "3   湖北南方大集实业有限公司东西湖分公司  2024  33676276.5\n",
      "4    湖北南方大集实业有限公司慈惠分公司  2024  58605430.9\n",
      "5    湖北南方大集实业有限公司江汉分公司  2024  33316581.2\n",
      "6    湖北南方大集实业有限公司能源分公司  2024  49384693.4\n",
      "7           湖北南方工贸有限公司  2024  31333043.2\n",
      "8           湖北南方集团有限公司  2024  39026487.9\n",
      "9        湖北国贸供应链管理有限公司  2024  61494324.7\n",
      "10         湖北国贸农产品有限公司  2024  38685710.4\n",
      "11    湖北国贸农产品有限公司武汉分公司  2024  57377922.9\n",
      "12          湖北国贸汽车有限公司  2024  57710527.2\n",
      "13     湖北国贸汽车有限公司红安分公司  2024  37318654.3\n",
      "14        湖北国贸能源化工有限公司  2024  48300935.7\n",
      "15        湖北国贸金属矿产有限公司  2024  39468736.3\n",
      "16        湖北国际贸易集团有限公司  2024  66028788.5\n",
      "indicator='SALES' aggregation='YEAR' start_time='2023-01-01' end_time='2023-12-31' scope='GROUP' sort_type='DESC' operator=None value=None company_name=None\n",
      "          company_name  year        SALES\n",
      "0        武汉鼎联丰国际贸易有限公司  2023   60767700.9\n",
      "1         湖北华中能源发展有限公司  2023   77606591.7\n",
      "2         湖北南方大集实业有限公司  2023   69594463.6\n",
      "3   湖北南方大集实业有限公司东西湖分公司  2023   68126462.8\n",
      "4    湖北南方大集实业有限公司慈惠分公司  2023  103116025.2\n",
      "5    湖北南方大集实业有限公司江汉分公司  2023   48015375.9\n",
      "6    湖北南方大集实业有限公司能源分公司  2023   88091479.5\n",
      "7           湖北南方工贸有限公司  2023   88815031.3\n",
      "8           湖北南方集团有限公司  2023   76352368.9\n",
      "9        湖北国贸供应链管理有限公司  2023   66444005.4\n",
      "10         湖北国贸农产品有限公司  2023   53719231.4\n",
      "11    湖北国贸农产品有限公司武汉分公司  2023   48625562.5\n",
      "12          湖北国贸汽车有限公司  2023   86049023.2\n",
      "13     湖北国贸汽车有限公司红安分公司  2023   71187399.0\n",
      "14        湖北国贸能源化工有限公司  2023   68407461.2\n",
      "15        湖北国贸金属矿产有限公司  2023   63679371.9\n",
      "16        湖北国际贸易集团有限公司  2023   59591610.5\n",
      "indicator='SALES' aggregation='MONTH' start_time='2024-01-01' end_time='2024-06-30' scope='GROUP' sort_type='DESC' operator=None value=None company_name=None\n",
      "     company_name    month       SALES\n",
      "0   武汉鼎联丰国际贸易有限公司  2024-01  12984197.4\n",
      "1   武汉鼎联丰国际贸易有限公司  2024-02   3443136.0\n",
      "2   武汉鼎联丰国际贸易有限公司  2024-03   4021670.9\n",
      "3   武汉鼎联丰国际贸易有限公司  2024-04   3263625.8\n",
      "4   武汉鼎联丰国际贸易有限公司  2024-05  10086036.7\n",
      "..            ...      ...         ...\n",
      "84   湖北国际贸易集团有限公司  2024-02   9776831.7\n",
      "85   湖北国际贸易集团有限公司  2024-03   8583797.3\n",
      "86   湖北国际贸易集团有限公司  2024-04  10922422.1\n",
      "87   湖北国际贸易集团有限公司  2024-05  13444767.4\n",
      "88   湖北国际贸易集团有限公司  2024-06    147742.2\n",
      "\n",
      "[89 rows x 3 columns]\n",
      "indicator='SALES' aggregation='YEAR' start_time='2024-01-01' end_time='2024-08-27' scope='GROUP' sort_type='DESC' operator=None value=None company_name=None\n",
      "          company_name  year       SALES\n",
      "0        武汉鼎联丰国际贸易有限公司  2024  48277983.5\n",
      "1         湖北华中能源发展有限公司  2024  44096354.7\n",
      "2         湖北南方大集实业有限公司  2024  31783572.8\n",
      "3   湖北南方大集实业有限公司东西湖分公司  2024  33676276.5\n",
      "4    湖北南方大集实业有限公司慈惠分公司  2024  58605430.9\n",
      "5    湖北南方大集实业有限公司江汉分公司  2024  33316581.2\n",
      "6    湖北南方大集实业有限公司能源分公司  2024  49384693.4\n",
      "7           湖北南方工贸有限公司  2024  31333043.2\n",
      "8           湖北南方集团有限公司  2024  39026487.9\n",
      "9        湖北国贸供应链管理有限公司  2024  61494324.7\n",
      "10         湖北国贸农产品有限公司  2024  38685710.4\n",
      "11    湖北国贸农产品有限公司武汉分公司  2024  57377922.9\n",
      "12          湖北国贸汽车有限公司  2024  57710527.2\n",
      "13     湖北国贸汽车有限公司红安分公司  2024  37318654.3\n",
      "14        湖北国贸能源化工有限公司  2024  48300935.7\n",
      "15        湖北国贸金属矿产有限公司  2024  39468736.3\n",
      "16        湖北国际贸易集团有限公司  2024  66028788.5\n",
      "indicator='SALES' aggregation='MONTH' start_time='2024-01-01' end_time='2024-08-31' scope='GROUP' sort_type='DESC' operator=None value=None company_name=None\n",
      "      company_name    month       SALES\n",
      "0    武汉鼎联丰国际贸易有限公司  2024-01  12984197.4\n",
      "1    武汉鼎联丰国际贸易有限公司  2024-02   3443136.0\n",
      "2    武汉鼎联丰国际贸易有限公司  2024-03   4021670.9\n",
      "3    武汉鼎联丰国际贸易有限公司  2024-04   3263625.8\n",
      "4    武汉鼎联丰国际贸易有限公司  2024-05  10086036.7\n",
      "..             ...      ...         ...\n",
      "118   湖北国际贸易集团有限公司  2024-04  10922422.1\n",
      "119   湖北国际贸易集团有限公司  2024-05  13444767.4\n",
      "120   湖北国际贸易集团有限公司  2024-06    147742.2\n",
      "121   湖北国际贸易集团有限公司  2024-07  11843991.9\n",
      "122   湖北国际贸易集团有限公司  2024-08  11309235.9\n",
      "\n",
      "[123 rows x 3 columns]\n",
      "indicator='SALES' aggregation='MONTH' start_time='2024-01-01' end_time='2024-08-31' scope='GROUP' sort_type='DESC' operator=None value=None company_name=None\n",
      "      company_name    month       SALES\n",
      "0    武汉鼎联丰国际贸易有限公司  2024-01  12984197.4\n",
      "1    武汉鼎联丰国际贸易有限公司  2024-02   3443136.0\n",
      "2    武汉鼎联丰国际贸易有限公司  2024-03   4021670.9\n",
      "3    武汉鼎联丰国际贸易有限公司  2024-04   3263625.8\n",
      "4    武汉鼎联丰国际贸易有限公司  2024-05  10086036.7\n",
      "..             ...      ...         ...\n",
      "118   湖北国际贸易集团有限公司  2024-04  10922422.1\n",
      "119   湖北国际贸易集团有限公司  2024-05  13444767.4\n",
      "120   湖北国际贸易集团有限公司  2024-06    147742.2\n",
      "121   湖北国际贸易集团有限公司  2024-07  11843991.9\n",
      "122   湖北国际贸易集团有限公司  2024-08  11309235.9\n",
      "\n",
      "[123 rows x 3 columns]\n",
      "indicator='SALES' aggregation='YEAR' start_time='2023-01-01' end_time='2023-12-31' scope='GROUP' sort_type='DESC' operator='>' value='5' company_name='company_name_not_found'\n",
      "          company_name  year        SALES\n",
      "0        武汉鼎联丰国际贸易有限公司  2023   60767700.9\n",
      "1         湖北华中能源发展有限公司  2023   77606591.7\n",
      "2         湖北南方大集实业有限公司  2023   69594463.6\n",
      "3   湖北南方大集实业有限公司东西湖分公司  2023   68126462.8\n",
      "4    湖北南方大集实业有限公司慈惠分公司  2023  103116025.2\n",
      "5    湖北南方大集实业有限公司江汉分公司  2023   48015375.9\n",
      "6    湖北南方大集实业有限公司能源分公司  2023   88091479.5\n",
      "7           湖北南方工贸有限公司  2023   88815031.3\n",
      "8           湖北南方集团有限公司  2023   76352368.9\n",
      "9        湖北国贸供应链管理有限公司  2023   66444005.4\n",
      "10         湖北国贸农产品有限公司  2023   53719231.4\n",
      "11    湖北国贸农产品有限公司武汉分公司  2023   48625562.5\n",
      "12          湖北国贸汽车有限公司  2023   86049023.2\n",
      "13     湖北国贸汽车有限公司红安分公司  2023   71187399.0\n",
      "14        湖北国贸能源化工有限公司  2023   68407461.2\n",
      "15        湖北国贸金属矿产有限公司  2023   63679371.9\n",
      "16        湖北国际贸易集团有限公司  2023   59591610.5\n"
     ]
    },
    {
     "name": "stderr",
     "output_type": "stream",
     "text": [
      "/home/yepeng/ChatBI/chat-bi/src/notebook/../query/query_helper.py:30: SettingWithCopyWarning: \n",
      "A value is trying to be set on a copy of a slice from a DataFrame.\n",
      "Try using .loc[row_indexer,col_indexer] = value instead\n",
      "\n",
      "See the caveats in the documentation: https://pandas.pydata.org/pandas-docs/stable/user_guide/indexing.html#returning-a-view-versus-a-copy\n",
      "  filtered_df[\"month\"] = filtered_df[\"date\"].dt.to_period(\"M\")\n",
      "/home/yepeng/ChatBI/chat-bi/src/notebook/../query/query_helper.py:30: SettingWithCopyWarning: \n",
      "A value is trying to be set on a copy of a slice from a DataFrame.\n",
      "Try using .loc[row_indexer,col_indexer] = value instead\n",
      "\n",
      "See the caveats in the documentation: https://pandas.pydata.org/pandas-docs/stable/user_guide/indexing.html#returning-a-view-versus-a-copy\n",
      "  filtered_df[\"month\"] = filtered_df[\"date\"].dt.to_period(\"M\")\n",
      "/home/yepeng/ChatBI/chat-bi/src/notebook/../query/query_helper.py:30: SettingWithCopyWarning: \n",
      "A value is trying to be set on a copy of a slice from a DataFrame.\n",
      "Try using .loc[row_indexer,col_indexer] = value instead\n",
      "\n",
      "See the caveats in the documentation: https://pandas.pydata.org/pandas-docs/stable/user_guide/indexing.html#returning-a-view-versus-a-copy\n",
      "  filtered_df[\"month\"] = filtered_df[\"date\"].dt.to_period(\"M\")\n"
     ]
    }
   ],
   "source": [
    "import csv\n",
    "import json\n",
    "\n",
    "# 存储 Result 列的数据\n",
    "results = []\n",
    "\n",
    "# 打开 CSV 文件并读取内容\n",
    "with open('../test/output.csv', 'r', encoding='utf-8') as csvfile:\n",
    "    csvreader = csv.DictReader(csvfile)\n",
    "    \n",
    "    # 遍历每一行，提取 Result 列的数据\n",
    "    for row in csvreader:\n",
    "        results.append(row['Result'].replace(\"'\", '\"'))\n",
    "\n",
    "# 打印 Result 列的数据以验证结果\n",
    "data_results=[]\n",
    "for query in results:\n",
    "    try:\n",
    "        # json_data = json.loads(query)\n",
    "        params=PerformanceQuerySchema(**eval(query))\n",
    "        if params.indicator == \"SALES\":\n",
    "            print(params)\n",
    "            data = helper.execute_query(params)\n",
    "            data_results.append(data)\n",
    "            print(data)\n",
    "    except Exception as e:\n",
    "        print(e)\n"
   ]
  },
  {
   "cell_type": "code",
   "execution_count": 5,
   "metadata": {},
   "outputs": [
    {
     "data": {
      "application/vnd.plotly.v1+json": {
       "config": {
        "plotlyServerURL": "https://plot.ly"
       },
       "data": [
        {
         "alignmentgroup": "True",
         "hovertemplate": "company_name=%{x}<br>SALES=%{text}<extra></extra>",
         "legendgroup": "武汉鼎联丰国际贸易有限公司",
         "marker": {
          "color": "#636efa",
          "pattern": {
           "shape": ""
          }
         },
         "name": "武汉鼎联丰国际贸易有限公司",
         "offsetgroup": "武汉鼎联丰国际贸易有限公司",
         "orientation": "v",
         "showlegend": true,
         "text": [
          48277983.5
         ],
         "textposition": "auto",
         "type": "bar",
         "x": [
          "武汉鼎联丰国际贸易有限公司"
         ],
         "xaxis": "x",
         "y": [
          48277983.5
         ],
         "yaxis": "y"
        },
        {
         "alignmentgroup": "True",
         "hovertemplate": "company_name=%{x}<br>SALES=%{text}<extra></extra>",
         "legendgroup": "湖北华中能源发展有限公司",
         "marker": {
          "color": "#EF553B",
          "pattern": {
           "shape": ""
          }
         },
         "name": "湖北华中能源发展有限公司",
         "offsetgroup": "湖北华中能源发展有限公司",
         "orientation": "v",
         "showlegend": true,
         "text": [
          44096354.7
         ],
         "textposition": "auto",
         "type": "bar",
         "x": [
          "湖北华中能源发展有限公司"
         ],
         "xaxis": "x",
         "y": [
          44096354.7
         ],
         "yaxis": "y"
        },
        {
         "alignmentgroup": "True",
         "hovertemplate": "company_name=%{x}<br>SALES=%{text}<extra></extra>",
         "legendgroup": "湖北南方大集实业有限公司",
         "marker": {
          "color": "#00cc96",
          "pattern": {
           "shape": ""
          }
         },
         "name": "湖北南方大集实业有限公司",
         "offsetgroup": "湖北南方大集实业有限公司",
         "orientation": "v",
         "showlegend": true,
         "text": [
          31783572.8
         ],
         "textposition": "auto",
         "type": "bar",
         "x": [
          "湖北南方大集实业有限公司"
         ],
         "xaxis": "x",
         "y": [
          31783572.8
         ],
         "yaxis": "y"
        },
        {
         "alignmentgroup": "True",
         "hovertemplate": "company_name=%{x}<br>SALES=%{text}<extra></extra>",
         "legendgroup": "湖北南方大集实业有限公司东西湖分公司",
         "marker": {
          "color": "#ab63fa",
          "pattern": {
           "shape": ""
          }
         },
         "name": "湖北南方大集实业有限公司东西湖分公司",
         "offsetgroup": "湖北南方大集实业有限公司东西湖分公司",
         "orientation": "v",
         "showlegend": true,
         "text": [
          33676276.5
         ],
         "textposition": "auto",
         "type": "bar",
         "x": [
          "湖北南方大集实业有限公司东西湖分公司"
         ],
         "xaxis": "x",
         "y": [
          33676276.5
         ],
         "yaxis": "y"
        },
        {
         "alignmentgroup": "True",
         "hovertemplate": "company_name=%{x}<br>SALES=%{text}<extra></extra>",
         "legendgroup": "湖北南方大集实业有限公司慈惠分公司",
         "marker": {
          "color": "#FFA15A",
          "pattern": {
           "shape": ""
          }
         },
         "name": "湖北南方大集实业有限公司慈惠分公司",
         "offsetgroup": "湖北南方大集实业有限公司慈惠分公司",
         "orientation": "v",
         "showlegend": true,
         "text": [
          58605430.9
         ],
         "textposition": "auto",
         "type": "bar",
         "x": [
          "湖北南方大集实业有限公司慈惠分公司"
         ],
         "xaxis": "x",
         "y": [
          58605430.9
         ],
         "yaxis": "y"
        },
        {
         "alignmentgroup": "True",
         "hovertemplate": "company_name=%{x}<br>SALES=%{text}<extra></extra>",
         "legendgroup": "湖北南方大集实业有限公司江汉分公司",
         "marker": {
          "color": "#19d3f3",
          "pattern": {
           "shape": ""
          }
         },
         "name": "湖北南方大集实业有限公司江汉分公司",
         "offsetgroup": "湖北南方大集实业有限公司江汉分公司",
         "orientation": "v",
         "showlegend": true,
         "text": [
          33316581.2
         ],
         "textposition": "auto",
         "type": "bar",
         "x": [
          "湖北南方大集实业有限公司江汉分公司"
         ],
         "xaxis": "x",
         "y": [
          33316581.2
         ],
         "yaxis": "y"
        },
        {
         "alignmentgroup": "True",
         "hovertemplate": "company_name=%{x}<br>SALES=%{text}<extra></extra>",
         "legendgroup": "湖北南方大集实业有限公司能源分公司",
         "marker": {
          "color": "#FF6692",
          "pattern": {
           "shape": ""
          }
         },
         "name": "湖北南方大集实业有限公司能源分公司",
         "offsetgroup": "湖北南方大集实业有限公司能源分公司",
         "orientation": "v",
         "showlegend": true,
         "text": [
          49384693.4
         ],
         "textposition": "auto",
         "type": "bar",
         "x": [
          "湖北南方大集实业有限公司能源分公司"
         ],
         "xaxis": "x",
         "y": [
          49384693.4
         ],
         "yaxis": "y"
        },
        {
         "alignmentgroup": "True",
         "hovertemplate": "company_name=%{x}<br>SALES=%{text}<extra></extra>",
         "legendgroup": "湖北南方工贸有限公司",
         "marker": {
          "color": "#B6E880",
          "pattern": {
           "shape": ""
          }
         },
         "name": "湖北南方工贸有限公司",
         "offsetgroup": "湖北南方工贸有限公司",
         "orientation": "v",
         "showlegend": true,
         "text": [
          31333043.2
         ],
         "textposition": "auto",
         "type": "bar",
         "x": [
          "湖北南方工贸有限公司"
         ],
         "xaxis": "x",
         "y": [
          31333043.2
         ],
         "yaxis": "y"
        },
        {
         "alignmentgroup": "True",
         "hovertemplate": "company_name=%{x}<br>SALES=%{text}<extra></extra>",
         "legendgroup": "湖北南方集团有限公司",
         "marker": {
          "color": "#FF97FF",
          "pattern": {
           "shape": ""
          }
         },
         "name": "湖北南方集团有限公司",
         "offsetgroup": "湖北南方集团有限公司",
         "orientation": "v",
         "showlegend": true,
         "text": [
          39026487.9
         ],
         "textposition": "auto",
         "type": "bar",
         "x": [
          "湖北南方集团有限公司"
         ],
         "xaxis": "x",
         "y": [
          39026487.9
         ],
         "yaxis": "y"
        },
        {
         "alignmentgroup": "True",
         "hovertemplate": "company_name=%{x}<br>SALES=%{text}<extra></extra>",
         "legendgroup": "湖北国贸供应链管理有限公司",
         "marker": {
          "color": "#FECB52",
          "pattern": {
           "shape": ""
          }
         },
         "name": "湖北国贸供应链管理有限公司",
         "offsetgroup": "湖北国贸供应链管理有限公司",
         "orientation": "v",
         "showlegend": true,
         "text": [
          61494324.7
         ],
         "textposition": "auto",
         "type": "bar",
         "x": [
          "湖北国贸供应链管理有限公司"
         ],
         "xaxis": "x",
         "y": [
          61494324.7
         ],
         "yaxis": "y"
        },
        {
         "alignmentgroup": "True",
         "hovertemplate": "company_name=%{x}<br>SALES=%{text}<extra></extra>",
         "legendgroup": "湖北国贸农产品有限公司",
         "marker": {
          "color": "#636efa",
          "pattern": {
           "shape": ""
          }
         },
         "name": "湖北国贸农产品有限公司",
         "offsetgroup": "湖北国贸农产品有限公司",
         "orientation": "v",
         "showlegend": true,
         "text": [
          38685710.4
         ],
         "textposition": "auto",
         "type": "bar",
         "x": [
          "湖北国贸农产品有限公司"
         ],
         "xaxis": "x",
         "y": [
          38685710.4
         ],
         "yaxis": "y"
        },
        {
         "alignmentgroup": "True",
         "hovertemplate": "company_name=%{x}<br>SALES=%{text}<extra></extra>",
         "legendgroup": "湖北国贸农产品有限公司武汉分公司",
         "marker": {
          "color": "#EF553B",
          "pattern": {
           "shape": ""
          }
         },
         "name": "湖北国贸农产品有限公司武汉分公司",
         "offsetgroup": "湖北国贸农产品有限公司武汉分公司",
         "orientation": "v",
         "showlegend": true,
         "text": [
          57377922.9
         ],
         "textposition": "auto",
         "type": "bar",
         "x": [
          "湖北国贸农产品有限公司武汉分公司"
         ],
         "xaxis": "x",
         "y": [
          57377922.9
         ],
         "yaxis": "y"
        },
        {
         "alignmentgroup": "True",
         "hovertemplate": "company_name=%{x}<br>SALES=%{text}<extra></extra>",
         "legendgroup": "湖北国贸汽车有限公司",
         "marker": {
          "color": "#00cc96",
          "pattern": {
           "shape": ""
          }
         },
         "name": "湖北国贸汽车有限公司",
         "offsetgroup": "湖北国贸汽车有限公司",
         "orientation": "v",
         "showlegend": true,
         "text": [
          57710527.2
         ],
         "textposition": "auto",
         "type": "bar",
         "x": [
          "湖北国贸汽车有限公司"
         ],
         "xaxis": "x",
         "y": [
          57710527.2
         ],
         "yaxis": "y"
        },
        {
         "alignmentgroup": "True",
         "hovertemplate": "company_name=%{x}<br>SALES=%{text}<extra></extra>",
         "legendgroup": "湖北国贸汽车有限公司红安分公司",
         "marker": {
          "color": "#ab63fa",
          "pattern": {
           "shape": ""
          }
         },
         "name": "湖北国贸汽车有限公司红安分公司",
         "offsetgroup": "湖北国贸汽车有限公司红安分公司",
         "orientation": "v",
         "showlegend": true,
         "text": [
          37318654.3
         ],
         "textposition": "auto",
         "type": "bar",
         "x": [
          "湖北国贸汽车有限公司红安分公司"
         ],
         "xaxis": "x",
         "y": [
          37318654.3
         ],
         "yaxis": "y"
        },
        {
         "alignmentgroup": "True",
         "hovertemplate": "company_name=%{x}<br>SALES=%{text}<extra></extra>",
         "legendgroup": "湖北国贸能源化工有限公司",
         "marker": {
          "color": "#FFA15A",
          "pattern": {
           "shape": ""
          }
         },
         "name": "湖北国贸能源化工有限公司",
         "offsetgroup": "湖北国贸能源化工有限公司",
         "orientation": "v",
         "showlegend": true,
         "text": [
          48300935.7
         ],
         "textposition": "auto",
         "type": "bar",
         "x": [
          "湖北国贸能源化工有限公司"
         ],
         "xaxis": "x",
         "y": [
          48300935.7
         ],
         "yaxis": "y"
        },
        {
         "alignmentgroup": "True",
         "hovertemplate": "company_name=%{x}<br>SALES=%{text}<extra></extra>",
         "legendgroup": "湖北国贸金属矿产有限公司",
         "marker": {
          "color": "#19d3f3",
          "pattern": {
           "shape": ""
          }
         },
         "name": "湖北国贸金属矿产有限公司",
         "offsetgroup": "湖北国贸金属矿产有限公司",
         "orientation": "v",
         "showlegend": true,
         "text": [
          39468736.3
         ],
         "textposition": "auto",
         "type": "bar",
         "x": [
          "湖北国贸金属矿产有限公司"
         ],
         "xaxis": "x",
         "y": [
          39468736.3
         ],
         "yaxis": "y"
        },
        {
         "alignmentgroup": "True",
         "hovertemplate": "company_name=%{x}<br>SALES=%{text}<extra></extra>",
         "legendgroup": "湖北国际贸易集团有限公司",
         "marker": {
          "color": "#FF6692",
          "pattern": {
           "shape": ""
          }
         },
         "name": "湖北国际贸易集团有限公司",
         "offsetgroup": "湖北国际贸易集团有限公司",
         "orientation": "v",
         "showlegend": true,
         "text": [
          66028788.5
         ],
         "textposition": "auto",
         "type": "bar",
         "x": [
          "湖北国际贸易集团有限公司"
         ],
         "xaxis": "x",
         "y": [
          66028788.5
         ],
         "yaxis": "y"
        }
       ],
       "layout": {
        "barmode": "relative",
        "legend": {
         "title": {
          "text": "company_name"
         },
         "tracegroupgap": 0
        },
        "margin": {
         "t": 60
        },
        "template": {
         "data": {
          "bar": [
           {
            "error_x": {
             "color": "#2a3f5f"
            },
            "error_y": {
             "color": "#2a3f5f"
            },
            "marker": {
             "line": {
              "color": "#E5ECF6",
              "width": 0.5
             },
             "pattern": {
              "fillmode": "overlay",
              "size": 10,
              "solidity": 0.2
             }
            },
            "type": "bar"
           }
          ],
          "barpolar": [
           {
            "marker": {
             "line": {
              "color": "#E5ECF6",
              "width": 0.5
             },
             "pattern": {
              "fillmode": "overlay",
              "size": 10,
              "solidity": 0.2
             }
            },
            "type": "barpolar"
           }
          ],
          "carpet": [
           {
            "aaxis": {
             "endlinecolor": "#2a3f5f",
             "gridcolor": "white",
             "linecolor": "white",
             "minorgridcolor": "white",
             "startlinecolor": "#2a3f5f"
            },
            "baxis": {
             "endlinecolor": "#2a3f5f",
             "gridcolor": "white",
             "linecolor": "white",
             "minorgridcolor": "white",
             "startlinecolor": "#2a3f5f"
            },
            "type": "carpet"
           }
          ],
          "choropleth": [
           {
            "colorbar": {
             "outlinewidth": 0,
             "ticks": ""
            },
            "type": "choropleth"
           }
          ],
          "contour": [
           {
            "colorbar": {
             "outlinewidth": 0,
             "ticks": ""
            },
            "colorscale": [
             [
              0,
              "#0d0887"
             ],
             [
              0.1111111111111111,
              "#46039f"
             ],
             [
              0.2222222222222222,
              "#7201a8"
             ],
             [
              0.3333333333333333,
              "#9c179e"
             ],
             [
              0.4444444444444444,
              "#bd3786"
             ],
             [
              0.5555555555555556,
              "#d8576b"
             ],
             [
              0.6666666666666666,
              "#ed7953"
             ],
             [
              0.7777777777777778,
              "#fb9f3a"
             ],
             [
              0.8888888888888888,
              "#fdca26"
             ],
             [
              1,
              "#f0f921"
             ]
            ],
            "type": "contour"
           }
          ],
          "contourcarpet": [
           {
            "colorbar": {
             "outlinewidth": 0,
             "ticks": ""
            },
            "type": "contourcarpet"
           }
          ],
          "heatmap": [
           {
            "colorbar": {
             "outlinewidth": 0,
             "ticks": ""
            },
            "colorscale": [
             [
              0,
              "#0d0887"
             ],
             [
              0.1111111111111111,
              "#46039f"
             ],
             [
              0.2222222222222222,
              "#7201a8"
             ],
             [
              0.3333333333333333,
              "#9c179e"
             ],
             [
              0.4444444444444444,
              "#bd3786"
             ],
             [
              0.5555555555555556,
              "#d8576b"
             ],
             [
              0.6666666666666666,
              "#ed7953"
             ],
             [
              0.7777777777777778,
              "#fb9f3a"
             ],
             [
              0.8888888888888888,
              "#fdca26"
             ],
             [
              1,
              "#f0f921"
             ]
            ],
            "type": "heatmap"
           }
          ],
          "heatmapgl": [
           {
            "colorbar": {
             "outlinewidth": 0,
             "ticks": ""
            },
            "colorscale": [
             [
              0,
              "#0d0887"
             ],
             [
              0.1111111111111111,
              "#46039f"
             ],
             [
              0.2222222222222222,
              "#7201a8"
             ],
             [
              0.3333333333333333,
              "#9c179e"
             ],
             [
              0.4444444444444444,
              "#bd3786"
             ],
             [
              0.5555555555555556,
              "#d8576b"
             ],
             [
              0.6666666666666666,
              "#ed7953"
             ],
             [
              0.7777777777777778,
              "#fb9f3a"
             ],
             [
              0.8888888888888888,
              "#fdca26"
             ],
             [
              1,
              "#f0f921"
             ]
            ],
            "type": "heatmapgl"
           }
          ],
          "histogram": [
           {
            "marker": {
             "pattern": {
              "fillmode": "overlay",
              "size": 10,
              "solidity": 0.2
             }
            },
            "type": "histogram"
           }
          ],
          "histogram2d": [
           {
            "colorbar": {
             "outlinewidth": 0,
             "ticks": ""
            },
            "colorscale": [
             [
              0,
              "#0d0887"
             ],
             [
              0.1111111111111111,
              "#46039f"
             ],
             [
              0.2222222222222222,
              "#7201a8"
             ],
             [
              0.3333333333333333,
              "#9c179e"
             ],
             [
              0.4444444444444444,
              "#bd3786"
             ],
             [
              0.5555555555555556,
              "#d8576b"
             ],
             [
              0.6666666666666666,
              "#ed7953"
             ],
             [
              0.7777777777777778,
              "#fb9f3a"
             ],
             [
              0.8888888888888888,
              "#fdca26"
             ],
             [
              1,
              "#f0f921"
             ]
            ],
            "type": "histogram2d"
           }
          ],
          "histogram2dcontour": [
           {
            "colorbar": {
             "outlinewidth": 0,
             "ticks": ""
            },
            "colorscale": [
             [
              0,
              "#0d0887"
             ],
             [
              0.1111111111111111,
              "#46039f"
             ],
             [
              0.2222222222222222,
              "#7201a8"
             ],
             [
              0.3333333333333333,
              "#9c179e"
             ],
             [
              0.4444444444444444,
              "#bd3786"
             ],
             [
              0.5555555555555556,
              "#d8576b"
             ],
             [
              0.6666666666666666,
              "#ed7953"
             ],
             [
              0.7777777777777778,
              "#fb9f3a"
             ],
             [
              0.8888888888888888,
              "#fdca26"
             ],
             [
              1,
              "#f0f921"
             ]
            ],
            "type": "histogram2dcontour"
           }
          ],
          "mesh3d": [
           {
            "colorbar": {
             "outlinewidth": 0,
             "ticks": ""
            },
            "type": "mesh3d"
           }
          ],
          "parcoords": [
           {
            "line": {
             "colorbar": {
              "outlinewidth": 0,
              "ticks": ""
             }
            },
            "type": "parcoords"
           }
          ],
          "pie": [
           {
            "automargin": true,
            "type": "pie"
           }
          ],
          "scatter": [
           {
            "fillpattern": {
             "fillmode": "overlay",
             "size": 10,
             "solidity": 0.2
            },
            "type": "scatter"
           }
          ],
          "scatter3d": [
           {
            "line": {
             "colorbar": {
              "outlinewidth": 0,
              "ticks": ""
             }
            },
            "marker": {
             "colorbar": {
              "outlinewidth": 0,
              "ticks": ""
             }
            },
            "type": "scatter3d"
           }
          ],
          "scattercarpet": [
           {
            "marker": {
             "colorbar": {
              "outlinewidth": 0,
              "ticks": ""
             }
            },
            "type": "scattercarpet"
           }
          ],
          "scattergeo": [
           {
            "marker": {
             "colorbar": {
              "outlinewidth": 0,
              "ticks": ""
             }
            },
            "type": "scattergeo"
           }
          ],
          "scattergl": [
           {
            "marker": {
             "colorbar": {
              "outlinewidth": 0,
              "ticks": ""
             }
            },
            "type": "scattergl"
           }
          ],
          "scattermapbox": [
           {
            "marker": {
             "colorbar": {
              "outlinewidth": 0,
              "ticks": ""
             }
            },
            "type": "scattermapbox"
           }
          ],
          "scatterpolar": [
           {
            "marker": {
             "colorbar": {
              "outlinewidth": 0,
              "ticks": ""
             }
            },
            "type": "scatterpolar"
           }
          ],
          "scatterpolargl": [
           {
            "marker": {
             "colorbar": {
              "outlinewidth": 0,
              "ticks": ""
             }
            },
            "type": "scatterpolargl"
           }
          ],
          "scatterternary": [
           {
            "marker": {
             "colorbar": {
              "outlinewidth": 0,
              "ticks": ""
             }
            },
            "type": "scatterternary"
           }
          ],
          "surface": [
           {
            "colorbar": {
             "outlinewidth": 0,
             "ticks": ""
            },
            "colorscale": [
             [
              0,
              "#0d0887"
             ],
             [
              0.1111111111111111,
              "#46039f"
             ],
             [
              0.2222222222222222,
              "#7201a8"
             ],
             [
              0.3333333333333333,
              "#9c179e"
             ],
             [
              0.4444444444444444,
              "#bd3786"
             ],
             [
              0.5555555555555556,
              "#d8576b"
             ],
             [
              0.6666666666666666,
              "#ed7953"
             ],
             [
              0.7777777777777778,
              "#fb9f3a"
             ],
             [
              0.8888888888888888,
              "#fdca26"
             ],
             [
              1,
              "#f0f921"
             ]
            ],
            "type": "surface"
           }
          ],
          "table": [
           {
            "cells": {
             "fill": {
              "color": "#EBF0F8"
             },
             "line": {
              "color": "white"
             }
            },
            "header": {
             "fill": {
              "color": "#C8D4E3"
             },
             "line": {
              "color": "white"
             }
            },
            "type": "table"
           }
          ]
         },
         "layout": {
          "annotationdefaults": {
           "arrowcolor": "#2a3f5f",
           "arrowhead": 0,
           "arrowwidth": 1
          },
          "autotypenumbers": "strict",
          "coloraxis": {
           "colorbar": {
            "outlinewidth": 0,
            "ticks": ""
           }
          },
          "colorscale": {
           "diverging": [
            [
             0,
             "#8e0152"
            ],
            [
             0.1,
             "#c51b7d"
            ],
            [
             0.2,
             "#de77ae"
            ],
            [
             0.3,
             "#f1b6da"
            ],
            [
             0.4,
             "#fde0ef"
            ],
            [
             0.5,
             "#f7f7f7"
            ],
            [
             0.6,
             "#e6f5d0"
            ],
            [
             0.7,
             "#b8e186"
            ],
            [
             0.8,
             "#7fbc41"
            ],
            [
             0.9,
             "#4d9221"
            ],
            [
             1,
             "#276419"
            ]
           ],
           "sequential": [
            [
             0,
             "#0d0887"
            ],
            [
             0.1111111111111111,
             "#46039f"
            ],
            [
             0.2222222222222222,
             "#7201a8"
            ],
            [
             0.3333333333333333,
             "#9c179e"
            ],
            [
             0.4444444444444444,
             "#bd3786"
            ],
            [
             0.5555555555555556,
             "#d8576b"
            ],
            [
             0.6666666666666666,
             "#ed7953"
            ],
            [
             0.7777777777777778,
             "#fb9f3a"
            ],
            [
             0.8888888888888888,
             "#fdca26"
            ],
            [
             1,
             "#f0f921"
            ]
           ],
           "sequentialminus": [
            [
             0,
             "#0d0887"
            ],
            [
             0.1111111111111111,
             "#46039f"
            ],
            [
             0.2222222222222222,
             "#7201a8"
            ],
            [
             0.3333333333333333,
             "#9c179e"
            ],
            [
             0.4444444444444444,
             "#bd3786"
            ],
            [
             0.5555555555555556,
             "#d8576b"
            ],
            [
             0.6666666666666666,
             "#ed7953"
            ],
            [
             0.7777777777777778,
             "#fb9f3a"
            ],
            [
             0.8888888888888888,
             "#fdca26"
            ],
            [
             1,
             "#f0f921"
            ]
           ]
          },
          "colorway": [
           "#636efa",
           "#EF553B",
           "#00cc96",
           "#ab63fa",
           "#FFA15A",
           "#19d3f3",
           "#FF6692",
           "#B6E880",
           "#FF97FF",
           "#FECB52"
          ],
          "font": {
           "color": "#2a3f5f"
          },
          "geo": {
           "bgcolor": "white",
           "lakecolor": "white",
           "landcolor": "#E5ECF6",
           "showlakes": true,
           "showland": true,
           "subunitcolor": "white"
          },
          "hoverlabel": {
           "align": "left"
          },
          "hovermode": "closest",
          "mapbox": {
           "style": "light"
          },
          "paper_bgcolor": "white",
          "plot_bgcolor": "#E5ECF6",
          "polar": {
           "angularaxis": {
            "gridcolor": "white",
            "linecolor": "white",
            "ticks": ""
           },
           "bgcolor": "#E5ECF6",
           "radialaxis": {
            "gridcolor": "white",
            "linecolor": "white",
            "ticks": ""
           }
          },
          "scene": {
           "xaxis": {
            "backgroundcolor": "#E5ECF6",
            "gridcolor": "white",
            "gridwidth": 2,
            "linecolor": "white",
            "showbackground": true,
            "ticks": "",
            "zerolinecolor": "white"
           },
           "yaxis": {
            "backgroundcolor": "#E5ECF6",
            "gridcolor": "white",
            "gridwidth": 2,
            "linecolor": "white",
            "showbackground": true,
            "ticks": "",
            "zerolinecolor": "white"
           },
           "zaxis": {
            "backgroundcolor": "#E5ECF6",
            "gridcolor": "white",
            "gridwidth": 2,
            "linecolor": "white",
            "showbackground": true,
            "ticks": "",
            "zerolinecolor": "white"
           }
          },
          "shapedefaults": {
           "line": {
            "color": "#2a3f5f"
           }
          },
          "ternary": {
           "aaxis": {
            "gridcolor": "white",
            "linecolor": "white",
            "ticks": ""
           },
           "baxis": {
            "gridcolor": "white",
            "linecolor": "white",
            "ticks": ""
           },
           "bgcolor": "#E5ECF6",
           "caxis": {
            "gridcolor": "white",
            "linecolor": "white",
            "ticks": ""
           }
          },
          "title": {
           "x": 0.05
          },
          "xaxis": {
           "automargin": true,
           "gridcolor": "white",
           "linecolor": "white",
           "ticks": "",
           "title": {
            "standoff": 15
           },
           "zerolinecolor": "white",
           "zerolinewidth": 2
          },
          "yaxis": {
           "automargin": true,
           "gridcolor": "white",
           "linecolor": "white",
           "ticks": "",
           "title": {
            "standoff": 15
           },
           "zerolinecolor": "white",
           "zerolinewidth": 2
          }
         }
        },
        "xaxis": {
         "anchor": "y",
         "categoryarray": [
          "武汉鼎联丰国际贸易有限公司",
          "湖北华中能源发展有限公司",
          "湖北南方大集实业有限公司",
          "湖北南方大集实业有限公司东西湖分公司",
          "湖北南方大集实业有限公司慈惠分公司",
          "湖北南方大集实业有限公司江汉分公司",
          "湖北南方大集实业有限公司能源分公司",
          "湖北南方工贸有限公司",
          "湖北南方集团有限公司",
          "湖北国贸供应链管理有限公司",
          "湖北国贸农产品有限公司",
          "湖北国贸农产品有限公司武汉分公司",
          "湖北国贸汽车有限公司",
          "湖北国贸汽车有限公司红安分公司",
          "湖北国贸能源化工有限公司",
          "湖北国贸金属矿产有限公司",
          "湖北国际贸易集团有限公司"
         ],
         "categoryorder": "array",
         "domain": [
          0,
          1
         ],
         "title": {
          "text": "company_name"
         }
        },
        "yaxis": {
         "anchor": "x",
         "domain": [
          0,
          1
         ],
         "title": {
          "text": "SALES"
         }
        }
       }
      }
     },
     "metadata": {},
     "output_type": "display_data"
    },
    {
     "data": {
      "application/vnd.plotly.v1+json": {
       "config": {
        "plotlyServerURL": "https://plot.ly"
       },
       "data": [
        {
         "alignmentgroup": "True",
         "hovertemplate": "company_name=%{x}<br>SALES=%{text}<extra></extra>",
         "legendgroup": "武汉鼎联丰国际贸易有限公司",
         "marker": {
          "color": "#636efa",
          "pattern": {
           "shape": ""
          }
         },
         "name": "武汉鼎联丰国际贸易有限公司",
         "offsetgroup": "武汉鼎联丰国际贸易有限公司",
         "orientation": "v",
         "showlegend": true,
         "text": [
          60767700.9
         ],
         "textposition": "auto",
         "type": "bar",
         "x": [
          "武汉鼎联丰国际贸易有限公司"
         ],
         "xaxis": "x",
         "y": [
          60767700.9
         ],
         "yaxis": "y"
        },
        {
         "alignmentgroup": "True",
         "hovertemplate": "company_name=%{x}<br>SALES=%{text}<extra></extra>",
         "legendgroup": "湖北华中能源发展有限公司",
         "marker": {
          "color": "#EF553B",
          "pattern": {
           "shape": ""
          }
         },
         "name": "湖北华中能源发展有限公司",
         "offsetgroup": "湖北华中能源发展有限公司",
         "orientation": "v",
         "showlegend": true,
         "text": [
          77606591.7
         ],
         "textposition": "auto",
         "type": "bar",
         "x": [
          "湖北华中能源发展有限公司"
         ],
         "xaxis": "x",
         "y": [
          77606591.7
         ],
         "yaxis": "y"
        },
        {
         "alignmentgroup": "True",
         "hovertemplate": "company_name=%{x}<br>SALES=%{text}<extra></extra>",
         "legendgroup": "湖北南方大集实业有限公司",
         "marker": {
          "color": "#00cc96",
          "pattern": {
           "shape": ""
          }
         },
         "name": "湖北南方大集实业有限公司",
         "offsetgroup": "湖北南方大集实业有限公司",
         "orientation": "v",
         "showlegend": true,
         "text": [
          69594463.6
         ],
         "textposition": "auto",
         "type": "bar",
         "x": [
          "湖北南方大集实业有限公司"
         ],
         "xaxis": "x",
         "y": [
          69594463.6
         ],
         "yaxis": "y"
        },
        {
         "alignmentgroup": "True",
         "hovertemplate": "company_name=%{x}<br>SALES=%{text}<extra></extra>",
         "legendgroup": "湖北南方大集实业有限公司东西湖分公司",
         "marker": {
          "color": "#ab63fa",
          "pattern": {
           "shape": ""
          }
         },
         "name": "湖北南方大集实业有限公司东西湖分公司",
         "offsetgroup": "湖北南方大集实业有限公司东西湖分公司",
         "orientation": "v",
         "showlegend": true,
         "text": [
          68126462.8
         ],
         "textposition": "auto",
         "type": "bar",
         "x": [
          "湖北南方大集实业有限公司东西湖分公司"
         ],
         "xaxis": "x",
         "y": [
          68126462.8
         ],
         "yaxis": "y"
        },
        {
         "alignmentgroup": "True",
         "hovertemplate": "company_name=%{x}<br>SALES=%{text}<extra></extra>",
         "legendgroup": "湖北南方大集实业有限公司慈惠分公司",
         "marker": {
          "color": "#FFA15A",
          "pattern": {
           "shape": ""
          }
         },
         "name": "湖北南方大集实业有限公司慈惠分公司",
         "offsetgroup": "湖北南方大集实业有限公司慈惠分公司",
         "orientation": "v",
         "showlegend": true,
         "text": [
          103116025.2
         ],
         "textposition": "auto",
         "type": "bar",
         "x": [
          "湖北南方大集实业有限公司慈惠分公司"
         ],
         "xaxis": "x",
         "y": [
          103116025.2
         ],
         "yaxis": "y"
        },
        {
         "alignmentgroup": "True",
         "hovertemplate": "company_name=%{x}<br>SALES=%{text}<extra></extra>",
         "legendgroup": "湖北南方大集实业有限公司江汉分公司",
         "marker": {
          "color": "#19d3f3",
          "pattern": {
           "shape": ""
          }
         },
         "name": "湖北南方大集实业有限公司江汉分公司",
         "offsetgroup": "湖北南方大集实业有限公司江汉分公司",
         "orientation": "v",
         "showlegend": true,
         "text": [
          48015375.9
         ],
         "textposition": "auto",
         "type": "bar",
         "x": [
          "湖北南方大集实业有限公司江汉分公司"
         ],
         "xaxis": "x",
         "y": [
          48015375.9
         ],
         "yaxis": "y"
        },
        {
         "alignmentgroup": "True",
         "hovertemplate": "company_name=%{x}<br>SALES=%{text}<extra></extra>",
         "legendgroup": "湖北南方大集实业有限公司能源分公司",
         "marker": {
          "color": "#FF6692",
          "pattern": {
           "shape": ""
          }
         },
         "name": "湖北南方大集实业有限公司能源分公司",
         "offsetgroup": "湖北南方大集实业有限公司能源分公司",
         "orientation": "v",
         "showlegend": true,
         "text": [
          88091479.5
         ],
         "textposition": "auto",
         "type": "bar",
         "x": [
          "湖北南方大集实业有限公司能源分公司"
         ],
         "xaxis": "x",
         "y": [
          88091479.5
         ],
         "yaxis": "y"
        },
        {
         "alignmentgroup": "True",
         "hovertemplate": "company_name=%{x}<br>SALES=%{text}<extra></extra>",
         "legendgroup": "湖北南方工贸有限公司",
         "marker": {
          "color": "#B6E880",
          "pattern": {
           "shape": ""
          }
         },
         "name": "湖北南方工贸有限公司",
         "offsetgroup": "湖北南方工贸有限公司",
         "orientation": "v",
         "showlegend": true,
         "text": [
          88815031.3
         ],
         "textposition": "auto",
         "type": "bar",
         "x": [
          "湖北南方工贸有限公司"
         ],
         "xaxis": "x",
         "y": [
          88815031.3
         ],
         "yaxis": "y"
        },
        {
         "alignmentgroup": "True",
         "hovertemplate": "company_name=%{x}<br>SALES=%{text}<extra></extra>",
         "legendgroup": "湖北南方集团有限公司",
         "marker": {
          "color": "#FF97FF",
          "pattern": {
           "shape": ""
          }
         },
         "name": "湖北南方集团有限公司",
         "offsetgroup": "湖北南方集团有限公司",
         "orientation": "v",
         "showlegend": true,
         "text": [
          76352368.9
         ],
         "textposition": "auto",
         "type": "bar",
         "x": [
          "湖北南方集团有限公司"
         ],
         "xaxis": "x",
         "y": [
          76352368.9
         ],
         "yaxis": "y"
        },
        {
         "alignmentgroup": "True",
         "hovertemplate": "company_name=%{x}<br>SALES=%{text}<extra></extra>",
         "legendgroup": "湖北国贸供应链管理有限公司",
         "marker": {
          "color": "#FECB52",
          "pattern": {
           "shape": ""
          }
         },
         "name": "湖北国贸供应链管理有限公司",
         "offsetgroup": "湖北国贸供应链管理有限公司",
         "orientation": "v",
         "showlegend": true,
         "text": [
          66444005.4
         ],
         "textposition": "auto",
         "type": "bar",
         "x": [
          "湖北国贸供应链管理有限公司"
         ],
         "xaxis": "x",
         "y": [
          66444005.4
         ],
         "yaxis": "y"
        },
        {
         "alignmentgroup": "True",
         "hovertemplate": "company_name=%{x}<br>SALES=%{text}<extra></extra>",
         "legendgroup": "湖北国贸农产品有限公司",
         "marker": {
          "color": "#636efa",
          "pattern": {
           "shape": ""
          }
         },
         "name": "湖北国贸农产品有限公司",
         "offsetgroup": "湖北国贸农产品有限公司",
         "orientation": "v",
         "showlegend": true,
         "text": [
          53719231.4
         ],
         "textposition": "auto",
         "type": "bar",
         "x": [
          "湖北国贸农产品有限公司"
         ],
         "xaxis": "x",
         "y": [
          53719231.4
         ],
         "yaxis": "y"
        },
        {
         "alignmentgroup": "True",
         "hovertemplate": "company_name=%{x}<br>SALES=%{text}<extra></extra>",
         "legendgroup": "湖北国贸农产品有限公司武汉分公司",
         "marker": {
          "color": "#EF553B",
          "pattern": {
           "shape": ""
          }
         },
         "name": "湖北国贸农产品有限公司武汉分公司",
         "offsetgroup": "湖北国贸农产品有限公司武汉分公司",
         "orientation": "v",
         "showlegend": true,
         "text": [
          48625562.5
         ],
         "textposition": "auto",
         "type": "bar",
         "x": [
          "湖北国贸农产品有限公司武汉分公司"
         ],
         "xaxis": "x",
         "y": [
          48625562.5
         ],
         "yaxis": "y"
        },
        {
         "alignmentgroup": "True",
         "hovertemplate": "company_name=%{x}<br>SALES=%{text}<extra></extra>",
         "legendgroup": "湖北国贸汽车有限公司",
         "marker": {
          "color": "#00cc96",
          "pattern": {
           "shape": ""
          }
         },
         "name": "湖北国贸汽车有限公司",
         "offsetgroup": "湖北国贸汽车有限公司",
         "orientation": "v",
         "showlegend": true,
         "text": [
          86049023.2
         ],
         "textposition": "auto",
         "type": "bar",
         "x": [
          "湖北国贸汽车有限公司"
         ],
         "xaxis": "x",
         "y": [
          86049023.2
         ],
         "yaxis": "y"
        },
        {
         "alignmentgroup": "True",
         "hovertemplate": "company_name=%{x}<br>SALES=%{text}<extra></extra>",
         "legendgroup": "湖北国贸汽车有限公司红安分公司",
         "marker": {
          "color": "#ab63fa",
          "pattern": {
           "shape": ""
          }
         },
         "name": "湖北国贸汽车有限公司红安分公司",
         "offsetgroup": "湖北国贸汽车有限公司红安分公司",
         "orientation": "v",
         "showlegend": true,
         "text": [
          71187399
         ],
         "textposition": "auto",
         "type": "bar",
         "x": [
          "湖北国贸汽车有限公司红安分公司"
         ],
         "xaxis": "x",
         "y": [
          71187399
         ],
         "yaxis": "y"
        },
        {
         "alignmentgroup": "True",
         "hovertemplate": "company_name=%{x}<br>SALES=%{text}<extra></extra>",
         "legendgroup": "湖北国贸能源化工有限公司",
         "marker": {
          "color": "#FFA15A",
          "pattern": {
           "shape": ""
          }
         },
         "name": "湖北国贸能源化工有限公司",
         "offsetgroup": "湖北国贸能源化工有限公司",
         "orientation": "v",
         "showlegend": true,
         "text": [
          68407461.2
         ],
         "textposition": "auto",
         "type": "bar",
         "x": [
          "湖北国贸能源化工有限公司"
         ],
         "xaxis": "x",
         "y": [
          68407461.2
         ],
         "yaxis": "y"
        },
        {
         "alignmentgroup": "True",
         "hovertemplate": "company_name=%{x}<br>SALES=%{text}<extra></extra>",
         "legendgroup": "湖北国贸金属矿产有限公司",
         "marker": {
          "color": "#19d3f3",
          "pattern": {
           "shape": ""
          }
         },
         "name": "湖北国贸金属矿产有限公司",
         "offsetgroup": "湖北国贸金属矿产有限公司",
         "orientation": "v",
         "showlegend": true,
         "text": [
          63679371.9
         ],
         "textposition": "auto",
         "type": "bar",
         "x": [
          "湖北国贸金属矿产有限公司"
         ],
         "xaxis": "x",
         "y": [
          63679371.9
         ],
         "yaxis": "y"
        },
        {
         "alignmentgroup": "True",
         "hovertemplate": "company_name=%{x}<br>SALES=%{text}<extra></extra>",
         "legendgroup": "湖北国际贸易集团有限公司",
         "marker": {
          "color": "#FF6692",
          "pattern": {
           "shape": ""
          }
         },
         "name": "湖北国际贸易集团有限公司",
         "offsetgroup": "湖北国际贸易集团有限公司",
         "orientation": "v",
         "showlegend": true,
         "text": [
          59591610.5
         ],
         "textposition": "auto",
         "type": "bar",
         "x": [
          "湖北国际贸易集团有限公司"
         ],
         "xaxis": "x",
         "y": [
          59591610.5
         ],
         "yaxis": "y"
        }
       ],
       "layout": {
        "barmode": "relative",
        "legend": {
         "title": {
          "text": "company_name"
         },
         "tracegroupgap": 0
        },
        "margin": {
         "t": 60
        },
        "template": {
         "data": {
          "bar": [
           {
            "error_x": {
             "color": "#2a3f5f"
            },
            "error_y": {
             "color": "#2a3f5f"
            },
            "marker": {
             "line": {
              "color": "#E5ECF6",
              "width": 0.5
             },
             "pattern": {
              "fillmode": "overlay",
              "size": 10,
              "solidity": 0.2
             }
            },
            "type": "bar"
           }
          ],
          "barpolar": [
           {
            "marker": {
             "line": {
              "color": "#E5ECF6",
              "width": 0.5
             },
             "pattern": {
              "fillmode": "overlay",
              "size": 10,
              "solidity": 0.2
             }
            },
            "type": "barpolar"
           }
          ],
          "carpet": [
           {
            "aaxis": {
             "endlinecolor": "#2a3f5f",
             "gridcolor": "white",
             "linecolor": "white",
             "minorgridcolor": "white",
             "startlinecolor": "#2a3f5f"
            },
            "baxis": {
             "endlinecolor": "#2a3f5f",
             "gridcolor": "white",
             "linecolor": "white",
             "minorgridcolor": "white",
             "startlinecolor": "#2a3f5f"
            },
            "type": "carpet"
           }
          ],
          "choropleth": [
           {
            "colorbar": {
             "outlinewidth": 0,
             "ticks": ""
            },
            "type": "choropleth"
           }
          ],
          "contour": [
           {
            "colorbar": {
             "outlinewidth": 0,
             "ticks": ""
            },
            "colorscale": [
             [
              0,
              "#0d0887"
             ],
             [
              0.1111111111111111,
              "#46039f"
             ],
             [
              0.2222222222222222,
              "#7201a8"
             ],
             [
              0.3333333333333333,
              "#9c179e"
             ],
             [
              0.4444444444444444,
              "#bd3786"
             ],
             [
              0.5555555555555556,
              "#d8576b"
             ],
             [
              0.6666666666666666,
              "#ed7953"
             ],
             [
              0.7777777777777778,
              "#fb9f3a"
             ],
             [
              0.8888888888888888,
              "#fdca26"
             ],
             [
              1,
              "#f0f921"
             ]
            ],
            "type": "contour"
           }
          ],
          "contourcarpet": [
           {
            "colorbar": {
             "outlinewidth": 0,
             "ticks": ""
            },
            "type": "contourcarpet"
           }
          ],
          "heatmap": [
           {
            "colorbar": {
             "outlinewidth": 0,
             "ticks": ""
            },
            "colorscale": [
             [
              0,
              "#0d0887"
             ],
             [
              0.1111111111111111,
              "#46039f"
             ],
             [
              0.2222222222222222,
              "#7201a8"
             ],
             [
              0.3333333333333333,
              "#9c179e"
             ],
             [
              0.4444444444444444,
              "#bd3786"
             ],
             [
              0.5555555555555556,
              "#d8576b"
             ],
             [
              0.6666666666666666,
              "#ed7953"
             ],
             [
              0.7777777777777778,
              "#fb9f3a"
             ],
             [
              0.8888888888888888,
              "#fdca26"
             ],
             [
              1,
              "#f0f921"
             ]
            ],
            "type": "heatmap"
           }
          ],
          "heatmapgl": [
           {
            "colorbar": {
             "outlinewidth": 0,
             "ticks": ""
            },
            "colorscale": [
             [
              0,
              "#0d0887"
             ],
             [
              0.1111111111111111,
              "#46039f"
             ],
             [
              0.2222222222222222,
              "#7201a8"
             ],
             [
              0.3333333333333333,
              "#9c179e"
             ],
             [
              0.4444444444444444,
              "#bd3786"
             ],
             [
              0.5555555555555556,
              "#d8576b"
             ],
             [
              0.6666666666666666,
              "#ed7953"
             ],
             [
              0.7777777777777778,
              "#fb9f3a"
             ],
             [
              0.8888888888888888,
              "#fdca26"
             ],
             [
              1,
              "#f0f921"
             ]
            ],
            "type": "heatmapgl"
           }
          ],
          "histogram": [
           {
            "marker": {
             "pattern": {
              "fillmode": "overlay",
              "size": 10,
              "solidity": 0.2
             }
            },
            "type": "histogram"
           }
          ],
          "histogram2d": [
           {
            "colorbar": {
             "outlinewidth": 0,
             "ticks": ""
            },
            "colorscale": [
             [
              0,
              "#0d0887"
             ],
             [
              0.1111111111111111,
              "#46039f"
             ],
             [
              0.2222222222222222,
              "#7201a8"
             ],
             [
              0.3333333333333333,
              "#9c179e"
             ],
             [
              0.4444444444444444,
              "#bd3786"
             ],
             [
              0.5555555555555556,
              "#d8576b"
             ],
             [
              0.6666666666666666,
              "#ed7953"
             ],
             [
              0.7777777777777778,
              "#fb9f3a"
             ],
             [
              0.8888888888888888,
              "#fdca26"
             ],
             [
              1,
              "#f0f921"
             ]
            ],
            "type": "histogram2d"
           }
          ],
          "histogram2dcontour": [
           {
            "colorbar": {
             "outlinewidth": 0,
             "ticks": ""
            },
            "colorscale": [
             [
              0,
              "#0d0887"
             ],
             [
              0.1111111111111111,
              "#46039f"
             ],
             [
              0.2222222222222222,
              "#7201a8"
             ],
             [
              0.3333333333333333,
              "#9c179e"
             ],
             [
              0.4444444444444444,
              "#bd3786"
             ],
             [
              0.5555555555555556,
              "#d8576b"
             ],
             [
              0.6666666666666666,
              "#ed7953"
             ],
             [
              0.7777777777777778,
              "#fb9f3a"
             ],
             [
              0.8888888888888888,
              "#fdca26"
             ],
             [
              1,
              "#f0f921"
             ]
            ],
            "type": "histogram2dcontour"
           }
          ],
          "mesh3d": [
           {
            "colorbar": {
             "outlinewidth": 0,
             "ticks": ""
            },
            "type": "mesh3d"
           }
          ],
          "parcoords": [
           {
            "line": {
             "colorbar": {
              "outlinewidth": 0,
              "ticks": ""
             }
            },
            "type": "parcoords"
           }
          ],
          "pie": [
           {
            "automargin": true,
            "type": "pie"
           }
          ],
          "scatter": [
           {
            "fillpattern": {
             "fillmode": "overlay",
             "size": 10,
             "solidity": 0.2
            },
            "type": "scatter"
           }
          ],
          "scatter3d": [
           {
            "line": {
             "colorbar": {
              "outlinewidth": 0,
              "ticks": ""
             }
            },
            "marker": {
             "colorbar": {
              "outlinewidth": 0,
              "ticks": ""
             }
            },
            "type": "scatter3d"
           }
          ],
          "scattercarpet": [
           {
            "marker": {
             "colorbar": {
              "outlinewidth": 0,
              "ticks": ""
             }
            },
            "type": "scattercarpet"
           }
          ],
          "scattergeo": [
           {
            "marker": {
             "colorbar": {
              "outlinewidth": 0,
              "ticks": ""
             }
            },
            "type": "scattergeo"
           }
          ],
          "scattergl": [
           {
            "marker": {
             "colorbar": {
              "outlinewidth": 0,
              "ticks": ""
             }
            },
            "type": "scattergl"
           }
          ],
          "scattermapbox": [
           {
            "marker": {
             "colorbar": {
              "outlinewidth": 0,
              "ticks": ""
             }
            },
            "type": "scattermapbox"
           }
          ],
          "scatterpolar": [
           {
            "marker": {
             "colorbar": {
              "outlinewidth": 0,
              "ticks": ""
             }
            },
            "type": "scatterpolar"
           }
          ],
          "scatterpolargl": [
           {
            "marker": {
             "colorbar": {
              "outlinewidth": 0,
              "ticks": ""
             }
            },
            "type": "scatterpolargl"
           }
          ],
          "scatterternary": [
           {
            "marker": {
             "colorbar": {
              "outlinewidth": 0,
              "ticks": ""
             }
            },
            "type": "scatterternary"
           }
          ],
          "surface": [
           {
            "colorbar": {
             "outlinewidth": 0,
             "ticks": ""
            },
            "colorscale": [
             [
              0,
              "#0d0887"
             ],
             [
              0.1111111111111111,
              "#46039f"
             ],
             [
              0.2222222222222222,
              "#7201a8"
             ],
             [
              0.3333333333333333,
              "#9c179e"
             ],
             [
              0.4444444444444444,
              "#bd3786"
             ],
             [
              0.5555555555555556,
              "#d8576b"
             ],
             [
              0.6666666666666666,
              "#ed7953"
             ],
             [
              0.7777777777777778,
              "#fb9f3a"
             ],
             [
              0.8888888888888888,
              "#fdca26"
             ],
             [
              1,
              "#f0f921"
             ]
            ],
            "type": "surface"
           }
          ],
          "table": [
           {
            "cells": {
             "fill": {
              "color": "#EBF0F8"
             },
             "line": {
              "color": "white"
             }
            },
            "header": {
             "fill": {
              "color": "#C8D4E3"
             },
             "line": {
              "color": "white"
             }
            },
            "type": "table"
           }
          ]
         },
         "layout": {
          "annotationdefaults": {
           "arrowcolor": "#2a3f5f",
           "arrowhead": 0,
           "arrowwidth": 1
          },
          "autotypenumbers": "strict",
          "coloraxis": {
           "colorbar": {
            "outlinewidth": 0,
            "ticks": ""
           }
          },
          "colorscale": {
           "diverging": [
            [
             0,
             "#8e0152"
            ],
            [
             0.1,
             "#c51b7d"
            ],
            [
             0.2,
             "#de77ae"
            ],
            [
             0.3,
             "#f1b6da"
            ],
            [
             0.4,
             "#fde0ef"
            ],
            [
             0.5,
             "#f7f7f7"
            ],
            [
             0.6,
             "#e6f5d0"
            ],
            [
             0.7,
             "#b8e186"
            ],
            [
             0.8,
             "#7fbc41"
            ],
            [
             0.9,
             "#4d9221"
            ],
            [
             1,
             "#276419"
            ]
           ],
           "sequential": [
            [
             0,
             "#0d0887"
            ],
            [
             0.1111111111111111,
             "#46039f"
            ],
            [
             0.2222222222222222,
             "#7201a8"
            ],
            [
             0.3333333333333333,
             "#9c179e"
            ],
            [
             0.4444444444444444,
             "#bd3786"
            ],
            [
             0.5555555555555556,
             "#d8576b"
            ],
            [
             0.6666666666666666,
             "#ed7953"
            ],
            [
             0.7777777777777778,
             "#fb9f3a"
            ],
            [
             0.8888888888888888,
             "#fdca26"
            ],
            [
             1,
             "#f0f921"
            ]
           ],
           "sequentialminus": [
            [
             0,
             "#0d0887"
            ],
            [
             0.1111111111111111,
             "#46039f"
            ],
            [
             0.2222222222222222,
             "#7201a8"
            ],
            [
             0.3333333333333333,
             "#9c179e"
            ],
            [
             0.4444444444444444,
             "#bd3786"
            ],
            [
             0.5555555555555556,
             "#d8576b"
            ],
            [
             0.6666666666666666,
             "#ed7953"
            ],
            [
             0.7777777777777778,
             "#fb9f3a"
            ],
            [
             0.8888888888888888,
             "#fdca26"
            ],
            [
             1,
             "#f0f921"
            ]
           ]
          },
          "colorway": [
           "#636efa",
           "#EF553B",
           "#00cc96",
           "#ab63fa",
           "#FFA15A",
           "#19d3f3",
           "#FF6692",
           "#B6E880",
           "#FF97FF",
           "#FECB52"
          ],
          "font": {
           "color": "#2a3f5f"
          },
          "geo": {
           "bgcolor": "white",
           "lakecolor": "white",
           "landcolor": "#E5ECF6",
           "showlakes": true,
           "showland": true,
           "subunitcolor": "white"
          },
          "hoverlabel": {
           "align": "left"
          },
          "hovermode": "closest",
          "mapbox": {
           "style": "light"
          },
          "paper_bgcolor": "white",
          "plot_bgcolor": "#E5ECF6",
          "polar": {
           "angularaxis": {
            "gridcolor": "white",
            "linecolor": "white",
            "ticks": ""
           },
           "bgcolor": "#E5ECF6",
           "radialaxis": {
            "gridcolor": "white",
            "linecolor": "white",
            "ticks": ""
           }
          },
          "scene": {
           "xaxis": {
            "backgroundcolor": "#E5ECF6",
            "gridcolor": "white",
            "gridwidth": 2,
            "linecolor": "white",
            "showbackground": true,
            "ticks": "",
            "zerolinecolor": "white"
           },
           "yaxis": {
            "backgroundcolor": "#E5ECF6",
            "gridcolor": "white",
            "gridwidth": 2,
            "linecolor": "white",
            "showbackground": true,
            "ticks": "",
            "zerolinecolor": "white"
           },
           "zaxis": {
            "backgroundcolor": "#E5ECF6",
            "gridcolor": "white",
            "gridwidth": 2,
            "linecolor": "white",
            "showbackground": true,
            "ticks": "",
            "zerolinecolor": "white"
           }
          },
          "shapedefaults": {
           "line": {
            "color": "#2a3f5f"
           }
          },
          "ternary": {
           "aaxis": {
            "gridcolor": "white",
            "linecolor": "white",
            "ticks": ""
           },
           "baxis": {
            "gridcolor": "white",
            "linecolor": "white",
            "ticks": ""
           },
           "bgcolor": "#E5ECF6",
           "caxis": {
            "gridcolor": "white",
            "linecolor": "white",
            "ticks": ""
           }
          },
          "title": {
           "x": 0.05
          },
          "xaxis": {
           "automargin": true,
           "gridcolor": "white",
           "linecolor": "white",
           "ticks": "",
           "title": {
            "standoff": 15
           },
           "zerolinecolor": "white",
           "zerolinewidth": 2
          },
          "yaxis": {
           "automargin": true,
           "gridcolor": "white",
           "linecolor": "white",
           "ticks": "",
           "title": {
            "standoff": 15
           },
           "zerolinecolor": "white",
           "zerolinewidth": 2
          }
         }
        },
        "xaxis": {
         "anchor": "y",
         "categoryarray": [
          "武汉鼎联丰国际贸易有限公司",
          "湖北华中能源发展有限公司",
          "湖北南方大集实业有限公司",
          "湖北南方大集实业有限公司东西湖分公司",
          "湖北南方大集实业有限公司慈惠分公司",
          "湖北南方大集实业有限公司江汉分公司",
          "湖北南方大集实业有限公司能源分公司",
          "湖北南方工贸有限公司",
          "湖北南方集团有限公司",
          "湖北国贸供应链管理有限公司",
          "湖北国贸农产品有限公司",
          "湖北国贸农产品有限公司武汉分公司",
          "湖北国贸汽车有限公司",
          "湖北国贸汽车有限公司红安分公司",
          "湖北国贸能源化工有限公司",
          "湖北国贸金属矿产有限公司",
          "湖北国际贸易集团有限公司"
         ],
         "categoryorder": "array",
         "domain": [
          0,
          1
         ],
         "title": {
          "text": "company_name"
         }
        },
        "yaxis": {
         "anchor": "x",
         "domain": [
          0,
          1
         ],
         "title": {
          "text": "SALES"
         }
        }
       }
      }
     },
     "metadata": {},
     "output_type": "display_data"
    },
    {
     "name": "stdout",
     "output_type": "stream",
     "text": [
      "Index(['company_name', 'month', 'SALES'], dtype='object')\n"
     ]
    },
    {
     "data": {
      "application/vnd.plotly.v1+json": {
       "config": {
        "plotlyServerURL": "https://plot.ly"
       },
       "data": [
        {
         "alignmentgroup": "True",
         "hovertemplate": "<b>%{text}</b><br>",
         "legendgroup": "武汉鼎联丰国际贸易有限公司",
         "marker": {
          "color": "#636efa",
          "pattern": {
           "shape": ""
          }
         },
         "name": "武汉鼎联丰国际贸易有限公司",
         "offsetgroup": "武汉鼎联丰国际贸易有限公司",
         "orientation": "v",
         "showlegend": true,
         "text": [
          12984197.4,
          3443136,
          4021670.9,
          3263625.8,
          10086036.7,
          4107347.8
         ],
         "textposition": "auto",
         "type": "bar",
         "x": [
          "武汉鼎联丰国际贸易有限公司",
          "武汉鼎联丰国际贸易有限公司",
          "武汉鼎联丰国际贸易有限公司",
          "武汉鼎联丰国际贸易有限公司",
          "武汉鼎联丰国际贸易有限公司",
          "武汉鼎联丰国际贸易有限公司"
         ],
         "xaxis": "x",
         "y": [
          12984197.4,
          3443136,
          4021670.9,
          3263625.8,
          10086036.7,
          4107347.8
         ],
         "yaxis": "y"
        },
        {
         "alignmentgroup": "True",
         "hovertemplate": "<b>%{text}</b><br>",
         "legendgroup": "湖北华中能源发展有限公司",
         "marker": {
          "color": "#EF553B",
          "pattern": {
           "shape": ""
          }
         },
         "name": "湖北华中能源发展有限公司",
         "offsetgroup": "湖北华中能源发展有限公司",
         "orientation": "v",
         "showlegend": true,
         "text": [
          421489.8,
          3584910.4,
          7459109.5,
          7798897.8,
          5213741.5
         ],
         "textposition": "auto",
         "type": "bar",
         "x": [
          "湖北华中能源发展有限公司",
          "湖北华中能源发展有限公司",
          "湖北华中能源发展有限公司",
          "湖北华中能源发展有限公司",
          "湖北华中能源发展有限公司"
         ],
         "xaxis": "x",
         "y": [
          421489.8,
          3584910.4,
          7459109.5,
          7798897.8,
          5213741.5
         ],
         "yaxis": "y"
        },
        {
         "alignmentgroup": "True",
         "hovertemplate": "<b>%{text}</b><br>",
         "legendgroup": "湖北南方大集实业有限公司",
         "marker": {
          "color": "#00cc96",
          "pattern": {
           "shape": ""
          }
         },
         "name": "湖北南方大集实业有限公司",
         "offsetgroup": "湖北南方大集实业有限公司",
         "orientation": "v",
         "showlegend": true,
         "text": [
          3421161.4,
          2025065.5,
          7044286,
          7238320.9,
          2574722.3000000003
         ],
         "textposition": "auto",
         "type": "bar",
         "x": [
          "湖北南方大集实业有限公司",
          "湖北南方大集实业有限公司",
          "湖北南方大集实业有限公司",
          "湖北南方大集实业有限公司",
          "湖北南方大集实业有限公司"
         ],
         "xaxis": "x",
         "y": [
          3421161.4,
          2025065.5,
          7044286,
          7238320.9,
          2574722.3000000003
         ],
         "yaxis": "y"
        },
        {
         "alignmentgroup": "True",
         "hovertemplate": "<b>%{text}</b><br>",
         "legendgroup": "湖北南方大集实业有限公司东西湖分公司",
         "marker": {
          "color": "#ab63fa",
          "pattern": {
           "shape": ""
          }
         },
         "name": "湖北南方大集实业有限公司东西湖分公司",
         "offsetgroup": "湖北南方大集实业有限公司东西湖分公司",
         "orientation": "v",
         "showlegend": true,
         "text": [
          6690685.4,
          5732445.4,
          887108.7,
          6426254.9,
          2685220.7
         ],
         "textposition": "auto",
         "type": "bar",
         "x": [
          "湖北南方大集实业有限公司东西湖分公司",
          "湖北南方大集实业有限公司东西湖分公司",
          "湖北南方大集实业有限公司东西湖分公司",
          "湖北南方大集实业有限公司东西湖分公司",
          "湖北南方大集实业有限公司东西湖分公司"
         ],
         "xaxis": "x",
         "y": [
          6690685.4,
          5732445.4,
          887108.7,
          6426254.9,
          2685220.7
         ],
         "yaxis": "y"
        },
        {
         "alignmentgroup": "True",
         "hovertemplate": "<b>%{text}</b><br>",
         "legendgroup": "湖北南方大集实业有限公司慈惠分公司",
         "marker": {
          "color": "#FFA15A",
          "pattern": {
           "shape": ""
          }
         },
         "name": "湖北南方大集实业有限公司慈惠分公司",
         "offsetgroup": "湖北南方大集实业有限公司慈惠分公司",
         "orientation": "v",
         "showlegend": true,
         "text": [
          6023598.1,
          7953620.7,
          8281864.2,
          7202690.2,
          5096316.5,
          14252882.4
         ],
         "textposition": "auto",
         "type": "bar",
         "x": [
          "湖北南方大集实业有限公司慈惠分公司",
          "湖北南方大集实业有限公司慈惠分公司",
          "湖北南方大集实业有限公司慈惠分公司",
          "湖北南方大集实业有限公司慈惠分公司",
          "湖北南方大集实业有限公司慈惠分公司",
          "湖北南方大集实业有限公司慈惠分公司"
         ],
         "xaxis": "x",
         "y": [
          6023598.1,
          7953620.7,
          8281864.2,
          7202690.2,
          5096316.5,
          14252882.4
         ],
         "yaxis": "y"
        },
        {
         "alignmentgroup": "True",
         "hovertemplate": "<b>%{text}</b><br>",
         "legendgroup": "湖北南方大集实业有限公司江汉分公司",
         "marker": {
          "color": "#19d3f3",
          "pattern": {
           "shape": ""
          }
         },
         "name": "湖北南方大集实业有限公司江汉分公司",
         "offsetgroup": "湖北南方大集实业有限公司江汉分公司",
         "orientation": "v",
         "showlegend": true,
         "text": [
          324354.4,
          4383055.4,
          11009902.6,
          8139001.800000001,
          3964952.2
         ],
         "textposition": "auto",
         "type": "bar",
         "x": [
          "湖北南方大集实业有限公司江汉分公司",
          "湖北南方大集实业有限公司江汉分公司",
          "湖北南方大集实业有限公司江汉分公司",
          "湖北南方大集实业有限公司江汉分公司",
          "湖北南方大集实业有限公司江汉分公司"
         ],
         "xaxis": "x",
         "y": [
          324354.4,
          4383055.4,
          11009902.6,
          8139001.800000001,
          3964952.2
         ],
         "yaxis": "y"
        },
        {
         "alignmentgroup": "True",
         "hovertemplate": "<b>%{text}</b><br>",
         "legendgroup": "湖北南方大集实业有限公司能源分公司",
         "marker": {
          "color": "#FF6692",
          "pattern": {
           "shape": ""
          }
         },
         "name": "湖北南方大集实业有限公司能源分公司",
         "offsetgroup": "湖北南方大集实业有限公司能源分公司",
         "orientation": "v",
         "showlegend": true,
         "text": [
          2696298.9,
          2944516.8,
          4809826.8,
          7911312.9,
          16525698.5,
          8430059.6
         ],
         "textposition": "auto",
         "type": "bar",
         "x": [
          "湖北南方大集实业有限公司能源分公司",
          "湖北南方大集实业有限公司能源分公司",
          "湖北南方大集实业有限公司能源分公司",
          "湖北南方大集实业有限公司能源分公司",
          "湖北南方大集实业有限公司能源分公司",
          "湖北南方大集实业有限公司能源分公司"
         ],
         "xaxis": "x",
         "y": [
          2696298.9,
          2944516.8,
          4809826.8,
          7911312.9,
          16525698.5,
          8430059.6
         ],
         "yaxis": "y"
        },
        {
         "alignmentgroup": "True",
         "hovertemplate": "<b>%{text}</b><br>",
         "legendgroup": "湖北南方工贸有限公司",
         "marker": {
          "color": "#B6E880",
          "pattern": {
           "shape": ""
          }
         },
         "name": "湖北南方工贸有限公司",
         "offsetgroup": "湖北南方工贸有限公司",
         "orientation": "v",
         "showlegend": true,
         "text": [
          355122.2,
          19237679.1,
          2465402.3,
          3996748.5
         ],
         "textposition": "auto",
         "type": "bar",
         "x": [
          "湖北南方工贸有限公司",
          "湖北南方工贸有限公司",
          "湖北南方工贸有限公司",
          "湖北南方工贸有限公司"
         ],
         "xaxis": "x",
         "y": [
          355122.2,
          19237679.1,
          2465402.3,
          3996748.5
         ],
         "yaxis": "y"
        },
        {
         "alignmentgroup": "True",
         "hovertemplate": "<b>%{text}</b><br>",
         "legendgroup": "湖北南方集团有限公司",
         "marker": {
          "color": "#FF97FF",
          "pattern": {
           "shape": ""
          }
         },
         "name": "湖北南方集团有限公司",
         "offsetgroup": "湖北南方集团有限公司",
         "orientation": "v",
         "showlegend": true,
         "text": [
          8166017.2,
          3877281.1999999997,
          2100484.2,
          8188519.1,
          7665227.1
         ],
         "textposition": "auto",
         "type": "bar",
         "x": [
          "湖北南方集团有限公司",
          "湖北南方集团有限公司",
          "湖北南方集团有限公司",
          "湖北南方集团有限公司",
          "湖北南方集团有限公司"
         ],
         "xaxis": "x",
         "y": [
          8166017.2,
          3877281.1999999997,
          2100484.2,
          8188519.1,
          7665227.1
         ],
         "yaxis": "y"
        },
        {
         "alignmentgroup": "True",
         "hovertemplate": "<b>%{text}</b><br>",
         "legendgroup": "湖北国贸供应链管理有限公司",
         "marker": {
          "color": "#FECB52",
          "pattern": {
           "shape": ""
          }
         },
         "name": "湖北国贸供应链管理有限公司",
         "offsetgroup": "湖北国贸供应链管理有限公司",
         "orientation": "v",
         "showlegend": true,
         "text": [
          13604812.8,
          1247040.7,
          10317521.6,
          2597568.2,
          13549672.5,
          4676651.5
         ],
         "textposition": "auto",
         "type": "bar",
         "x": [
          "湖北国贸供应链管理有限公司",
          "湖北国贸供应链管理有限公司",
          "湖北国贸供应链管理有限公司",
          "湖北国贸供应链管理有限公司",
          "湖北国贸供应链管理有限公司",
          "湖北国贸供应链管理有限公司"
         ],
         "xaxis": "x",
         "y": [
          13604812.8,
          1247040.7,
          10317521.6,
          2597568.2,
          13549672.5,
          4676651.5
         ],
         "yaxis": "y"
        },
        {
         "alignmentgroup": "True",
         "hovertemplate": "<b>%{text}</b><br>",
         "legendgroup": "湖北国贸农产品有限公司",
         "marker": {
          "color": "#636efa",
          "pattern": {
           "shape": ""
          }
         },
         "name": "湖北国贸农产品有限公司",
         "offsetgroup": "湖北国贸农产品有限公司",
         "orientation": "v",
         "showlegend": true,
         "text": [
          9487301.5,
          2270970.9,
          4948280.3,
          10707237.8,
          2675687.5
         ],
         "textposition": "auto",
         "type": "bar",
         "x": [
          "湖北国贸农产品有限公司",
          "湖北国贸农产品有限公司",
          "湖北国贸农产品有限公司",
          "湖北国贸农产品有限公司",
          "湖北国贸农产品有限公司"
         ],
         "xaxis": "x",
         "y": [
          9487301.5,
          2270970.9,
          4948280.3,
          10707237.8,
          2675687.5
         ],
         "yaxis": "y"
        },
        {
         "alignmentgroup": "True",
         "hovertemplate": "<b>%{text}</b><br>",
         "legendgroup": "湖北国贸农产品有限公司武汉分公司",
         "marker": {
          "color": "#EF553B",
          "pattern": {
           "shape": ""
          }
         },
         "name": "湖北国贸农产品有限公司武汉分公司",
         "offsetgroup": "湖北国贸农产品有限公司武汉分公司",
         "orientation": "v",
         "showlegend": true,
         "text": [
          7650021.1,
          11944079.100000001,
          3623622.5,
          4324678.9,
          13647968.7
         ],
         "textposition": "auto",
         "type": "bar",
         "x": [
          "湖北国贸农产品有限公司武汉分公司",
          "湖北国贸农产品有限公司武汉分公司",
          "湖北国贸农产品有限公司武汉分公司",
          "湖北国贸农产品有限公司武汉分公司",
          "湖北国贸农产品有限公司武汉分公司"
         ],
         "xaxis": "x",
         "y": [
          7650021.1,
          11944079.100000001,
          3623622.5,
          4324678.9,
          13647968.7
         ],
         "yaxis": "y"
        },
        {
         "alignmentgroup": "True",
         "hovertemplate": "<b>%{text}</b><br>",
         "legendgroup": "湖北国贸汽车有限公司",
         "marker": {
          "color": "#00cc96",
          "pattern": {
           "shape": ""
          }
         },
         "name": "湖北国贸汽车有限公司",
         "offsetgroup": "湖北国贸汽车有限公司",
         "orientation": "v",
         "showlegend": true,
         "text": [
          4049009.5,
          5644482.1,
          5275752.2,
          4690877.8,
          5839612.1,
          12278808.9
         ],
         "textposition": "auto",
         "type": "bar",
         "x": [
          "湖北国贸汽车有限公司",
          "湖北国贸汽车有限公司",
          "湖北国贸汽车有限公司",
          "湖北国贸汽车有限公司",
          "湖北国贸汽车有限公司",
          "湖北国贸汽车有限公司"
         ],
         "xaxis": "x",
         "y": [
          4049009.5,
          5644482.1,
          5275752.2,
          4690877.8,
          5839612.1,
          12278808.9
         ],
         "yaxis": "y"
        },
        {
         "alignmentgroup": "True",
         "hovertemplate": "<b>%{text}</b><br>",
         "legendgroup": "湖北国贸汽车有限公司红安分公司",
         "marker": {
          "color": "#ab63fa",
          "pattern": {
           "shape": ""
          }
         },
         "name": "湖北国贸汽车有限公司红安分公司",
         "offsetgroup": "湖北国贸汽车有限公司红安分公司",
         "orientation": "v",
         "showlegend": true,
         "text": [
          5698755.5,
          5998327.4,
          8807821.9,
          6410846.499999999,
          6611848.699999999
         ],
         "textposition": "auto",
         "type": "bar",
         "x": [
          "湖北国贸汽车有限公司红安分公司",
          "湖北国贸汽车有限公司红安分公司",
          "湖北国贸汽车有限公司红安分公司",
          "湖北国贸汽车有限公司红安分公司",
          "湖北国贸汽车有限公司红安分公司"
         ],
         "xaxis": "x",
         "y": [
          5698755.5,
          5998327.4,
          8807821.9,
          6410846.499999999,
          6611848.699999999
         ],
         "yaxis": "y"
        },
        {
         "alignmentgroup": "True",
         "hovertemplate": "<b>%{text}</b><br>",
         "legendgroup": "湖北国贸能源化工有限公司",
         "marker": {
          "color": "#FFA15A",
          "pattern": {
           "shape": ""
          }
         },
         "name": "湖北国贸能源化工有限公司",
         "offsetgroup": "湖北国贸能源化工有限公司",
         "orientation": "v",
         "showlegend": true,
         "text": [
          8091800.7,
          9933634.8,
          162766.7,
          8753574.9,
          4199156.5
         ],
         "textposition": "auto",
         "type": "bar",
         "x": [
          "湖北国贸能源化工有限公司",
          "湖北国贸能源化工有限公司",
          "湖北国贸能源化工有限公司",
          "湖北国贸能源化工有限公司",
          "湖北国贸能源化工有限公司"
         ],
         "xaxis": "x",
         "y": [
          8091800.7,
          9933634.8,
          162766.7,
          8753574.9,
          4199156.5
         ],
         "yaxis": "y"
        },
        {
         "alignmentgroup": "True",
         "hovertemplate": "<b>%{text}</b><br>",
         "legendgroup": "湖北国贸金属矿产有限公司",
         "marker": {
          "color": "#19d3f3",
          "pattern": {
           "shape": ""
          }
         },
         "name": "湖北国贸金属矿产有限公司",
         "offsetgroup": "湖北国贸金属矿产有限公司",
         "orientation": "v",
         "showlegend": true,
         "text": [
          6485757.6,
          7331945.5,
          6466089.2,
          2112755.6,
          4524438.7
         ],
         "textposition": "auto",
         "type": "bar",
         "x": [
          "湖北国贸金属矿产有限公司",
          "湖北国贸金属矿产有限公司",
          "湖北国贸金属矿产有限公司",
          "湖北国贸金属矿产有限公司",
          "湖北国贸金属矿产有限公司"
         ],
         "xaxis": "x",
         "y": [
          6485757.6,
          7331945.5,
          6466089.2,
          2112755.6,
          4524438.7
         ],
         "yaxis": "y"
        },
        {
         "alignmentgroup": "True",
         "hovertemplate": "<b>%{text}</b><br>",
         "legendgroup": "湖北国际贸易集团有限公司",
         "marker": {
          "color": "#FF6692",
          "pattern": {
           "shape": ""
          }
         },
         "name": "湖北国际贸易集团有限公司",
         "offsetgroup": "湖北国际贸易集团有限公司",
         "orientation": "v",
         "showlegend": true,
         "text": [
          9776831.7,
          8583797.3,
          10922422.1,
          13444767.4,
          147742.2
         ],
         "textposition": "auto",
         "type": "bar",
         "x": [
          "湖北国际贸易集团有限公司",
          "湖北国际贸易集团有限公司",
          "湖北国际贸易集团有限公司",
          "湖北国际贸易集团有限公司",
          "湖北国际贸易集团有限公司"
         ],
         "xaxis": "x",
         "y": [
          9776831.7,
          8583797.3,
          10922422.1,
          13444767.4,
          147742.2
         ],
         "yaxis": "y"
        }
       ],
       "layout": {
        "barmode": "stack",
        "legend": {
         "title": {
          "text": "company_name"
         },
         "tracegroupgap": 0
        },
        "margin": {
         "t": 60
        },
        "template": {
         "data": {
          "bar": [
           {
            "error_x": {
             "color": "#2a3f5f"
            },
            "error_y": {
             "color": "#2a3f5f"
            },
            "marker": {
             "line": {
              "color": "#E5ECF6",
              "width": 0.5
             },
             "pattern": {
              "fillmode": "overlay",
              "size": 10,
              "solidity": 0.2
             }
            },
            "type": "bar"
           }
          ],
          "barpolar": [
           {
            "marker": {
             "line": {
              "color": "#E5ECF6",
              "width": 0.5
             },
             "pattern": {
              "fillmode": "overlay",
              "size": 10,
              "solidity": 0.2
             }
            },
            "type": "barpolar"
           }
          ],
          "carpet": [
           {
            "aaxis": {
             "endlinecolor": "#2a3f5f",
             "gridcolor": "white",
             "linecolor": "white",
             "minorgridcolor": "white",
             "startlinecolor": "#2a3f5f"
            },
            "baxis": {
             "endlinecolor": "#2a3f5f",
             "gridcolor": "white",
             "linecolor": "white",
             "minorgridcolor": "white",
             "startlinecolor": "#2a3f5f"
            },
            "type": "carpet"
           }
          ],
          "choropleth": [
           {
            "colorbar": {
             "outlinewidth": 0,
             "ticks": ""
            },
            "type": "choropleth"
           }
          ],
          "contour": [
           {
            "colorbar": {
             "outlinewidth": 0,
             "ticks": ""
            },
            "colorscale": [
             [
              0,
              "#0d0887"
             ],
             [
              0.1111111111111111,
              "#46039f"
             ],
             [
              0.2222222222222222,
              "#7201a8"
             ],
             [
              0.3333333333333333,
              "#9c179e"
             ],
             [
              0.4444444444444444,
              "#bd3786"
             ],
             [
              0.5555555555555556,
              "#d8576b"
             ],
             [
              0.6666666666666666,
              "#ed7953"
             ],
             [
              0.7777777777777778,
              "#fb9f3a"
             ],
             [
              0.8888888888888888,
              "#fdca26"
             ],
             [
              1,
              "#f0f921"
             ]
            ],
            "type": "contour"
           }
          ],
          "contourcarpet": [
           {
            "colorbar": {
             "outlinewidth": 0,
             "ticks": ""
            },
            "type": "contourcarpet"
           }
          ],
          "heatmap": [
           {
            "colorbar": {
             "outlinewidth": 0,
             "ticks": ""
            },
            "colorscale": [
             [
              0,
              "#0d0887"
             ],
             [
              0.1111111111111111,
              "#46039f"
             ],
             [
              0.2222222222222222,
              "#7201a8"
             ],
             [
              0.3333333333333333,
              "#9c179e"
             ],
             [
              0.4444444444444444,
              "#bd3786"
             ],
             [
              0.5555555555555556,
              "#d8576b"
             ],
             [
              0.6666666666666666,
              "#ed7953"
             ],
             [
              0.7777777777777778,
              "#fb9f3a"
             ],
             [
              0.8888888888888888,
              "#fdca26"
             ],
             [
              1,
              "#f0f921"
             ]
            ],
            "type": "heatmap"
           }
          ],
          "heatmapgl": [
           {
            "colorbar": {
             "outlinewidth": 0,
             "ticks": ""
            },
            "colorscale": [
             [
              0,
              "#0d0887"
             ],
             [
              0.1111111111111111,
              "#46039f"
             ],
             [
              0.2222222222222222,
              "#7201a8"
             ],
             [
              0.3333333333333333,
              "#9c179e"
             ],
             [
              0.4444444444444444,
              "#bd3786"
             ],
             [
              0.5555555555555556,
              "#d8576b"
             ],
             [
              0.6666666666666666,
              "#ed7953"
             ],
             [
              0.7777777777777778,
              "#fb9f3a"
             ],
             [
              0.8888888888888888,
              "#fdca26"
             ],
             [
              1,
              "#f0f921"
             ]
            ],
            "type": "heatmapgl"
           }
          ],
          "histogram": [
           {
            "marker": {
             "pattern": {
              "fillmode": "overlay",
              "size": 10,
              "solidity": 0.2
             }
            },
            "type": "histogram"
           }
          ],
          "histogram2d": [
           {
            "colorbar": {
             "outlinewidth": 0,
             "ticks": ""
            },
            "colorscale": [
             [
              0,
              "#0d0887"
             ],
             [
              0.1111111111111111,
              "#46039f"
             ],
             [
              0.2222222222222222,
              "#7201a8"
             ],
             [
              0.3333333333333333,
              "#9c179e"
             ],
             [
              0.4444444444444444,
              "#bd3786"
             ],
             [
              0.5555555555555556,
              "#d8576b"
             ],
             [
              0.6666666666666666,
              "#ed7953"
             ],
             [
              0.7777777777777778,
              "#fb9f3a"
             ],
             [
              0.8888888888888888,
              "#fdca26"
             ],
             [
              1,
              "#f0f921"
             ]
            ],
            "type": "histogram2d"
           }
          ],
          "histogram2dcontour": [
           {
            "colorbar": {
             "outlinewidth": 0,
             "ticks": ""
            },
            "colorscale": [
             [
              0,
              "#0d0887"
             ],
             [
              0.1111111111111111,
              "#46039f"
             ],
             [
              0.2222222222222222,
              "#7201a8"
             ],
             [
              0.3333333333333333,
              "#9c179e"
             ],
             [
              0.4444444444444444,
              "#bd3786"
             ],
             [
              0.5555555555555556,
              "#d8576b"
             ],
             [
              0.6666666666666666,
              "#ed7953"
             ],
             [
              0.7777777777777778,
              "#fb9f3a"
             ],
             [
              0.8888888888888888,
              "#fdca26"
             ],
             [
              1,
              "#f0f921"
             ]
            ],
            "type": "histogram2dcontour"
           }
          ],
          "mesh3d": [
           {
            "colorbar": {
             "outlinewidth": 0,
             "ticks": ""
            },
            "type": "mesh3d"
           }
          ],
          "parcoords": [
           {
            "line": {
             "colorbar": {
              "outlinewidth": 0,
              "ticks": ""
             }
            },
            "type": "parcoords"
           }
          ],
          "pie": [
           {
            "automargin": true,
            "type": "pie"
           }
          ],
          "scatter": [
           {
            "fillpattern": {
             "fillmode": "overlay",
             "size": 10,
             "solidity": 0.2
            },
            "type": "scatter"
           }
          ],
          "scatter3d": [
           {
            "line": {
             "colorbar": {
              "outlinewidth": 0,
              "ticks": ""
             }
            },
            "marker": {
             "colorbar": {
              "outlinewidth": 0,
              "ticks": ""
             }
            },
            "type": "scatter3d"
           }
          ],
          "scattercarpet": [
           {
            "marker": {
             "colorbar": {
              "outlinewidth": 0,
              "ticks": ""
             }
            },
            "type": "scattercarpet"
           }
          ],
          "scattergeo": [
           {
            "marker": {
             "colorbar": {
              "outlinewidth": 0,
              "ticks": ""
             }
            },
            "type": "scattergeo"
           }
          ],
          "scattergl": [
           {
            "marker": {
             "colorbar": {
              "outlinewidth": 0,
              "ticks": ""
             }
            },
            "type": "scattergl"
           }
          ],
          "scattermapbox": [
           {
            "marker": {
             "colorbar": {
              "outlinewidth": 0,
              "ticks": ""
             }
            },
            "type": "scattermapbox"
           }
          ],
          "scatterpolar": [
           {
            "marker": {
             "colorbar": {
              "outlinewidth": 0,
              "ticks": ""
             }
            },
            "type": "scatterpolar"
           }
          ],
          "scatterpolargl": [
           {
            "marker": {
             "colorbar": {
              "outlinewidth": 0,
              "ticks": ""
             }
            },
            "type": "scatterpolargl"
           }
          ],
          "scatterternary": [
           {
            "marker": {
             "colorbar": {
              "outlinewidth": 0,
              "ticks": ""
             }
            },
            "type": "scatterternary"
           }
          ],
          "surface": [
           {
            "colorbar": {
             "outlinewidth": 0,
             "ticks": ""
            },
            "colorscale": [
             [
              0,
              "#0d0887"
             ],
             [
              0.1111111111111111,
              "#46039f"
             ],
             [
              0.2222222222222222,
              "#7201a8"
             ],
             [
              0.3333333333333333,
              "#9c179e"
             ],
             [
              0.4444444444444444,
              "#bd3786"
             ],
             [
              0.5555555555555556,
              "#d8576b"
             ],
             [
              0.6666666666666666,
              "#ed7953"
             ],
             [
              0.7777777777777778,
              "#fb9f3a"
             ],
             [
              0.8888888888888888,
              "#fdca26"
             ],
             [
              1,
              "#f0f921"
             ]
            ],
            "type": "surface"
           }
          ],
          "table": [
           {
            "cells": {
             "fill": {
              "color": "#EBF0F8"
             },
             "line": {
              "color": "white"
             }
            },
            "header": {
             "fill": {
              "color": "#C8D4E3"
             },
             "line": {
              "color": "white"
             }
            },
            "type": "table"
           }
          ]
         },
         "layout": {
          "annotationdefaults": {
           "arrowcolor": "#2a3f5f",
           "arrowhead": 0,
           "arrowwidth": 1
          },
          "autotypenumbers": "strict",
          "coloraxis": {
           "colorbar": {
            "outlinewidth": 0,
            "ticks": ""
           }
          },
          "colorscale": {
           "diverging": [
            [
             0,
             "#8e0152"
            ],
            [
             0.1,
             "#c51b7d"
            ],
            [
             0.2,
             "#de77ae"
            ],
            [
             0.3,
             "#f1b6da"
            ],
            [
             0.4,
             "#fde0ef"
            ],
            [
             0.5,
             "#f7f7f7"
            ],
            [
             0.6,
             "#e6f5d0"
            ],
            [
             0.7,
             "#b8e186"
            ],
            [
             0.8,
             "#7fbc41"
            ],
            [
             0.9,
             "#4d9221"
            ],
            [
             1,
             "#276419"
            ]
           ],
           "sequential": [
            [
             0,
             "#0d0887"
            ],
            [
             0.1111111111111111,
             "#46039f"
            ],
            [
             0.2222222222222222,
             "#7201a8"
            ],
            [
             0.3333333333333333,
             "#9c179e"
            ],
            [
             0.4444444444444444,
             "#bd3786"
            ],
            [
             0.5555555555555556,
             "#d8576b"
            ],
            [
             0.6666666666666666,
             "#ed7953"
            ],
            [
             0.7777777777777778,
             "#fb9f3a"
            ],
            [
             0.8888888888888888,
             "#fdca26"
            ],
            [
             1,
             "#f0f921"
            ]
           ],
           "sequentialminus": [
            [
             0,
             "#0d0887"
            ],
            [
             0.1111111111111111,
             "#46039f"
            ],
            [
             0.2222222222222222,
             "#7201a8"
            ],
            [
             0.3333333333333333,
             "#9c179e"
            ],
            [
             0.4444444444444444,
             "#bd3786"
            ],
            [
             0.5555555555555556,
             "#d8576b"
            ],
            [
             0.6666666666666666,
             "#ed7953"
            ],
            [
             0.7777777777777778,
             "#fb9f3a"
            ],
            [
             0.8888888888888888,
             "#fdca26"
            ],
            [
             1,
             "#f0f921"
            ]
           ]
          },
          "colorway": [
           "#636efa",
           "#EF553B",
           "#00cc96",
           "#ab63fa",
           "#FFA15A",
           "#19d3f3",
           "#FF6692",
           "#B6E880",
           "#FF97FF",
           "#FECB52"
          ],
          "font": {
           "color": "#2a3f5f"
          },
          "geo": {
           "bgcolor": "white",
           "lakecolor": "white",
           "landcolor": "#E5ECF6",
           "showlakes": true,
           "showland": true,
           "subunitcolor": "white"
          },
          "hoverlabel": {
           "align": "left"
          },
          "hovermode": "closest",
          "mapbox": {
           "style": "light"
          },
          "paper_bgcolor": "white",
          "plot_bgcolor": "#E5ECF6",
          "polar": {
           "angularaxis": {
            "gridcolor": "white",
            "linecolor": "white",
            "ticks": ""
           },
           "bgcolor": "#E5ECF6",
           "radialaxis": {
            "gridcolor": "white",
            "linecolor": "white",
            "ticks": ""
           }
          },
          "scene": {
           "xaxis": {
            "backgroundcolor": "#E5ECF6",
            "gridcolor": "white",
            "gridwidth": 2,
            "linecolor": "white",
            "showbackground": true,
            "ticks": "",
            "zerolinecolor": "white"
           },
           "yaxis": {
            "backgroundcolor": "#E5ECF6",
            "gridcolor": "white",
            "gridwidth": 2,
            "linecolor": "white",
            "showbackground": true,
            "ticks": "",
            "zerolinecolor": "white"
           },
           "zaxis": {
            "backgroundcolor": "#E5ECF6",
            "gridcolor": "white",
            "gridwidth": 2,
            "linecolor": "white",
            "showbackground": true,
            "ticks": "",
            "zerolinecolor": "white"
           }
          },
          "shapedefaults": {
           "line": {
            "color": "#2a3f5f"
           }
          },
          "ternary": {
           "aaxis": {
            "gridcolor": "white",
            "linecolor": "white",
            "ticks": ""
           },
           "baxis": {
            "gridcolor": "white",
            "linecolor": "white",
            "ticks": ""
           },
           "bgcolor": "#E5ECF6",
           "caxis": {
            "gridcolor": "white",
            "linecolor": "white",
            "ticks": ""
           }
          },
          "title": {
           "x": 0.05
          },
          "xaxis": {
           "automargin": true,
           "gridcolor": "white",
           "linecolor": "white",
           "ticks": "",
           "title": {
            "standoff": 15
           },
           "zerolinecolor": "white",
           "zerolinewidth": 2
          },
          "yaxis": {
           "automargin": true,
           "gridcolor": "white",
           "linecolor": "white",
           "ticks": "",
           "title": {
            "standoff": 15
           },
           "zerolinecolor": "white",
           "zerolinewidth": 2
          }
         }
        },
        "xaxis": {
         "anchor": "y",
         "categoryarray": [
          "武汉鼎联丰国际贸易有限公司",
          "湖北华中能源发展有限公司",
          "湖北南方大集实业有限公司",
          "湖北南方大集实业有限公司东西湖分公司",
          "湖北南方大集实业有限公司慈惠分公司",
          "湖北南方大集实业有限公司江汉分公司",
          "湖北南方大集实业有限公司能源分公司",
          "湖北南方工贸有限公司",
          "湖北南方集团有限公司",
          "湖北国贸供应链管理有限公司",
          "湖北国贸农产品有限公司",
          "湖北国贸农产品有限公司武汉分公司",
          "湖北国贸汽车有限公司",
          "湖北国贸汽车有限公司红安分公司",
          "湖北国贸能源化工有限公司",
          "湖北国贸金属矿产有限公司",
          "湖北国际贸易集团有限公司"
         ],
         "categoryorder": "array",
         "domain": [
          0,
          1
         ],
         "title": {
          "text": "company_name"
         }
        },
        "yaxis": {
         "anchor": "x",
         "domain": [
          0,
          1
         ],
         "title": {
          "text": "SALES"
         }
        }
       }
      }
     },
     "metadata": {},
     "output_type": "display_data"
    },
    {
     "data": {
      "application/vnd.plotly.v1+json": {
       "config": {
        "plotlyServerURL": "https://plot.ly"
       },
       "data": [
        {
         "alignmentgroup": "True",
         "hovertemplate": "company_name=%{x}<br>SALES=%{text}<extra></extra>",
         "legendgroup": "武汉鼎联丰国际贸易有限公司",
         "marker": {
          "color": "#636efa",
          "pattern": {
           "shape": ""
          }
         },
         "name": "武汉鼎联丰国际贸易有限公司",
         "offsetgroup": "武汉鼎联丰国际贸易有限公司",
         "orientation": "v",
         "showlegend": true,
         "text": [
          48277983.5
         ],
         "textposition": "auto",
         "type": "bar",
         "x": [
          "武汉鼎联丰国际贸易有限公司"
         ],
         "xaxis": "x",
         "y": [
          48277983.5
         ],
         "yaxis": "y"
        },
        {
         "alignmentgroup": "True",
         "hovertemplate": "company_name=%{x}<br>SALES=%{text}<extra></extra>",
         "legendgroup": "湖北华中能源发展有限公司",
         "marker": {
          "color": "#EF553B",
          "pattern": {
           "shape": ""
          }
         },
         "name": "湖北华中能源发展有限公司",
         "offsetgroup": "湖北华中能源发展有限公司",
         "orientation": "v",
         "showlegend": true,
         "text": [
          44096354.7
         ],
         "textposition": "auto",
         "type": "bar",
         "x": [
          "湖北华中能源发展有限公司"
         ],
         "xaxis": "x",
         "y": [
          44096354.7
         ],
         "yaxis": "y"
        },
        {
         "alignmentgroup": "True",
         "hovertemplate": "company_name=%{x}<br>SALES=%{text}<extra></extra>",
         "legendgroup": "湖北南方大集实业有限公司",
         "marker": {
          "color": "#00cc96",
          "pattern": {
           "shape": ""
          }
         },
         "name": "湖北南方大集实业有限公司",
         "offsetgroup": "湖北南方大集实业有限公司",
         "orientation": "v",
         "showlegend": true,
         "text": [
          31783572.8
         ],
         "textposition": "auto",
         "type": "bar",
         "x": [
          "湖北南方大集实业有限公司"
         ],
         "xaxis": "x",
         "y": [
          31783572.8
         ],
         "yaxis": "y"
        },
        {
         "alignmentgroup": "True",
         "hovertemplate": "company_name=%{x}<br>SALES=%{text}<extra></extra>",
         "legendgroup": "湖北南方大集实业有限公司东西湖分公司",
         "marker": {
          "color": "#ab63fa",
          "pattern": {
           "shape": ""
          }
         },
         "name": "湖北南方大集实业有限公司东西湖分公司",
         "offsetgroup": "湖北南方大集实业有限公司东西湖分公司",
         "orientation": "v",
         "showlegend": true,
         "text": [
          33676276.5
         ],
         "textposition": "auto",
         "type": "bar",
         "x": [
          "湖北南方大集实业有限公司东西湖分公司"
         ],
         "xaxis": "x",
         "y": [
          33676276.5
         ],
         "yaxis": "y"
        },
        {
         "alignmentgroup": "True",
         "hovertemplate": "company_name=%{x}<br>SALES=%{text}<extra></extra>",
         "legendgroup": "湖北南方大集实业有限公司慈惠分公司",
         "marker": {
          "color": "#FFA15A",
          "pattern": {
           "shape": ""
          }
         },
         "name": "湖北南方大集实业有限公司慈惠分公司",
         "offsetgroup": "湖北南方大集实业有限公司慈惠分公司",
         "orientation": "v",
         "showlegend": true,
         "text": [
          58605430.9
         ],
         "textposition": "auto",
         "type": "bar",
         "x": [
          "湖北南方大集实业有限公司慈惠分公司"
         ],
         "xaxis": "x",
         "y": [
          58605430.9
         ],
         "yaxis": "y"
        },
        {
         "alignmentgroup": "True",
         "hovertemplate": "company_name=%{x}<br>SALES=%{text}<extra></extra>",
         "legendgroup": "湖北南方大集实业有限公司江汉分公司",
         "marker": {
          "color": "#19d3f3",
          "pattern": {
           "shape": ""
          }
         },
         "name": "湖北南方大集实业有限公司江汉分公司",
         "offsetgroup": "湖北南方大集实业有限公司江汉分公司",
         "orientation": "v",
         "showlegend": true,
         "text": [
          33316581.2
         ],
         "textposition": "auto",
         "type": "bar",
         "x": [
          "湖北南方大集实业有限公司江汉分公司"
         ],
         "xaxis": "x",
         "y": [
          33316581.2
         ],
         "yaxis": "y"
        },
        {
         "alignmentgroup": "True",
         "hovertemplate": "company_name=%{x}<br>SALES=%{text}<extra></extra>",
         "legendgroup": "湖北南方大集实业有限公司能源分公司",
         "marker": {
          "color": "#FF6692",
          "pattern": {
           "shape": ""
          }
         },
         "name": "湖北南方大集实业有限公司能源分公司",
         "offsetgroup": "湖北南方大集实业有限公司能源分公司",
         "orientation": "v",
         "showlegend": true,
         "text": [
          49384693.4
         ],
         "textposition": "auto",
         "type": "bar",
         "x": [
          "湖北南方大集实业有限公司能源分公司"
         ],
         "xaxis": "x",
         "y": [
          49384693.4
         ],
         "yaxis": "y"
        },
        {
         "alignmentgroup": "True",
         "hovertemplate": "company_name=%{x}<br>SALES=%{text}<extra></extra>",
         "legendgroup": "湖北南方工贸有限公司",
         "marker": {
          "color": "#B6E880",
          "pattern": {
           "shape": ""
          }
         },
         "name": "湖北南方工贸有限公司",
         "offsetgroup": "湖北南方工贸有限公司",
         "orientation": "v",
         "showlegend": true,
         "text": [
          31333043.2
         ],
         "textposition": "auto",
         "type": "bar",
         "x": [
          "湖北南方工贸有限公司"
         ],
         "xaxis": "x",
         "y": [
          31333043.2
         ],
         "yaxis": "y"
        },
        {
         "alignmentgroup": "True",
         "hovertemplate": "company_name=%{x}<br>SALES=%{text}<extra></extra>",
         "legendgroup": "湖北南方集团有限公司",
         "marker": {
          "color": "#FF97FF",
          "pattern": {
           "shape": ""
          }
         },
         "name": "湖北南方集团有限公司",
         "offsetgroup": "湖北南方集团有限公司",
         "orientation": "v",
         "showlegend": true,
         "text": [
          39026487.9
         ],
         "textposition": "auto",
         "type": "bar",
         "x": [
          "湖北南方集团有限公司"
         ],
         "xaxis": "x",
         "y": [
          39026487.9
         ],
         "yaxis": "y"
        },
        {
         "alignmentgroup": "True",
         "hovertemplate": "company_name=%{x}<br>SALES=%{text}<extra></extra>",
         "legendgroup": "湖北国贸供应链管理有限公司",
         "marker": {
          "color": "#FECB52",
          "pattern": {
           "shape": ""
          }
         },
         "name": "湖北国贸供应链管理有限公司",
         "offsetgroup": "湖北国贸供应链管理有限公司",
         "orientation": "v",
         "showlegend": true,
         "text": [
          61494324.7
         ],
         "textposition": "auto",
         "type": "bar",
         "x": [
          "湖北国贸供应链管理有限公司"
         ],
         "xaxis": "x",
         "y": [
          61494324.7
         ],
         "yaxis": "y"
        },
        {
         "alignmentgroup": "True",
         "hovertemplate": "company_name=%{x}<br>SALES=%{text}<extra></extra>",
         "legendgroup": "湖北国贸农产品有限公司",
         "marker": {
          "color": "#636efa",
          "pattern": {
           "shape": ""
          }
         },
         "name": "湖北国贸农产品有限公司",
         "offsetgroup": "湖北国贸农产品有限公司",
         "orientation": "v",
         "showlegend": true,
         "text": [
          38685710.4
         ],
         "textposition": "auto",
         "type": "bar",
         "x": [
          "湖北国贸农产品有限公司"
         ],
         "xaxis": "x",
         "y": [
          38685710.4
         ],
         "yaxis": "y"
        },
        {
         "alignmentgroup": "True",
         "hovertemplate": "company_name=%{x}<br>SALES=%{text}<extra></extra>",
         "legendgroup": "湖北国贸农产品有限公司武汉分公司",
         "marker": {
          "color": "#EF553B",
          "pattern": {
           "shape": ""
          }
         },
         "name": "湖北国贸农产品有限公司武汉分公司",
         "offsetgroup": "湖北国贸农产品有限公司武汉分公司",
         "orientation": "v",
         "showlegend": true,
         "text": [
          57377922.9
         ],
         "textposition": "auto",
         "type": "bar",
         "x": [
          "湖北国贸农产品有限公司武汉分公司"
         ],
         "xaxis": "x",
         "y": [
          57377922.9
         ],
         "yaxis": "y"
        },
        {
         "alignmentgroup": "True",
         "hovertemplate": "company_name=%{x}<br>SALES=%{text}<extra></extra>",
         "legendgroup": "湖北国贸汽车有限公司",
         "marker": {
          "color": "#00cc96",
          "pattern": {
           "shape": ""
          }
         },
         "name": "湖北国贸汽车有限公司",
         "offsetgroup": "湖北国贸汽车有限公司",
         "orientation": "v",
         "showlegend": true,
         "text": [
          57710527.2
         ],
         "textposition": "auto",
         "type": "bar",
         "x": [
          "湖北国贸汽车有限公司"
         ],
         "xaxis": "x",
         "y": [
          57710527.2
         ],
         "yaxis": "y"
        },
        {
         "alignmentgroup": "True",
         "hovertemplate": "company_name=%{x}<br>SALES=%{text}<extra></extra>",
         "legendgroup": "湖北国贸汽车有限公司红安分公司",
         "marker": {
          "color": "#ab63fa",
          "pattern": {
           "shape": ""
          }
         },
         "name": "湖北国贸汽车有限公司红安分公司",
         "offsetgroup": "湖北国贸汽车有限公司红安分公司",
         "orientation": "v",
         "showlegend": true,
         "text": [
          37318654.3
         ],
         "textposition": "auto",
         "type": "bar",
         "x": [
          "湖北国贸汽车有限公司红安分公司"
         ],
         "xaxis": "x",
         "y": [
          37318654.3
         ],
         "yaxis": "y"
        },
        {
         "alignmentgroup": "True",
         "hovertemplate": "company_name=%{x}<br>SALES=%{text}<extra></extra>",
         "legendgroup": "湖北国贸能源化工有限公司",
         "marker": {
          "color": "#FFA15A",
          "pattern": {
           "shape": ""
          }
         },
         "name": "湖北国贸能源化工有限公司",
         "offsetgroup": "湖北国贸能源化工有限公司",
         "orientation": "v",
         "showlegend": true,
         "text": [
          48300935.7
         ],
         "textposition": "auto",
         "type": "bar",
         "x": [
          "湖北国贸能源化工有限公司"
         ],
         "xaxis": "x",
         "y": [
          48300935.7
         ],
         "yaxis": "y"
        },
        {
         "alignmentgroup": "True",
         "hovertemplate": "company_name=%{x}<br>SALES=%{text}<extra></extra>",
         "legendgroup": "湖北国贸金属矿产有限公司",
         "marker": {
          "color": "#19d3f3",
          "pattern": {
           "shape": ""
          }
         },
         "name": "湖北国贸金属矿产有限公司",
         "offsetgroup": "湖北国贸金属矿产有限公司",
         "orientation": "v",
         "showlegend": true,
         "text": [
          39468736.3
         ],
         "textposition": "auto",
         "type": "bar",
         "x": [
          "湖北国贸金属矿产有限公司"
         ],
         "xaxis": "x",
         "y": [
          39468736.3
         ],
         "yaxis": "y"
        },
        {
         "alignmentgroup": "True",
         "hovertemplate": "company_name=%{x}<br>SALES=%{text}<extra></extra>",
         "legendgroup": "湖北国际贸易集团有限公司",
         "marker": {
          "color": "#FF6692",
          "pattern": {
           "shape": ""
          }
         },
         "name": "湖北国际贸易集团有限公司",
         "offsetgroup": "湖北国际贸易集团有限公司",
         "orientation": "v",
         "showlegend": true,
         "text": [
          66028788.5
         ],
         "textposition": "auto",
         "type": "bar",
         "x": [
          "湖北国际贸易集团有限公司"
         ],
         "xaxis": "x",
         "y": [
          66028788.5
         ],
         "yaxis": "y"
        }
       ],
       "layout": {
        "barmode": "relative",
        "legend": {
         "title": {
          "text": "company_name"
         },
         "tracegroupgap": 0
        },
        "margin": {
         "t": 60
        },
        "template": {
         "data": {
          "bar": [
           {
            "error_x": {
             "color": "#2a3f5f"
            },
            "error_y": {
             "color": "#2a3f5f"
            },
            "marker": {
             "line": {
              "color": "#E5ECF6",
              "width": 0.5
             },
             "pattern": {
              "fillmode": "overlay",
              "size": 10,
              "solidity": 0.2
             }
            },
            "type": "bar"
           }
          ],
          "barpolar": [
           {
            "marker": {
             "line": {
              "color": "#E5ECF6",
              "width": 0.5
             },
             "pattern": {
              "fillmode": "overlay",
              "size": 10,
              "solidity": 0.2
             }
            },
            "type": "barpolar"
           }
          ],
          "carpet": [
           {
            "aaxis": {
             "endlinecolor": "#2a3f5f",
             "gridcolor": "white",
             "linecolor": "white",
             "minorgridcolor": "white",
             "startlinecolor": "#2a3f5f"
            },
            "baxis": {
             "endlinecolor": "#2a3f5f",
             "gridcolor": "white",
             "linecolor": "white",
             "minorgridcolor": "white",
             "startlinecolor": "#2a3f5f"
            },
            "type": "carpet"
           }
          ],
          "choropleth": [
           {
            "colorbar": {
             "outlinewidth": 0,
             "ticks": ""
            },
            "type": "choropleth"
           }
          ],
          "contour": [
           {
            "colorbar": {
             "outlinewidth": 0,
             "ticks": ""
            },
            "colorscale": [
             [
              0,
              "#0d0887"
             ],
             [
              0.1111111111111111,
              "#46039f"
             ],
             [
              0.2222222222222222,
              "#7201a8"
             ],
             [
              0.3333333333333333,
              "#9c179e"
             ],
             [
              0.4444444444444444,
              "#bd3786"
             ],
             [
              0.5555555555555556,
              "#d8576b"
             ],
             [
              0.6666666666666666,
              "#ed7953"
             ],
             [
              0.7777777777777778,
              "#fb9f3a"
             ],
             [
              0.8888888888888888,
              "#fdca26"
             ],
             [
              1,
              "#f0f921"
             ]
            ],
            "type": "contour"
           }
          ],
          "contourcarpet": [
           {
            "colorbar": {
             "outlinewidth": 0,
             "ticks": ""
            },
            "type": "contourcarpet"
           }
          ],
          "heatmap": [
           {
            "colorbar": {
             "outlinewidth": 0,
             "ticks": ""
            },
            "colorscale": [
             [
              0,
              "#0d0887"
             ],
             [
              0.1111111111111111,
              "#46039f"
             ],
             [
              0.2222222222222222,
              "#7201a8"
             ],
             [
              0.3333333333333333,
              "#9c179e"
             ],
             [
              0.4444444444444444,
              "#bd3786"
             ],
             [
              0.5555555555555556,
              "#d8576b"
             ],
             [
              0.6666666666666666,
              "#ed7953"
             ],
             [
              0.7777777777777778,
              "#fb9f3a"
             ],
             [
              0.8888888888888888,
              "#fdca26"
             ],
             [
              1,
              "#f0f921"
             ]
            ],
            "type": "heatmap"
           }
          ],
          "heatmapgl": [
           {
            "colorbar": {
             "outlinewidth": 0,
             "ticks": ""
            },
            "colorscale": [
             [
              0,
              "#0d0887"
             ],
             [
              0.1111111111111111,
              "#46039f"
             ],
             [
              0.2222222222222222,
              "#7201a8"
             ],
             [
              0.3333333333333333,
              "#9c179e"
             ],
             [
              0.4444444444444444,
              "#bd3786"
             ],
             [
              0.5555555555555556,
              "#d8576b"
             ],
             [
              0.6666666666666666,
              "#ed7953"
             ],
             [
              0.7777777777777778,
              "#fb9f3a"
             ],
             [
              0.8888888888888888,
              "#fdca26"
             ],
             [
              1,
              "#f0f921"
             ]
            ],
            "type": "heatmapgl"
           }
          ],
          "histogram": [
           {
            "marker": {
             "pattern": {
              "fillmode": "overlay",
              "size": 10,
              "solidity": 0.2
             }
            },
            "type": "histogram"
           }
          ],
          "histogram2d": [
           {
            "colorbar": {
             "outlinewidth": 0,
             "ticks": ""
            },
            "colorscale": [
             [
              0,
              "#0d0887"
             ],
             [
              0.1111111111111111,
              "#46039f"
             ],
             [
              0.2222222222222222,
              "#7201a8"
             ],
             [
              0.3333333333333333,
              "#9c179e"
             ],
             [
              0.4444444444444444,
              "#bd3786"
             ],
             [
              0.5555555555555556,
              "#d8576b"
             ],
             [
              0.6666666666666666,
              "#ed7953"
             ],
             [
              0.7777777777777778,
              "#fb9f3a"
             ],
             [
              0.8888888888888888,
              "#fdca26"
             ],
             [
              1,
              "#f0f921"
             ]
            ],
            "type": "histogram2d"
           }
          ],
          "histogram2dcontour": [
           {
            "colorbar": {
             "outlinewidth": 0,
             "ticks": ""
            },
            "colorscale": [
             [
              0,
              "#0d0887"
             ],
             [
              0.1111111111111111,
              "#46039f"
             ],
             [
              0.2222222222222222,
              "#7201a8"
             ],
             [
              0.3333333333333333,
              "#9c179e"
             ],
             [
              0.4444444444444444,
              "#bd3786"
             ],
             [
              0.5555555555555556,
              "#d8576b"
             ],
             [
              0.6666666666666666,
              "#ed7953"
             ],
             [
              0.7777777777777778,
              "#fb9f3a"
             ],
             [
              0.8888888888888888,
              "#fdca26"
             ],
             [
              1,
              "#f0f921"
             ]
            ],
            "type": "histogram2dcontour"
           }
          ],
          "mesh3d": [
           {
            "colorbar": {
             "outlinewidth": 0,
             "ticks": ""
            },
            "type": "mesh3d"
           }
          ],
          "parcoords": [
           {
            "line": {
             "colorbar": {
              "outlinewidth": 0,
              "ticks": ""
             }
            },
            "type": "parcoords"
           }
          ],
          "pie": [
           {
            "automargin": true,
            "type": "pie"
           }
          ],
          "scatter": [
           {
            "fillpattern": {
             "fillmode": "overlay",
             "size": 10,
             "solidity": 0.2
            },
            "type": "scatter"
           }
          ],
          "scatter3d": [
           {
            "line": {
             "colorbar": {
              "outlinewidth": 0,
              "ticks": ""
             }
            },
            "marker": {
             "colorbar": {
              "outlinewidth": 0,
              "ticks": ""
             }
            },
            "type": "scatter3d"
           }
          ],
          "scattercarpet": [
           {
            "marker": {
             "colorbar": {
              "outlinewidth": 0,
              "ticks": ""
             }
            },
            "type": "scattercarpet"
           }
          ],
          "scattergeo": [
           {
            "marker": {
             "colorbar": {
              "outlinewidth": 0,
              "ticks": ""
             }
            },
            "type": "scattergeo"
           }
          ],
          "scattergl": [
           {
            "marker": {
             "colorbar": {
              "outlinewidth": 0,
              "ticks": ""
             }
            },
            "type": "scattergl"
           }
          ],
          "scattermapbox": [
           {
            "marker": {
             "colorbar": {
              "outlinewidth": 0,
              "ticks": ""
             }
            },
            "type": "scattermapbox"
           }
          ],
          "scatterpolar": [
           {
            "marker": {
             "colorbar": {
              "outlinewidth": 0,
              "ticks": ""
             }
            },
            "type": "scatterpolar"
           }
          ],
          "scatterpolargl": [
           {
            "marker": {
             "colorbar": {
              "outlinewidth": 0,
              "ticks": ""
             }
            },
            "type": "scatterpolargl"
           }
          ],
          "scatterternary": [
           {
            "marker": {
             "colorbar": {
              "outlinewidth": 0,
              "ticks": ""
             }
            },
            "type": "scatterternary"
           }
          ],
          "surface": [
           {
            "colorbar": {
             "outlinewidth": 0,
             "ticks": ""
            },
            "colorscale": [
             [
              0,
              "#0d0887"
             ],
             [
              0.1111111111111111,
              "#46039f"
             ],
             [
              0.2222222222222222,
              "#7201a8"
             ],
             [
              0.3333333333333333,
              "#9c179e"
             ],
             [
              0.4444444444444444,
              "#bd3786"
             ],
             [
              0.5555555555555556,
              "#d8576b"
             ],
             [
              0.6666666666666666,
              "#ed7953"
             ],
             [
              0.7777777777777778,
              "#fb9f3a"
             ],
             [
              0.8888888888888888,
              "#fdca26"
             ],
             [
              1,
              "#f0f921"
             ]
            ],
            "type": "surface"
           }
          ],
          "table": [
           {
            "cells": {
             "fill": {
              "color": "#EBF0F8"
             },
             "line": {
              "color": "white"
             }
            },
            "header": {
             "fill": {
              "color": "#C8D4E3"
             },
             "line": {
              "color": "white"
             }
            },
            "type": "table"
           }
          ]
         },
         "layout": {
          "annotationdefaults": {
           "arrowcolor": "#2a3f5f",
           "arrowhead": 0,
           "arrowwidth": 1
          },
          "autotypenumbers": "strict",
          "coloraxis": {
           "colorbar": {
            "outlinewidth": 0,
            "ticks": ""
           }
          },
          "colorscale": {
           "diverging": [
            [
             0,
             "#8e0152"
            ],
            [
             0.1,
             "#c51b7d"
            ],
            [
             0.2,
             "#de77ae"
            ],
            [
             0.3,
             "#f1b6da"
            ],
            [
             0.4,
             "#fde0ef"
            ],
            [
             0.5,
             "#f7f7f7"
            ],
            [
             0.6,
             "#e6f5d0"
            ],
            [
             0.7,
             "#b8e186"
            ],
            [
             0.8,
             "#7fbc41"
            ],
            [
             0.9,
             "#4d9221"
            ],
            [
             1,
             "#276419"
            ]
           ],
           "sequential": [
            [
             0,
             "#0d0887"
            ],
            [
             0.1111111111111111,
             "#46039f"
            ],
            [
             0.2222222222222222,
             "#7201a8"
            ],
            [
             0.3333333333333333,
             "#9c179e"
            ],
            [
             0.4444444444444444,
             "#bd3786"
            ],
            [
             0.5555555555555556,
             "#d8576b"
            ],
            [
             0.6666666666666666,
             "#ed7953"
            ],
            [
             0.7777777777777778,
             "#fb9f3a"
            ],
            [
             0.8888888888888888,
             "#fdca26"
            ],
            [
             1,
             "#f0f921"
            ]
           ],
           "sequentialminus": [
            [
             0,
             "#0d0887"
            ],
            [
             0.1111111111111111,
             "#46039f"
            ],
            [
             0.2222222222222222,
             "#7201a8"
            ],
            [
             0.3333333333333333,
             "#9c179e"
            ],
            [
             0.4444444444444444,
             "#bd3786"
            ],
            [
             0.5555555555555556,
             "#d8576b"
            ],
            [
             0.6666666666666666,
             "#ed7953"
            ],
            [
             0.7777777777777778,
             "#fb9f3a"
            ],
            [
             0.8888888888888888,
             "#fdca26"
            ],
            [
             1,
             "#f0f921"
            ]
           ]
          },
          "colorway": [
           "#636efa",
           "#EF553B",
           "#00cc96",
           "#ab63fa",
           "#FFA15A",
           "#19d3f3",
           "#FF6692",
           "#B6E880",
           "#FF97FF",
           "#FECB52"
          ],
          "font": {
           "color": "#2a3f5f"
          },
          "geo": {
           "bgcolor": "white",
           "lakecolor": "white",
           "landcolor": "#E5ECF6",
           "showlakes": true,
           "showland": true,
           "subunitcolor": "white"
          },
          "hoverlabel": {
           "align": "left"
          },
          "hovermode": "closest",
          "mapbox": {
           "style": "light"
          },
          "paper_bgcolor": "white",
          "plot_bgcolor": "#E5ECF6",
          "polar": {
           "angularaxis": {
            "gridcolor": "white",
            "linecolor": "white",
            "ticks": ""
           },
           "bgcolor": "#E5ECF6",
           "radialaxis": {
            "gridcolor": "white",
            "linecolor": "white",
            "ticks": ""
           }
          },
          "scene": {
           "xaxis": {
            "backgroundcolor": "#E5ECF6",
            "gridcolor": "white",
            "gridwidth": 2,
            "linecolor": "white",
            "showbackground": true,
            "ticks": "",
            "zerolinecolor": "white"
           },
           "yaxis": {
            "backgroundcolor": "#E5ECF6",
            "gridcolor": "white",
            "gridwidth": 2,
            "linecolor": "white",
            "showbackground": true,
            "ticks": "",
            "zerolinecolor": "white"
           },
           "zaxis": {
            "backgroundcolor": "#E5ECF6",
            "gridcolor": "white",
            "gridwidth": 2,
            "linecolor": "white",
            "showbackground": true,
            "ticks": "",
            "zerolinecolor": "white"
           }
          },
          "shapedefaults": {
           "line": {
            "color": "#2a3f5f"
           }
          },
          "ternary": {
           "aaxis": {
            "gridcolor": "white",
            "linecolor": "white",
            "ticks": ""
           },
           "baxis": {
            "gridcolor": "white",
            "linecolor": "white",
            "ticks": ""
           },
           "bgcolor": "#E5ECF6",
           "caxis": {
            "gridcolor": "white",
            "linecolor": "white",
            "ticks": ""
           }
          },
          "title": {
           "x": 0.05
          },
          "xaxis": {
           "automargin": true,
           "gridcolor": "white",
           "linecolor": "white",
           "ticks": "",
           "title": {
            "standoff": 15
           },
           "zerolinecolor": "white",
           "zerolinewidth": 2
          },
          "yaxis": {
           "automargin": true,
           "gridcolor": "white",
           "linecolor": "white",
           "ticks": "",
           "title": {
            "standoff": 15
           },
           "zerolinecolor": "white",
           "zerolinewidth": 2
          }
         }
        },
        "xaxis": {
         "anchor": "y",
         "categoryarray": [
          "武汉鼎联丰国际贸易有限公司",
          "湖北华中能源发展有限公司",
          "湖北南方大集实业有限公司",
          "湖北南方大集实业有限公司东西湖分公司",
          "湖北南方大集实业有限公司慈惠分公司",
          "湖北南方大集实业有限公司江汉分公司",
          "湖北南方大集实业有限公司能源分公司",
          "湖北南方工贸有限公司",
          "湖北南方集团有限公司",
          "湖北国贸供应链管理有限公司",
          "湖北国贸农产品有限公司",
          "湖北国贸农产品有限公司武汉分公司",
          "湖北国贸汽车有限公司",
          "湖北国贸汽车有限公司红安分公司",
          "湖北国贸能源化工有限公司",
          "湖北国贸金属矿产有限公司",
          "湖北国际贸易集团有限公司"
         ],
         "categoryorder": "array",
         "domain": [
          0,
          1
         ],
         "title": {
          "text": "company_name"
         }
        },
        "yaxis": {
         "anchor": "x",
         "domain": [
          0,
          1
         ],
         "title": {
          "text": "SALES"
         }
        }
       }
      }
     },
     "metadata": {},
     "output_type": "display_data"
    },
    {
     "name": "stdout",
     "output_type": "stream",
     "text": [
      "Index(['company_name', 'month', 'SALES'], dtype='object')\n"
     ]
    },
    {
     "data": {
      "application/vnd.plotly.v1+json": {
       "config": {
        "plotlyServerURL": "https://plot.ly"
       },
       "data": [
        {
         "alignmentgroup": "True",
         "hovertemplate": "<b>%{text}</b><br>",
         "legendgroup": "武汉鼎联丰国际贸易有限公司",
         "marker": {
          "color": "#636efa",
          "pattern": {
           "shape": ""
          }
         },
         "name": "武汉鼎联丰国际贸易有限公司",
         "offsetgroup": "武汉鼎联丰国际贸易有限公司",
         "orientation": "v",
         "showlegend": true,
         "text": [
          12984197.4,
          3443136,
          4021670.9,
          3263625.8,
          10086036.7,
          4107347.8,
          4708916.7,
          5663052.2
         ],
         "textposition": "auto",
         "type": "bar",
         "x": [
          "武汉鼎联丰国际贸易有限公司",
          "武汉鼎联丰国际贸易有限公司",
          "武汉鼎联丰国际贸易有限公司",
          "武汉鼎联丰国际贸易有限公司",
          "武汉鼎联丰国际贸易有限公司",
          "武汉鼎联丰国际贸易有限公司",
          "武汉鼎联丰国际贸易有限公司",
          "武汉鼎联丰国际贸易有限公司"
         ],
         "xaxis": "x",
         "y": [
          12984197.4,
          3443136,
          4021670.9,
          3263625.8,
          10086036.7,
          4107347.8,
          4708916.7,
          5663052.2
         ],
         "yaxis": "y"
        },
        {
         "alignmentgroup": "True",
         "hovertemplate": "<b>%{text}</b><br>",
         "legendgroup": "湖北华中能源发展有限公司",
         "marker": {
          "color": "#EF553B",
          "pattern": {
           "shape": ""
          }
         },
         "name": "湖北华中能源发展有限公司",
         "offsetgroup": "湖北华中能源发展有限公司",
         "orientation": "v",
         "showlegend": true,
         "text": [
          421489.8,
          3584910.4,
          7459109.5,
          7798897.8,
          5213741.5,
          7571454.4,
          12046751.3
         ],
         "textposition": "auto",
         "type": "bar",
         "x": [
          "湖北华中能源发展有限公司",
          "湖北华中能源发展有限公司",
          "湖北华中能源发展有限公司",
          "湖北华中能源发展有限公司",
          "湖北华中能源发展有限公司",
          "湖北华中能源发展有限公司",
          "湖北华中能源发展有限公司"
         ],
         "xaxis": "x",
         "y": [
          421489.8,
          3584910.4,
          7459109.5,
          7798897.8,
          5213741.5,
          7571454.4,
          12046751.3
         ],
         "yaxis": "y"
        },
        {
         "alignmentgroup": "True",
         "hovertemplate": "<b>%{text}</b><br>",
         "legendgroup": "湖北南方大集实业有限公司",
         "marker": {
          "color": "#00cc96",
          "pattern": {
           "shape": ""
          }
         },
         "name": "湖北南方大集实业有限公司",
         "offsetgroup": "湖北南方大集实业有限公司",
         "orientation": "v",
         "showlegend": true,
         "text": [
          3421161.4,
          2025065.5,
          7044286,
          7238320.9,
          2574722.3000000003,
          3438572.2,
          6041444.5
         ],
         "textposition": "auto",
         "type": "bar",
         "x": [
          "湖北南方大集实业有限公司",
          "湖北南方大集实业有限公司",
          "湖北南方大集实业有限公司",
          "湖北南方大集实业有限公司",
          "湖北南方大集实业有限公司",
          "湖北南方大集实业有限公司",
          "湖北南方大集实业有限公司"
         ],
         "xaxis": "x",
         "y": [
          3421161.4,
          2025065.5,
          7044286,
          7238320.9,
          2574722.3000000003,
          3438572.2,
          6041444.5
         ],
         "yaxis": "y"
        },
        {
         "alignmentgroup": "True",
         "hovertemplate": "<b>%{text}</b><br>",
         "legendgroup": "湖北南方大集实业有限公司东西湖分公司",
         "marker": {
          "color": "#ab63fa",
          "pattern": {
           "shape": ""
          }
         },
         "name": "湖北南方大集实业有限公司东西湖分公司",
         "offsetgroup": "湖北南方大集实业有限公司东西湖分公司",
         "orientation": "v",
         "showlegend": true,
         "text": [
          6690685.4,
          5732445.4,
          887108.7,
          6426254.9,
          2685220.7,
          9899750.4,
          1354811
         ],
         "textposition": "auto",
         "type": "bar",
         "x": [
          "湖北南方大集实业有限公司东西湖分公司",
          "湖北南方大集实业有限公司东西湖分公司",
          "湖北南方大集实业有限公司东西湖分公司",
          "湖北南方大集实业有限公司东西湖分公司",
          "湖北南方大集实业有限公司东西湖分公司",
          "湖北南方大集实业有限公司东西湖分公司",
          "湖北南方大集实业有限公司东西湖分公司"
         ],
         "xaxis": "x",
         "y": [
          6690685.4,
          5732445.4,
          887108.7,
          6426254.9,
          2685220.7,
          9899750.4,
          1354811
         ],
         "yaxis": "y"
        },
        {
         "alignmentgroup": "True",
         "hovertemplate": "<b>%{text}</b><br>",
         "legendgroup": "湖北南方大集实业有限公司慈惠分公司",
         "marker": {
          "color": "#FFA15A",
          "pattern": {
           "shape": ""
          }
         },
         "name": "湖北南方大集实业有限公司慈惠分公司",
         "offsetgroup": "湖北南方大集实业有限公司慈惠分公司",
         "orientation": "v",
         "showlegend": true,
         "text": [
          6023598.1,
          7953620.7,
          8281864.2,
          7202690.2,
          5096316.5,
          14252882.4,
          4215077.1,
          5579381.7
         ],
         "textposition": "auto",
         "type": "bar",
         "x": [
          "湖北南方大集实业有限公司慈惠分公司",
          "湖北南方大集实业有限公司慈惠分公司",
          "湖北南方大集实业有限公司慈惠分公司",
          "湖北南方大集实业有限公司慈惠分公司",
          "湖北南方大集实业有限公司慈惠分公司",
          "湖北南方大集实业有限公司慈惠分公司",
          "湖北南方大集实业有限公司慈惠分公司",
          "湖北南方大集实业有限公司慈惠分公司"
         ],
         "xaxis": "x",
         "y": [
          6023598.1,
          7953620.7,
          8281864.2,
          7202690.2,
          5096316.5,
          14252882.4,
          4215077.1,
          5579381.7
         ],
         "yaxis": "y"
        },
        {
         "alignmentgroup": "True",
         "hovertemplate": "<b>%{text}</b><br>",
         "legendgroup": "湖北南方大集实业有限公司江汉分公司",
         "marker": {
          "color": "#19d3f3",
          "pattern": {
           "shape": ""
          }
         },
         "name": "湖北南方大集实业有限公司江汉分公司",
         "offsetgroup": "湖北南方大集实业有限公司江汉分公司",
         "orientation": "v",
         "showlegend": true,
         "text": [
          324354.4,
          4383055.4,
          11009902.6,
          8139001.800000001,
          3964952.2,
          2498061.2,
          2997253.5999999996
         ],
         "textposition": "auto",
         "type": "bar",
         "x": [
          "湖北南方大集实业有限公司江汉分公司",
          "湖北南方大集实业有限公司江汉分公司",
          "湖北南方大集实业有限公司江汉分公司",
          "湖北南方大集实业有限公司江汉分公司",
          "湖北南方大集实业有限公司江汉分公司",
          "湖北南方大集实业有限公司江汉分公司",
          "湖北南方大集实业有限公司江汉分公司"
         ],
         "xaxis": "x",
         "y": [
          324354.4,
          4383055.4,
          11009902.6,
          8139001.800000001,
          3964952.2,
          2498061.2,
          2997253.5999999996
         ],
         "yaxis": "y"
        },
        {
         "alignmentgroup": "True",
         "hovertemplate": "<b>%{text}</b><br>",
         "legendgroup": "湖北南方大集实业有限公司能源分公司",
         "marker": {
          "color": "#FF6692",
          "pattern": {
           "shape": ""
          }
         },
         "name": "湖北南方大集实业有限公司能源分公司",
         "offsetgroup": "湖北南方大集实业有限公司能源分公司",
         "orientation": "v",
         "showlegend": true,
         "text": [
          2696298.9,
          2944516.8,
          4809826.8,
          7911312.9,
          16525698.5,
          8430059.6,
          2522660.7,
          3544319.2
         ],
         "textposition": "auto",
         "type": "bar",
         "x": [
          "湖北南方大集实业有限公司能源分公司",
          "湖北南方大集实业有限公司能源分公司",
          "湖北南方大集实业有限公司能源分公司",
          "湖北南方大集实业有限公司能源分公司",
          "湖北南方大集实业有限公司能源分公司",
          "湖北南方大集实业有限公司能源分公司",
          "湖北南方大集实业有限公司能源分公司",
          "湖北南方大集实业有限公司能源分公司"
         ],
         "xaxis": "x",
         "y": [
          2696298.9,
          2944516.8,
          4809826.8,
          7911312.9,
          16525698.5,
          8430059.6,
          2522660.7,
          3544319.2
         ],
         "yaxis": "y"
        },
        {
         "alignmentgroup": "True",
         "hovertemplate": "<b>%{text}</b><br>",
         "legendgroup": "湖北南方工贸有限公司",
         "marker": {
          "color": "#B6E880",
          "pattern": {
           "shape": ""
          }
         },
         "name": "湖北南方工贸有限公司",
         "offsetgroup": "湖北南方工贸有限公司",
         "orientation": "v",
         "showlegend": true,
         "text": [
          355122.2,
          19237679.1,
          2465402.3,
          3996748.5,
          1187793.1,
          4090298
         ],
         "textposition": "auto",
         "type": "bar",
         "x": [
          "湖北南方工贸有限公司",
          "湖北南方工贸有限公司",
          "湖北南方工贸有限公司",
          "湖北南方工贸有限公司",
          "湖北南方工贸有限公司",
          "湖北南方工贸有限公司"
         ],
         "xaxis": "x",
         "y": [
          355122.2,
          19237679.1,
          2465402.3,
          3996748.5,
          1187793.1,
          4090298
         ],
         "yaxis": "y"
        },
        {
         "alignmentgroup": "True",
         "hovertemplate": "<b>%{text}</b><br>",
         "legendgroup": "湖北南方集团有限公司",
         "marker": {
          "color": "#FF97FF",
          "pattern": {
           "shape": ""
          }
         },
         "name": "湖北南方集团有限公司",
         "offsetgroup": "湖北南方集团有限公司",
         "orientation": "v",
         "showlegend": true,
         "text": [
          8166017.2,
          3877281.1999999997,
          2100484.2,
          8188519.1,
          7665227.1,
          1581284.8,
          7447674.3
         ],
         "textposition": "auto",
         "type": "bar",
         "x": [
          "湖北南方集团有限公司",
          "湖北南方集团有限公司",
          "湖北南方集团有限公司",
          "湖北南方集团有限公司",
          "湖北南方集团有限公司",
          "湖北南方集团有限公司",
          "湖北南方集团有限公司"
         ],
         "xaxis": "x",
         "y": [
          8166017.2,
          3877281.1999999997,
          2100484.2,
          8188519.1,
          7665227.1,
          1581284.8,
          7447674.3
         ],
         "yaxis": "y"
        },
        {
         "alignmentgroup": "True",
         "hovertemplate": "<b>%{text}</b><br>",
         "legendgroup": "湖北国贸供应链管理有限公司",
         "marker": {
          "color": "#FECB52",
          "pattern": {
           "shape": ""
          }
         },
         "name": "湖北国贸供应链管理有限公司",
         "offsetgroup": "湖北国贸供应链管理有限公司",
         "orientation": "v",
         "showlegend": true,
         "text": [
          13604812.8,
          1247040.7,
          10317521.6,
          2597568.2,
          13549672.5,
          4676651.5,
          10954248.9,
          4546808.5
         ],
         "textposition": "auto",
         "type": "bar",
         "x": [
          "湖北国贸供应链管理有限公司",
          "湖北国贸供应链管理有限公司",
          "湖北国贸供应链管理有限公司",
          "湖北国贸供应链管理有限公司",
          "湖北国贸供应链管理有限公司",
          "湖北国贸供应链管理有限公司",
          "湖北国贸供应链管理有限公司",
          "湖北国贸供应链管理有限公司"
         ],
         "xaxis": "x",
         "y": [
          13604812.8,
          1247040.7,
          10317521.6,
          2597568.2,
          13549672.5,
          4676651.5,
          10954248.9,
          4546808.5
         ],
         "yaxis": "y"
        },
        {
         "alignmentgroup": "True",
         "hovertemplate": "<b>%{text}</b><br>",
         "legendgroup": "湖北国贸农产品有限公司",
         "marker": {
          "color": "#636efa",
          "pattern": {
           "shape": ""
          }
         },
         "name": "湖北国贸农产品有限公司",
         "offsetgroup": "湖北国贸农产品有限公司",
         "orientation": "v",
         "showlegend": true,
         "text": [
          9487301.5,
          2270970.9,
          4948280.3,
          10707237.8,
          2675687.5,
          1197731.2,
          7398501.199999999
         ],
         "textposition": "auto",
         "type": "bar",
         "x": [
          "湖北国贸农产品有限公司",
          "湖北国贸农产品有限公司",
          "湖北国贸农产品有限公司",
          "湖北国贸农产品有限公司",
          "湖北国贸农产品有限公司",
          "湖北国贸农产品有限公司",
          "湖北国贸农产品有限公司"
         ],
         "xaxis": "x",
         "y": [
          9487301.5,
          2270970.9,
          4948280.3,
          10707237.8,
          2675687.5,
          1197731.2,
          7398501.199999999
         ],
         "yaxis": "y"
        },
        {
         "alignmentgroup": "True",
         "hovertemplate": "<b>%{text}</b><br>",
         "legendgroup": "湖北国贸农产品有限公司武汉分公司",
         "marker": {
          "color": "#EF553B",
          "pattern": {
           "shape": ""
          }
         },
         "name": "湖北国贸农产品有限公司武汉分公司",
         "offsetgroup": "湖北国贸农产品有限公司武汉分公司",
         "orientation": "v",
         "showlegend": true,
         "text": [
          7650021.1,
          11944079.100000001,
          3623622.5,
          4324678.9,
          13647968.7,
          8780294.4,
          7407258.2
         ],
         "textposition": "auto",
         "type": "bar",
         "x": [
          "湖北国贸农产品有限公司武汉分公司",
          "湖北国贸农产品有限公司武汉分公司",
          "湖北国贸农产品有限公司武汉分公司",
          "湖北国贸农产品有限公司武汉分公司",
          "湖北国贸农产品有限公司武汉分公司",
          "湖北国贸农产品有限公司武汉分公司",
          "湖北国贸农产品有限公司武汉分公司"
         ],
         "xaxis": "x",
         "y": [
          7650021.1,
          11944079.100000001,
          3623622.5,
          4324678.9,
          13647968.7,
          8780294.4,
          7407258.2
         ],
         "yaxis": "y"
        },
        {
         "alignmentgroup": "True",
         "hovertemplate": "<b>%{text}</b><br>",
         "legendgroup": "湖北国贸汽车有限公司",
         "marker": {
          "color": "#00cc96",
          "pattern": {
           "shape": ""
          }
         },
         "name": "湖北国贸汽车有限公司",
         "offsetgroup": "湖北国贸汽车有限公司",
         "orientation": "v",
         "showlegend": true,
         "text": [
          4049009.5,
          5644482.1,
          5275752.2,
          4690877.8,
          5839612.1,
          12278808.9,
          9511154.7,
          10420829.9
         ],
         "textposition": "auto",
         "type": "bar",
         "x": [
          "湖北国贸汽车有限公司",
          "湖北国贸汽车有限公司",
          "湖北国贸汽车有限公司",
          "湖北国贸汽车有限公司",
          "湖北国贸汽车有限公司",
          "湖北国贸汽车有限公司",
          "湖北国贸汽车有限公司",
          "湖北国贸汽车有限公司"
         ],
         "xaxis": "x",
         "y": [
          4049009.5,
          5644482.1,
          5275752.2,
          4690877.8,
          5839612.1,
          12278808.9,
          9511154.7,
          10420829.9
         ],
         "yaxis": "y"
        },
        {
         "alignmentgroup": "True",
         "hovertemplate": "<b>%{text}</b><br>",
         "legendgroup": "湖北国贸汽车有限公司红安分公司",
         "marker": {
          "color": "#ab63fa",
          "pattern": {
           "shape": ""
          }
         },
         "name": "湖北国贸汽车有限公司红安分公司",
         "offsetgroup": "湖北国贸汽车有限公司红安分公司",
         "orientation": "v",
         "showlegend": true,
         "text": [
          5698755.5,
          5998327.4,
          8807821.9,
          6410846.499999999,
          6611848.699999999,
          2413638,
          1377416.3
         ],
         "textposition": "auto",
         "type": "bar",
         "x": [
          "湖北国贸汽车有限公司红安分公司",
          "湖北国贸汽车有限公司红安分公司",
          "湖北国贸汽车有限公司红安分公司",
          "湖北国贸汽车有限公司红安分公司",
          "湖北国贸汽车有限公司红安分公司",
          "湖北国贸汽车有限公司红安分公司",
          "湖北国贸汽车有限公司红安分公司"
         ],
         "xaxis": "x",
         "y": [
          5698755.5,
          5998327.4,
          8807821.9,
          6410846.499999999,
          6611848.699999999,
          2413638,
          1377416.3
         ],
         "yaxis": "y"
        },
        {
         "alignmentgroup": "True",
         "hovertemplate": "<b>%{text}</b><br>",
         "legendgroup": "湖北国贸能源化工有限公司",
         "marker": {
          "color": "#FFA15A",
          "pattern": {
           "shape": ""
          }
         },
         "name": "湖北国贸能源化工有限公司",
         "offsetgroup": "湖北国贸能源化工有限公司",
         "orientation": "v",
         "showlegend": true,
         "text": [
          8091800.7,
          9933634.8,
          162766.7,
          8753574.9,
          4199156.5,
          7340725.9,
          9819276.2
         ],
         "textposition": "auto",
         "type": "bar",
         "x": [
          "湖北国贸能源化工有限公司",
          "湖北国贸能源化工有限公司",
          "湖北国贸能源化工有限公司",
          "湖北国贸能源化工有限公司",
          "湖北国贸能源化工有限公司",
          "湖北国贸能源化工有限公司",
          "湖北国贸能源化工有限公司"
         ],
         "xaxis": "x",
         "y": [
          8091800.7,
          9933634.8,
          162766.7,
          8753574.9,
          4199156.5,
          7340725.9,
          9819276.2
         ],
         "yaxis": "y"
        },
        {
         "alignmentgroup": "True",
         "hovertemplate": "<b>%{text}</b><br>",
         "legendgroup": "湖北国贸金属矿产有限公司",
         "marker": {
          "color": "#19d3f3",
          "pattern": {
           "shape": ""
          }
         },
         "name": "湖北国贸金属矿产有限公司",
         "offsetgroup": "湖北国贸金属矿产有限公司",
         "orientation": "v",
         "showlegend": true,
         "text": [
          6485757.6,
          7331945.5,
          6466089.2,
          2112755.6,
          4524438.7,
          7531375.3,
          5016374.4
         ],
         "textposition": "auto",
         "type": "bar",
         "x": [
          "湖北国贸金属矿产有限公司",
          "湖北国贸金属矿产有限公司",
          "湖北国贸金属矿产有限公司",
          "湖北国贸金属矿产有限公司",
          "湖北国贸金属矿产有限公司",
          "湖北国贸金属矿产有限公司",
          "湖北国贸金属矿产有限公司"
         ],
         "xaxis": "x",
         "y": [
          6485757.6,
          7331945.5,
          6466089.2,
          2112755.6,
          4524438.7,
          7531375.3,
          5016374.4
         ],
         "yaxis": "y"
        },
        {
         "alignmentgroup": "True",
         "hovertemplate": "<b>%{text}</b><br>",
         "legendgroup": "湖北国际贸易集团有限公司",
         "marker": {
          "color": "#FF6692",
          "pattern": {
           "shape": ""
          }
         },
         "name": "湖北国际贸易集团有限公司",
         "offsetgroup": "湖北国际贸易集团有限公司",
         "orientation": "v",
         "showlegend": true,
         "text": [
          9776831.7,
          8583797.3,
          10922422.1,
          13444767.4,
          147742.2,
          11843991.899999999,
          11309235.9
         ],
         "textposition": "auto",
         "type": "bar",
         "x": [
          "湖北国际贸易集团有限公司",
          "湖北国际贸易集团有限公司",
          "湖北国际贸易集团有限公司",
          "湖北国际贸易集团有限公司",
          "湖北国际贸易集团有限公司",
          "湖北国际贸易集团有限公司",
          "湖北国际贸易集团有限公司"
         ],
         "xaxis": "x",
         "y": [
          9776831.7,
          8583797.3,
          10922422.1,
          13444767.4,
          147742.2,
          11843991.899999999,
          11309235.9
         ],
         "yaxis": "y"
        }
       ],
       "layout": {
        "barmode": "stack",
        "legend": {
         "title": {
          "text": "company_name"
         },
         "tracegroupgap": 0
        },
        "margin": {
         "t": 60
        },
        "template": {
         "data": {
          "bar": [
           {
            "error_x": {
             "color": "#2a3f5f"
            },
            "error_y": {
             "color": "#2a3f5f"
            },
            "marker": {
             "line": {
              "color": "#E5ECF6",
              "width": 0.5
             },
             "pattern": {
              "fillmode": "overlay",
              "size": 10,
              "solidity": 0.2
             }
            },
            "type": "bar"
           }
          ],
          "barpolar": [
           {
            "marker": {
             "line": {
              "color": "#E5ECF6",
              "width": 0.5
             },
             "pattern": {
              "fillmode": "overlay",
              "size": 10,
              "solidity": 0.2
             }
            },
            "type": "barpolar"
           }
          ],
          "carpet": [
           {
            "aaxis": {
             "endlinecolor": "#2a3f5f",
             "gridcolor": "white",
             "linecolor": "white",
             "minorgridcolor": "white",
             "startlinecolor": "#2a3f5f"
            },
            "baxis": {
             "endlinecolor": "#2a3f5f",
             "gridcolor": "white",
             "linecolor": "white",
             "minorgridcolor": "white",
             "startlinecolor": "#2a3f5f"
            },
            "type": "carpet"
           }
          ],
          "choropleth": [
           {
            "colorbar": {
             "outlinewidth": 0,
             "ticks": ""
            },
            "type": "choropleth"
           }
          ],
          "contour": [
           {
            "colorbar": {
             "outlinewidth": 0,
             "ticks": ""
            },
            "colorscale": [
             [
              0,
              "#0d0887"
             ],
             [
              0.1111111111111111,
              "#46039f"
             ],
             [
              0.2222222222222222,
              "#7201a8"
             ],
             [
              0.3333333333333333,
              "#9c179e"
             ],
             [
              0.4444444444444444,
              "#bd3786"
             ],
             [
              0.5555555555555556,
              "#d8576b"
             ],
             [
              0.6666666666666666,
              "#ed7953"
             ],
             [
              0.7777777777777778,
              "#fb9f3a"
             ],
             [
              0.8888888888888888,
              "#fdca26"
             ],
             [
              1,
              "#f0f921"
             ]
            ],
            "type": "contour"
           }
          ],
          "contourcarpet": [
           {
            "colorbar": {
             "outlinewidth": 0,
             "ticks": ""
            },
            "type": "contourcarpet"
           }
          ],
          "heatmap": [
           {
            "colorbar": {
             "outlinewidth": 0,
             "ticks": ""
            },
            "colorscale": [
             [
              0,
              "#0d0887"
             ],
             [
              0.1111111111111111,
              "#46039f"
             ],
             [
              0.2222222222222222,
              "#7201a8"
             ],
             [
              0.3333333333333333,
              "#9c179e"
             ],
             [
              0.4444444444444444,
              "#bd3786"
             ],
             [
              0.5555555555555556,
              "#d8576b"
             ],
             [
              0.6666666666666666,
              "#ed7953"
             ],
             [
              0.7777777777777778,
              "#fb9f3a"
             ],
             [
              0.8888888888888888,
              "#fdca26"
             ],
             [
              1,
              "#f0f921"
             ]
            ],
            "type": "heatmap"
           }
          ],
          "heatmapgl": [
           {
            "colorbar": {
             "outlinewidth": 0,
             "ticks": ""
            },
            "colorscale": [
             [
              0,
              "#0d0887"
             ],
             [
              0.1111111111111111,
              "#46039f"
             ],
             [
              0.2222222222222222,
              "#7201a8"
             ],
             [
              0.3333333333333333,
              "#9c179e"
             ],
             [
              0.4444444444444444,
              "#bd3786"
             ],
             [
              0.5555555555555556,
              "#d8576b"
             ],
             [
              0.6666666666666666,
              "#ed7953"
             ],
             [
              0.7777777777777778,
              "#fb9f3a"
             ],
             [
              0.8888888888888888,
              "#fdca26"
             ],
             [
              1,
              "#f0f921"
             ]
            ],
            "type": "heatmapgl"
           }
          ],
          "histogram": [
           {
            "marker": {
             "pattern": {
              "fillmode": "overlay",
              "size": 10,
              "solidity": 0.2
             }
            },
            "type": "histogram"
           }
          ],
          "histogram2d": [
           {
            "colorbar": {
             "outlinewidth": 0,
             "ticks": ""
            },
            "colorscale": [
             [
              0,
              "#0d0887"
             ],
             [
              0.1111111111111111,
              "#46039f"
             ],
             [
              0.2222222222222222,
              "#7201a8"
             ],
             [
              0.3333333333333333,
              "#9c179e"
             ],
             [
              0.4444444444444444,
              "#bd3786"
             ],
             [
              0.5555555555555556,
              "#d8576b"
             ],
             [
              0.6666666666666666,
              "#ed7953"
             ],
             [
              0.7777777777777778,
              "#fb9f3a"
             ],
             [
              0.8888888888888888,
              "#fdca26"
             ],
             [
              1,
              "#f0f921"
             ]
            ],
            "type": "histogram2d"
           }
          ],
          "histogram2dcontour": [
           {
            "colorbar": {
             "outlinewidth": 0,
             "ticks": ""
            },
            "colorscale": [
             [
              0,
              "#0d0887"
             ],
             [
              0.1111111111111111,
              "#46039f"
             ],
             [
              0.2222222222222222,
              "#7201a8"
             ],
             [
              0.3333333333333333,
              "#9c179e"
             ],
             [
              0.4444444444444444,
              "#bd3786"
             ],
             [
              0.5555555555555556,
              "#d8576b"
             ],
             [
              0.6666666666666666,
              "#ed7953"
             ],
             [
              0.7777777777777778,
              "#fb9f3a"
             ],
             [
              0.8888888888888888,
              "#fdca26"
             ],
             [
              1,
              "#f0f921"
             ]
            ],
            "type": "histogram2dcontour"
           }
          ],
          "mesh3d": [
           {
            "colorbar": {
             "outlinewidth": 0,
             "ticks": ""
            },
            "type": "mesh3d"
           }
          ],
          "parcoords": [
           {
            "line": {
             "colorbar": {
              "outlinewidth": 0,
              "ticks": ""
             }
            },
            "type": "parcoords"
           }
          ],
          "pie": [
           {
            "automargin": true,
            "type": "pie"
           }
          ],
          "scatter": [
           {
            "fillpattern": {
             "fillmode": "overlay",
             "size": 10,
             "solidity": 0.2
            },
            "type": "scatter"
           }
          ],
          "scatter3d": [
           {
            "line": {
             "colorbar": {
              "outlinewidth": 0,
              "ticks": ""
             }
            },
            "marker": {
             "colorbar": {
              "outlinewidth": 0,
              "ticks": ""
             }
            },
            "type": "scatter3d"
           }
          ],
          "scattercarpet": [
           {
            "marker": {
             "colorbar": {
              "outlinewidth": 0,
              "ticks": ""
             }
            },
            "type": "scattercarpet"
           }
          ],
          "scattergeo": [
           {
            "marker": {
             "colorbar": {
              "outlinewidth": 0,
              "ticks": ""
             }
            },
            "type": "scattergeo"
           }
          ],
          "scattergl": [
           {
            "marker": {
             "colorbar": {
              "outlinewidth": 0,
              "ticks": ""
             }
            },
            "type": "scattergl"
           }
          ],
          "scattermapbox": [
           {
            "marker": {
             "colorbar": {
              "outlinewidth": 0,
              "ticks": ""
             }
            },
            "type": "scattermapbox"
           }
          ],
          "scatterpolar": [
           {
            "marker": {
             "colorbar": {
              "outlinewidth": 0,
              "ticks": ""
             }
            },
            "type": "scatterpolar"
           }
          ],
          "scatterpolargl": [
           {
            "marker": {
             "colorbar": {
              "outlinewidth": 0,
              "ticks": ""
             }
            },
            "type": "scatterpolargl"
           }
          ],
          "scatterternary": [
           {
            "marker": {
             "colorbar": {
              "outlinewidth": 0,
              "ticks": ""
             }
            },
            "type": "scatterternary"
           }
          ],
          "surface": [
           {
            "colorbar": {
             "outlinewidth": 0,
             "ticks": ""
            },
            "colorscale": [
             [
              0,
              "#0d0887"
             ],
             [
              0.1111111111111111,
              "#46039f"
             ],
             [
              0.2222222222222222,
              "#7201a8"
             ],
             [
              0.3333333333333333,
              "#9c179e"
             ],
             [
              0.4444444444444444,
              "#bd3786"
             ],
             [
              0.5555555555555556,
              "#d8576b"
             ],
             [
              0.6666666666666666,
              "#ed7953"
             ],
             [
              0.7777777777777778,
              "#fb9f3a"
             ],
             [
              0.8888888888888888,
              "#fdca26"
             ],
             [
              1,
              "#f0f921"
             ]
            ],
            "type": "surface"
           }
          ],
          "table": [
           {
            "cells": {
             "fill": {
              "color": "#EBF0F8"
             },
             "line": {
              "color": "white"
             }
            },
            "header": {
             "fill": {
              "color": "#C8D4E3"
             },
             "line": {
              "color": "white"
             }
            },
            "type": "table"
           }
          ]
         },
         "layout": {
          "annotationdefaults": {
           "arrowcolor": "#2a3f5f",
           "arrowhead": 0,
           "arrowwidth": 1
          },
          "autotypenumbers": "strict",
          "coloraxis": {
           "colorbar": {
            "outlinewidth": 0,
            "ticks": ""
           }
          },
          "colorscale": {
           "diverging": [
            [
             0,
             "#8e0152"
            ],
            [
             0.1,
             "#c51b7d"
            ],
            [
             0.2,
             "#de77ae"
            ],
            [
             0.3,
             "#f1b6da"
            ],
            [
             0.4,
             "#fde0ef"
            ],
            [
             0.5,
             "#f7f7f7"
            ],
            [
             0.6,
             "#e6f5d0"
            ],
            [
             0.7,
             "#b8e186"
            ],
            [
             0.8,
             "#7fbc41"
            ],
            [
             0.9,
             "#4d9221"
            ],
            [
             1,
             "#276419"
            ]
           ],
           "sequential": [
            [
             0,
             "#0d0887"
            ],
            [
             0.1111111111111111,
             "#46039f"
            ],
            [
             0.2222222222222222,
             "#7201a8"
            ],
            [
             0.3333333333333333,
             "#9c179e"
            ],
            [
             0.4444444444444444,
             "#bd3786"
            ],
            [
             0.5555555555555556,
             "#d8576b"
            ],
            [
             0.6666666666666666,
             "#ed7953"
            ],
            [
             0.7777777777777778,
             "#fb9f3a"
            ],
            [
             0.8888888888888888,
             "#fdca26"
            ],
            [
             1,
             "#f0f921"
            ]
           ],
           "sequentialminus": [
            [
             0,
             "#0d0887"
            ],
            [
             0.1111111111111111,
             "#46039f"
            ],
            [
             0.2222222222222222,
             "#7201a8"
            ],
            [
             0.3333333333333333,
             "#9c179e"
            ],
            [
             0.4444444444444444,
             "#bd3786"
            ],
            [
             0.5555555555555556,
             "#d8576b"
            ],
            [
             0.6666666666666666,
             "#ed7953"
            ],
            [
             0.7777777777777778,
             "#fb9f3a"
            ],
            [
             0.8888888888888888,
             "#fdca26"
            ],
            [
             1,
             "#f0f921"
            ]
           ]
          },
          "colorway": [
           "#636efa",
           "#EF553B",
           "#00cc96",
           "#ab63fa",
           "#FFA15A",
           "#19d3f3",
           "#FF6692",
           "#B6E880",
           "#FF97FF",
           "#FECB52"
          ],
          "font": {
           "color": "#2a3f5f"
          },
          "geo": {
           "bgcolor": "white",
           "lakecolor": "white",
           "landcolor": "#E5ECF6",
           "showlakes": true,
           "showland": true,
           "subunitcolor": "white"
          },
          "hoverlabel": {
           "align": "left"
          },
          "hovermode": "closest",
          "mapbox": {
           "style": "light"
          },
          "paper_bgcolor": "white",
          "plot_bgcolor": "#E5ECF6",
          "polar": {
           "angularaxis": {
            "gridcolor": "white",
            "linecolor": "white",
            "ticks": ""
           },
           "bgcolor": "#E5ECF6",
           "radialaxis": {
            "gridcolor": "white",
            "linecolor": "white",
            "ticks": ""
           }
          },
          "scene": {
           "xaxis": {
            "backgroundcolor": "#E5ECF6",
            "gridcolor": "white",
            "gridwidth": 2,
            "linecolor": "white",
            "showbackground": true,
            "ticks": "",
            "zerolinecolor": "white"
           },
           "yaxis": {
            "backgroundcolor": "#E5ECF6",
            "gridcolor": "white",
            "gridwidth": 2,
            "linecolor": "white",
            "showbackground": true,
            "ticks": "",
            "zerolinecolor": "white"
           },
           "zaxis": {
            "backgroundcolor": "#E5ECF6",
            "gridcolor": "white",
            "gridwidth": 2,
            "linecolor": "white",
            "showbackground": true,
            "ticks": "",
            "zerolinecolor": "white"
           }
          },
          "shapedefaults": {
           "line": {
            "color": "#2a3f5f"
           }
          },
          "ternary": {
           "aaxis": {
            "gridcolor": "white",
            "linecolor": "white",
            "ticks": ""
           },
           "baxis": {
            "gridcolor": "white",
            "linecolor": "white",
            "ticks": ""
           },
           "bgcolor": "#E5ECF6",
           "caxis": {
            "gridcolor": "white",
            "linecolor": "white",
            "ticks": ""
           }
          },
          "title": {
           "x": 0.05
          },
          "xaxis": {
           "automargin": true,
           "gridcolor": "white",
           "linecolor": "white",
           "ticks": "",
           "title": {
            "standoff": 15
           },
           "zerolinecolor": "white",
           "zerolinewidth": 2
          },
          "yaxis": {
           "automargin": true,
           "gridcolor": "white",
           "linecolor": "white",
           "ticks": "",
           "title": {
            "standoff": 15
           },
           "zerolinecolor": "white",
           "zerolinewidth": 2
          }
         }
        },
        "xaxis": {
         "anchor": "y",
         "categoryarray": [
          "武汉鼎联丰国际贸易有限公司",
          "湖北华中能源发展有限公司",
          "湖北南方大集实业有限公司",
          "湖北南方大集实业有限公司东西湖分公司",
          "湖北南方大集实业有限公司慈惠分公司",
          "湖北南方大集实业有限公司江汉分公司",
          "湖北南方大集实业有限公司能源分公司",
          "湖北南方工贸有限公司",
          "湖北南方集团有限公司",
          "湖北国贸供应链管理有限公司",
          "湖北国贸农产品有限公司",
          "湖北国贸农产品有限公司武汉分公司",
          "湖北国贸汽车有限公司",
          "湖北国贸汽车有限公司红安分公司",
          "湖北国贸能源化工有限公司",
          "湖北国贸金属矿产有限公司",
          "湖北国际贸易集团有限公司"
         ],
         "categoryorder": "array",
         "domain": [
          0,
          1
         ],
         "title": {
          "text": "company_name"
         }
        },
        "yaxis": {
         "anchor": "x",
         "domain": [
          0,
          1
         ],
         "title": {
          "text": "SALES"
         }
        }
       }
      }
     },
     "metadata": {},
     "output_type": "display_data"
    },
    {
     "name": "stdout",
     "output_type": "stream",
     "text": [
      "Index(['company_name', 'month', 'SALES'], dtype='object')\n"
     ]
    },
    {
     "data": {
      "application/vnd.plotly.v1+json": {
       "config": {
        "plotlyServerURL": "https://plot.ly"
       },
       "data": [
        {
         "alignmentgroup": "True",
         "hovertemplate": "<b>%{text}</b><br>",
         "legendgroup": "武汉鼎联丰国际贸易有限公司",
         "marker": {
          "color": "#636efa",
          "pattern": {
           "shape": ""
          }
         },
         "name": "武汉鼎联丰国际贸易有限公司",
         "offsetgroup": "武汉鼎联丰国际贸易有限公司",
         "orientation": "v",
         "showlegend": true,
         "text": [
          12984197.4,
          3443136,
          4021670.9,
          3263625.8,
          10086036.7,
          4107347.8,
          4708916.7,
          5663052.2
         ],
         "textposition": "auto",
         "type": "bar",
         "x": [
          "武汉鼎联丰国际贸易有限公司",
          "武汉鼎联丰国际贸易有限公司",
          "武汉鼎联丰国际贸易有限公司",
          "武汉鼎联丰国际贸易有限公司",
          "武汉鼎联丰国际贸易有限公司",
          "武汉鼎联丰国际贸易有限公司",
          "武汉鼎联丰国际贸易有限公司",
          "武汉鼎联丰国际贸易有限公司"
         ],
         "xaxis": "x",
         "y": [
          12984197.4,
          3443136,
          4021670.9,
          3263625.8,
          10086036.7,
          4107347.8,
          4708916.7,
          5663052.2
         ],
         "yaxis": "y"
        },
        {
         "alignmentgroup": "True",
         "hovertemplate": "<b>%{text}</b><br>",
         "legendgroup": "湖北华中能源发展有限公司",
         "marker": {
          "color": "#EF553B",
          "pattern": {
           "shape": ""
          }
         },
         "name": "湖北华中能源发展有限公司",
         "offsetgroup": "湖北华中能源发展有限公司",
         "orientation": "v",
         "showlegend": true,
         "text": [
          421489.8,
          3584910.4,
          7459109.5,
          7798897.8,
          5213741.5,
          7571454.4,
          12046751.3
         ],
         "textposition": "auto",
         "type": "bar",
         "x": [
          "湖北华中能源发展有限公司",
          "湖北华中能源发展有限公司",
          "湖北华中能源发展有限公司",
          "湖北华中能源发展有限公司",
          "湖北华中能源发展有限公司",
          "湖北华中能源发展有限公司",
          "湖北华中能源发展有限公司"
         ],
         "xaxis": "x",
         "y": [
          421489.8,
          3584910.4,
          7459109.5,
          7798897.8,
          5213741.5,
          7571454.4,
          12046751.3
         ],
         "yaxis": "y"
        },
        {
         "alignmentgroup": "True",
         "hovertemplate": "<b>%{text}</b><br>",
         "legendgroup": "湖北南方大集实业有限公司",
         "marker": {
          "color": "#00cc96",
          "pattern": {
           "shape": ""
          }
         },
         "name": "湖北南方大集实业有限公司",
         "offsetgroup": "湖北南方大集实业有限公司",
         "orientation": "v",
         "showlegend": true,
         "text": [
          3421161.4,
          2025065.5,
          7044286,
          7238320.9,
          2574722.3000000003,
          3438572.2,
          6041444.5
         ],
         "textposition": "auto",
         "type": "bar",
         "x": [
          "湖北南方大集实业有限公司",
          "湖北南方大集实业有限公司",
          "湖北南方大集实业有限公司",
          "湖北南方大集实业有限公司",
          "湖北南方大集实业有限公司",
          "湖北南方大集实业有限公司",
          "湖北南方大集实业有限公司"
         ],
         "xaxis": "x",
         "y": [
          3421161.4,
          2025065.5,
          7044286,
          7238320.9,
          2574722.3000000003,
          3438572.2,
          6041444.5
         ],
         "yaxis": "y"
        },
        {
         "alignmentgroup": "True",
         "hovertemplate": "<b>%{text}</b><br>",
         "legendgroup": "湖北南方大集实业有限公司东西湖分公司",
         "marker": {
          "color": "#ab63fa",
          "pattern": {
           "shape": ""
          }
         },
         "name": "湖北南方大集实业有限公司东西湖分公司",
         "offsetgroup": "湖北南方大集实业有限公司东西湖分公司",
         "orientation": "v",
         "showlegend": true,
         "text": [
          6690685.4,
          5732445.4,
          887108.7,
          6426254.9,
          2685220.7,
          9899750.4,
          1354811
         ],
         "textposition": "auto",
         "type": "bar",
         "x": [
          "湖北南方大集实业有限公司东西湖分公司",
          "湖北南方大集实业有限公司东西湖分公司",
          "湖北南方大集实业有限公司东西湖分公司",
          "湖北南方大集实业有限公司东西湖分公司",
          "湖北南方大集实业有限公司东西湖分公司",
          "湖北南方大集实业有限公司东西湖分公司",
          "湖北南方大集实业有限公司东西湖分公司"
         ],
         "xaxis": "x",
         "y": [
          6690685.4,
          5732445.4,
          887108.7,
          6426254.9,
          2685220.7,
          9899750.4,
          1354811
         ],
         "yaxis": "y"
        },
        {
         "alignmentgroup": "True",
         "hovertemplate": "<b>%{text}</b><br>",
         "legendgroup": "湖北南方大集实业有限公司慈惠分公司",
         "marker": {
          "color": "#FFA15A",
          "pattern": {
           "shape": ""
          }
         },
         "name": "湖北南方大集实业有限公司慈惠分公司",
         "offsetgroup": "湖北南方大集实业有限公司慈惠分公司",
         "orientation": "v",
         "showlegend": true,
         "text": [
          6023598.1,
          7953620.7,
          8281864.2,
          7202690.2,
          5096316.5,
          14252882.4,
          4215077.1,
          5579381.7
         ],
         "textposition": "auto",
         "type": "bar",
         "x": [
          "湖北南方大集实业有限公司慈惠分公司",
          "湖北南方大集实业有限公司慈惠分公司",
          "湖北南方大集实业有限公司慈惠分公司",
          "湖北南方大集实业有限公司慈惠分公司",
          "湖北南方大集实业有限公司慈惠分公司",
          "湖北南方大集实业有限公司慈惠分公司",
          "湖北南方大集实业有限公司慈惠分公司",
          "湖北南方大集实业有限公司慈惠分公司"
         ],
         "xaxis": "x",
         "y": [
          6023598.1,
          7953620.7,
          8281864.2,
          7202690.2,
          5096316.5,
          14252882.4,
          4215077.1,
          5579381.7
         ],
         "yaxis": "y"
        },
        {
         "alignmentgroup": "True",
         "hovertemplate": "<b>%{text}</b><br>",
         "legendgroup": "湖北南方大集实业有限公司江汉分公司",
         "marker": {
          "color": "#19d3f3",
          "pattern": {
           "shape": ""
          }
         },
         "name": "湖北南方大集实业有限公司江汉分公司",
         "offsetgroup": "湖北南方大集实业有限公司江汉分公司",
         "orientation": "v",
         "showlegend": true,
         "text": [
          324354.4,
          4383055.4,
          11009902.6,
          8139001.800000001,
          3964952.2,
          2498061.2,
          2997253.5999999996
         ],
         "textposition": "auto",
         "type": "bar",
         "x": [
          "湖北南方大集实业有限公司江汉分公司",
          "湖北南方大集实业有限公司江汉分公司",
          "湖北南方大集实业有限公司江汉分公司",
          "湖北南方大集实业有限公司江汉分公司",
          "湖北南方大集实业有限公司江汉分公司",
          "湖北南方大集实业有限公司江汉分公司",
          "湖北南方大集实业有限公司江汉分公司"
         ],
         "xaxis": "x",
         "y": [
          324354.4,
          4383055.4,
          11009902.6,
          8139001.800000001,
          3964952.2,
          2498061.2,
          2997253.5999999996
         ],
         "yaxis": "y"
        },
        {
         "alignmentgroup": "True",
         "hovertemplate": "<b>%{text}</b><br>",
         "legendgroup": "湖北南方大集实业有限公司能源分公司",
         "marker": {
          "color": "#FF6692",
          "pattern": {
           "shape": ""
          }
         },
         "name": "湖北南方大集实业有限公司能源分公司",
         "offsetgroup": "湖北南方大集实业有限公司能源分公司",
         "orientation": "v",
         "showlegend": true,
         "text": [
          2696298.9,
          2944516.8,
          4809826.8,
          7911312.9,
          16525698.5,
          8430059.6,
          2522660.7,
          3544319.2
         ],
         "textposition": "auto",
         "type": "bar",
         "x": [
          "湖北南方大集实业有限公司能源分公司",
          "湖北南方大集实业有限公司能源分公司",
          "湖北南方大集实业有限公司能源分公司",
          "湖北南方大集实业有限公司能源分公司",
          "湖北南方大集实业有限公司能源分公司",
          "湖北南方大集实业有限公司能源分公司",
          "湖北南方大集实业有限公司能源分公司",
          "湖北南方大集实业有限公司能源分公司"
         ],
         "xaxis": "x",
         "y": [
          2696298.9,
          2944516.8,
          4809826.8,
          7911312.9,
          16525698.5,
          8430059.6,
          2522660.7,
          3544319.2
         ],
         "yaxis": "y"
        },
        {
         "alignmentgroup": "True",
         "hovertemplate": "<b>%{text}</b><br>",
         "legendgroup": "湖北南方工贸有限公司",
         "marker": {
          "color": "#B6E880",
          "pattern": {
           "shape": ""
          }
         },
         "name": "湖北南方工贸有限公司",
         "offsetgroup": "湖北南方工贸有限公司",
         "orientation": "v",
         "showlegend": true,
         "text": [
          355122.2,
          19237679.1,
          2465402.3,
          3996748.5,
          1187793.1,
          4090298
         ],
         "textposition": "auto",
         "type": "bar",
         "x": [
          "湖北南方工贸有限公司",
          "湖北南方工贸有限公司",
          "湖北南方工贸有限公司",
          "湖北南方工贸有限公司",
          "湖北南方工贸有限公司",
          "湖北南方工贸有限公司"
         ],
         "xaxis": "x",
         "y": [
          355122.2,
          19237679.1,
          2465402.3,
          3996748.5,
          1187793.1,
          4090298
         ],
         "yaxis": "y"
        },
        {
         "alignmentgroup": "True",
         "hovertemplate": "<b>%{text}</b><br>",
         "legendgroup": "湖北南方集团有限公司",
         "marker": {
          "color": "#FF97FF",
          "pattern": {
           "shape": ""
          }
         },
         "name": "湖北南方集团有限公司",
         "offsetgroup": "湖北南方集团有限公司",
         "orientation": "v",
         "showlegend": true,
         "text": [
          8166017.2,
          3877281.1999999997,
          2100484.2,
          8188519.1,
          7665227.1,
          1581284.8,
          7447674.3
         ],
         "textposition": "auto",
         "type": "bar",
         "x": [
          "湖北南方集团有限公司",
          "湖北南方集团有限公司",
          "湖北南方集团有限公司",
          "湖北南方集团有限公司",
          "湖北南方集团有限公司",
          "湖北南方集团有限公司",
          "湖北南方集团有限公司"
         ],
         "xaxis": "x",
         "y": [
          8166017.2,
          3877281.1999999997,
          2100484.2,
          8188519.1,
          7665227.1,
          1581284.8,
          7447674.3
         ],
         "yaxis": "y"
        },
        {
         "alignmentgroup": "True",
         "hovertemplate": "<b>%{text}</b><br>",
         "legendgroup": "湖北国贸供应链管理有限公司",
         "marker": {
          "color": "#FECB52",
          "pattern": {
           "shape": ""
          }
         },
         "name": "湖北国贸供应链管理有限公司",
         "offsetgroup": "湖北国贸供应链管理有限公司",
         "orientation": "v",
         "showlegend": true,
         "text": [
          13604812.8,
          1247040.7,
          10317521.6,
          2597568.2,
          13549672.5,
          4676651.5,
          10954248.9,
          4546808.5
         ],
         "textposition": "auto",
         "type": "bar",
         "x": [
          "湖北国贸供应链管理有限公司",
          "湖北国贸供应链管理有限公司",
          "湖北国贸供应链管理有限公司",
          "湖北国贸供应链管理有限公司",
          "湖北国贸供应链管理有限公司",
          "湖北国贸供应链管理有限公司",
          "湖北国贸供应链管理有限公司",
          "湖北国贸供应链管理有限公司"
         ],
         "xaxis": "x",
         "y": [
          13604812.8,
          1247040.7,
          10317521.6,
          2597568.2,
          13549672.5,
          4676651.5,
          10954248.9,
          4546808.5
         ],
         "yaxis": "y"
        },
        {
         "alignmentgroup": "True",
         "hovertemplate": "<b>%{text}</b><br>",
         "legendgroup": "湖北国贸农产品有限公司",
         "marker": {
          "color": "#636efa",
          "pattern": {
           "shape": ""
          }
         },
         "name": "湖北国贸农产品有限公司",
         "offsetgroup": "湖北国贸农产品有限公司",
         "orientation": "v",
         "showlegend": true,
         "text": [
          9487301.5,
          2270970.9,
          4948280.3,
          10707237.8,
          2675687.5,
          1197731.2,
          7398501.199999999
         ],
         "textposition": "auto",
         "type": "bar",
         "x": [
          "湖北国贸农产品有限公司",
          "湖北国贸农产品有限公司",
          "湖北国贸农产品有限公司",
          "湖北国贸农产品有限公司",
          "湖北国贸农产品有限公司",
          "湖北国贸农产品有限公司",
          "湖北国贸农产品有限公司"
         ],
         "xaxis": "x",
         "y": [
          9487301.5,
          2270970.9,
          4948280.3,
          10707237.8,
          2675687.5,
          1197731.2,
          7398501.199999999
         ],
         "yaxis": "y"
        },
        {
         "alignmentgroup": "True",
         "hovertemplate": "<b>%{text}</b><br>",
         "legendgroup": "湖北国贸农产品有限公司武汉分公司",
         "marker": {
          "color": "#EF553B",
          "pattern": {
           "shape": ""
          }
         },
         "name": "湖北国贸农产品有限公司武汉分公司",
         "offsetgroup": "湖北国贸农产品有限公司武汉分公司",
         "orientation": "v",
         "showlegend": true,
         "text": [
          7650021.1,
          11944079.100000001,
          3623622.5,
          4324678.9,
          13647968.7,
          8780294.4,
          7407258.2
         ],
         "textposition": "auto",
         "type": "bar",
         "x": [
          "湖北国贸农产品有限公司武汉分公司",
          "湖北国贸农产品有限公司武汉分公司",
          "湖北国贸农产品有限公司武汉分公司",
          "湖北国贸农产品有限公司武汉分公司",
          "湖北国贸农产品有限公司武汉分公司",
          "湖北国贸农产品有限公司武汉分公司",
          "湖北国贸农产品有限公司武汉分公司"
         ],
         "xaxis": "x",
         "y": [
          7650021.1,
          11944079.100000001,
          3623622.5,
          4324678.9,
          13647968.7,
          8780294.4,
          7407258.2
         ],
         "yaxis": "y"
        },
        {
         "alignmentgroup": "True",
         "hovertemplate": "<b>%{text}</b><br>",
         "legendgroup": "湖北国贸汽车有限公司",
         "marker": {
          "color": "#00cc96",
          "pattern": {
           "shape": ""
          }
         },
         "name": "湖北国贸汽车有限公司",
         "offsetgroup": "湖北国贸汽车有限公司",
         "orientation": "v",
         "showlegend": true,
         "text": [
          4049009.5,
          5644482.1,
          5275752.2,
          4690877.8,
          5839612.1,
          12278808.9,
          9511154.7,
          10420829.9
         ],
         "textposition": "auto",
         "type": "bar",
         "x": [
          "湖北国贸汽车有限公司",
          "湖北国贸汽车有限公司",
          "湖北国贸汽车有限公司",
          "湖北国贸汽车有限公司",
          "湖北国贸汽车有限公司",
          "湖北国贸汽车有限公司",
          "湖北国贸汽车有限公司",
          "湖北国贸汽车有限公司"
         ],
         "xaxis": "x",
         "y": [
          4049009.5,
          5644482.1,
          5275752.2,
          4690877.8,
          5839612.1,
          12278808.9,
          9511154.7,
          10420829.9
         ],
         "yaxis": "y"
        },
        {
         "alignmentgroup": "True",
         "hovertemplate": "<b>%{text}</b><br>",
         "legendgroup": "湖北国贸汽车有限公司红安分公司",
         "marker": {
          "color": "#ab63fa",
          "pattern": {
           "shape": ""
          }
         },
         "name": "湖北国贸汽车有限公司红安分公司",
         "offsetgroup": "湖北国贸汽车有限公司红安分公司",
         "orientation": "v",
         "showlegend": true,
         "text": [
          5698755.5,
          5998327.4,
          8807821.9,
          6410846.499999999,
          6611848.699999999,
          2413638,
          1377416.3
         ],
         "textposition": "auto",
         "type": "bar",
         "x": [
          "湖北国贸汽车有限公司红安分公司",
          "湖北国贸汽车有限公司红安分公司",
          "湖北国贸汽车有限公司红安分公司",
          "湖北国贸汽车有限公司红安分公司",
          "湖北国贸汽车有限公司红安分公司",
          "湖北国贸汽车有限公司红安分公司",
          "湖北国贸汽车有限公司红安分公司"
         ],
         "xaxis": "x",
         "y": [
          5698755.5,
          5998327.4,
          8807821.9,
          6410846.499999999,
          6611848.699999999,
          2413638,
          1377416.3
         ],
         "yaxis": "y"
        },
        {
         "alignmentgroup": "True",
         "hovertemplate": "<b>%{text}</b><br>",
         "legendgroup": "湖北国贸能源化工有限公司",
         "marker": {
          "color": "#FFA15A",
          "pattern": {
           "shape": ""
          }
         },
         "name": "湖北国贸能源化工有限公司",
         "offsetgroup": "湖北国贸能源化工有限公司",
         "orientation": "v",
         "showlegend": true,
         "text": [
          8091800.7,
          9933634.8,
          162766.7,
          8753574.9,
          4199156.5,
          7340725.9,
          9819276.2
         ],
         "textposition": "auto",
         "type": "bar",
         "x": [
          "湖北国贸能源化工有限公司",
          "湖北国贸能源化工有限公司",
          "湖北国贸能源化工有限公司",
          "湖北国贸能源化工有限公司",
          "湖北国贸能源化工有限公司",
          "湖北国贸能源化工有限公司",
          "湖北国贸能源化工有限公司"
         ],
         "xaxis": "x",
         "y": [
          8091800.7,
          9933634.8,
          162766.7,
          8753574.9,
          4199156.5,
          7340725.9,
          9819276.2
         ],
         "yaxis": "y"
        },
        {
         "alignmentgroup": "True",
         "hovertemplate": "<b>%{text}</b><br>",
         "legendgroup": "湖北国贸金属矿产有限公司",
         "marker": {
          "color": "#19d3f3",
          "pattern": {
           "shape": ""
          }
         },
         "name": "湖北国贸金属矿产有限公司",
         "offsetgroup": "湖北国贸金属矿产有限公司",
         "orientation": "v",
         "showlegend": true,
         "text": [
          6485757.6,
          7331945.5,
          6466089.2,
          2112755.6,
          4524438.7,
          7531375.3,
          5016374.4
         ],
         "textposition": "auto",
         "type": "bar",
         "x": [
          "湖北国贸金属矿产有限公司",
          "湖北国贸金属矿产有限公司",
          "湖北国贸金属矿产有限公司",
          "湖北国贸金属矿产有限公司",
          "湖北国贸金属矿产有限公司",
          "湖北国贸金属矿产有限公司",
          "湖北国贸金属矿产有限公司"
         ],
         "xaxis": "x",
         "y": [
          6485757.6,
          7331945.5,
          6466089.2,
          2112755.6,
          4524438.7,
          7531375.3,
          5016374.4
         ],
         "yaxis": "y"
        },
        {
         "alignmentgroup": "True",
         "hovertemplate": "<b>%{text}</b><br>",
         "legendgroup": "湖北国际贸易集团有限公司",
         "marker": {
          "color": "#FF6692",
          "pattern": {
           "shape": ""
          }
         },
         "name": "湖北国际贸易集团有限公司",
         "offsetgroup": "湖北国际贸易集团有限公司",
         "orientation": "v",
         "showlegend": true,
         "text": [
          9776831.7,
          8583797.3,
          10922422.1,
          13444767.4,
          147742.2,
          11843991.899999999,
          11309235.9
         ],
         "textposition": "auto",
         "type": "bar",
         "x": [
          "湖北国际贸易集团有限公司",
          "湖北国际贸易集团有限公司",
          "湖北国际贸易集团有限公司",
          "湖北国际贸易集团有限公司",
          "湖北国际贸易集团有限公司",
          "湖北国际贸易集团有限公司",
          "湖北国际贸易集团有限公司"
         ],
         "xaxis": "x",
         "y": [
          9776831.7,
          8583797.3,
          10922422.1,
          13444767.4,
          147742.2,
          11843991.899999999,
          11309235.9
         ],
         "yaxis": "y"
        }
       ],
       "layout": {
        "barmode": "stack",
        "legend": {
         "title": {
          "text": "company_name"
         },
         "tracegroupgap": 0
        },
        "margin": {
         "t": 60
        },
        "template": {
         "data": {
          "bar": [
           {
            "error_x": {
             "color": "#2a3f5f"
            },
            "error_y": {
             "color": "#2a3f5f"
            },
            "marker": {
             "line": {
              "color": "#E5ECF6",
              "width": 0.5
             },
             "pattern": {
              "fillmode": "overlay",
              "size": 10,
              "solidity": 0.2
             }
            },
            "type": "bar"
           }
          ],
          "barpolar": [
           {
            "marker": {
             "line": {
              "color": "#E5ECF6",
              "width": 0.5
             },
             "pattern": {
              "fillmode": "overlay",
              "size": 10,
              "solidity": 0.2
             }
            },
            "type": "barpolar"
           }
          ],
          "carpet": [
           {
            "aaxis": {
             "endlinecolor": "#2a3f5f",
             "gridcolor": "white",
             "linecolor": "white",
             "minorgridcolor": "white",
             "startlinecolor": "#2a3f5f"
            },
            "baxis": {
             "endlinecolor": "#2a3f5f",
             "gridcolor": "white",
             "linecolor": "white",
             "minorgridcolor": "white",
             "startlinecolor": "#2a3f5f"
            },
            "type": "carpet"
           }
          ],
          "choropleth": [
           {
            "colorbar": {
             "outlinewidth": 0,
             "ticks": ""
            },
            "type": "choropleth"
           }
          ],
          "contour": [
           {
            "colorbar": {
             "outlinewidth": 0,
             "ticks": ""
            },
            "colorscale": [
             [
              0,
              "#0d0887"
             ],
             [
              0.1111111111111111,
              "#46039f"
             ],
             [
              0.2222222222222222,
              "#7201a8"
             ],
             [
              0.3333333333333333,
              "#9c179e"
             ],
             [
              0.4444444444444444,
              "#bd3786"
             ],
             [
              0.5555555555555556,
              "#d8576b"
             ],
             [
              0.6666666666666666,
              "#ed7953"
             ],
             [
              0.7777777777777778,
              "#fb9f3a"
             ],
             [
              0.8888888888888888,
              "#fdca26"
             ],
             [
              1,
              "#f0f921"
             ]
            ],
            "type": "contour"
           }
          ],
          "contourcarpet": [
           {
            "colorbar": {
             "outlinewidth": 0,
             "ticks": ""
            },
            "type": "contourcarpet"
           }
          ],
          "heatmap": [
           {
            "colorbar": {
             "outlinewidth": 0,
             "ticks": ""
            },
            "colorscale": [
             [
              0,
              "#0d0887"
             ],
             [
              0.1111111111111111,
              "#46039f"
             ],
             [
              0.2222222222222222,
              "#7201a8"
             ],
             [
              0.3333333333333333,
              "#9c179e"
             ],
             [
              0.4444444444444444,
              "#bd3786"
             ],
             [
              0.5555555555555556,
              "#d8576b"
             ],
             [
              0.6666666666666666,
              "#ed7953"
             ],
             [
              0.7777777777777778,
              "#fb9f3a"
             ],
             [
              0.8888888888888888,
              "#fdca26"
             ],
             [
              1,
              "#f0f921"
             ]
            ],
            "type": "heatmap"
           }
          ],
          "heatmapgl": [
           {
            "colorbar": {
             "outlinewidth": 0,
             "ticks": ""
            },
            "colorscale": [
             [
              0,
              "#0d0887"
             ],
             [
              0.1111111111111111,
              "#46039f"
             ],
             [
              0.2222222222222222,
              "#7201a8"
             ],
             [
              0.3333333333333333,
              "#9c179e"
             ],
             [
              0.4444444444444444,
              "#bd3786"
             ],
             [
              0.5555555555555556,
              "#d8576b"
             ],
             [
              0.6666666666666666,
              "#ed7953"
             ],
             [
              0.7777777777777778,
              "#fb9f3a"
             ],
             [
              0.8888888888888888,
              "#fdca26"
             ],
             [
              1,
              "#f0f921"
             ]
            ],
            "type": "heatmapgl"
           }
          ],
          "histogram": [
           {
            "marker": {
             "pattern": {
              "fillmode": "overlay",
              "size": 10,
              "solidity": 0.2
             }
            },
            "type": "histogram"
           }
          ],
          "histogram2d": [
           {
            "colorbar": {
             "outlinewidth": 0,
             "ticks": ""
            },
            "colorscale": [
             [
              0,
              "#0d0887"
             ],
             [
              0.1111111111111111,
              "#46039f"
             ],
             [
              0.2222222222222222,
              "#7201a8"
             ],
             [
              0.3333333333333333,
              "#9c179e"
             ],
             [
              0.4444444444444444,
              "#bd3786"
             ],
             [
              0.5555555555555556,
              "#d8576b"
             ],
             [
              0.6666666666666666,
              "#ed7953"
             ],
             [
              0.7777777777777778,
              "#fb9f3a"
             ],
             [
              0.8888888888888888,
              "#fdca26"
             ],
             [
              1,
              "#f0f921"
             ]
            ],
            "type": "histogram2d"
           }
          ],
          "histogram2dcontour": [
           {
            "colorbar": {
             "outlinewidth": 0,
             "ticks": ""
            },
            "colorscale": [
             [
              0,
              "#0d0887"
             ],
             [
              0.1111111111111111,
              "#46039f"
             ],
             [
              0.2222222222222222,
              "#7201a8"
             ],
             [
              0.3333333333333333,
              "#9c179e"
             ],
             [
              0.4444444444444444,
              "#bd3786"
             ],
             [
              0.5555555555555556,
              "#d8576b"
             ],
             [
              0.6666666666666666,
              "#ed7953"
             ],
             [
              0.7777777777777778,
              "#fb9f3a"
             ],
             [
              0.8888888888888888,
              "#fdca26"
             ],
             [
              1,
              "#f0f921"
             ]
            ],
            "type": "histogram2dcontour"
           }
          ],
          "mesh3d": [
           {
            "colorbar": {
             "outlinewidth": 0,
             "ticks": ""
            },
            "type": "mesh3d"
           }
          ],
          "parcoords": [
           {
            "line": {
             "colorbar": {
              "outlinewidth": 0,
              "ticks": ""
             }
            },
            "type": "parcoords"
           }
          ],
          "pie": [
           {
            "automargin": true,
            "type": "pie"
           }
          ],
          "scatter": [
           {
            "fillpattern": {
             "fillmode": "overlay",
             "size": 10,
             "solidity": 0.2
            },
            "type": "scatter"
           }
          ],
          "scatter3d": [
           {
            "line": {
             "colorbar": {
              "outlinewidth": 0,
              "ticks": ""
             }
            },
            "marker": {
             "colorbar": {
              "outlinewidth": 0,
              "ticks": ""
             }
            },
            "type": "scatter3d"
           }
          ],
          "scattercarpet": [
           {
            "marker": {
             "colorbar": {
              "outlinewidth": 0,
              "ticks": ""
             }
            },
            "type": "scattercarpet"
           }
          ],
          "scattergeo": [
           {
            "marker": {
             "colorbar": {
              "outlinewidth": 0,
              "ticks": ""
             }
            },
            "type": "scattergeo"
           }
          ],
          "scattergl": [
           {
            "marker": {
             "colorbar": {
              "outlinewidth": 0,
              "ticks": ""
             }
            },
            "type": "scattergl"
           }
          ],
          "scattermapbox": [
           {
            "marker": {
             "colorbar": {
              "outlinewidth": 0,
              "ticks": ""
             }
            },
            "type": "scattermapbox"
           }
          ],
          "scatterpolar": [
           {
            "marker": {
             "colorbar": {
              "outlinewidth": 0,
              "ticks": ""
             }
            },
            "type": "scatterpolar"
           }
          ],
          "scatterpolargl": [
           {
            "marker": {
             "colorbar": {
              "outlinewidth": 0,
              "ticks": ""
             }
            },
            "type": "scatterpolargl"
           }
          ],
          "scatterternary": [
           {
            "marker": {
             "colorbar": {
              "outlinewidth": 0,
              "ticks": ""
             }
            },
            "type": "scatterternary"
           }
          ],
          "surface": [
           {
            "colorbar": {
             "outlinewidth": 0,
             "ticks": ""
            },
            "colorscale": [
             [
              0,
              "#0d0887"
             ],
             [
              0.1111111111111111,
              "#46039f"
             ],
             [
              0.2222222222222222,
              "#7201a8"
             ],
             [
              0.3333333333333333,
              "#9c179e"
             ],
             [
              0.4444444444444444,
              "#bd3786"
             ],
             [
              0.5555555555555556,
              "#d8576b"
             ],
             [
              0.6666666666666666,
              "#ed7953"
             ],
             [
              0.7777777777777778,
              "#fb9f3a"
             ],
             [
              0.8888888888888888,
              "#fdca26"
             ],
             [
              1,
              "#f0f921"
             ]
            ],
            "type": "surface"
           }
          ],
          "table": [
           {
            "cells": {
             "fill": {
              "color": "#EBF0F8"
             },
             "line": {
              "color": "white"
             }
            },
            "header": {
             "fill": {
              "color": "#C8D4E3"
             },
             "line": {
              "color": "white"
             }
            },
            "type": "table"
           }
          ]
         },
         "layout": {
          "annotationdefaults": {
           "arrowcolor": "#2a3f5f",
           "arrowhead": 0,
           "arrowwidth": 1
          },
          "autotypenumbers": "strict",
          "coloraxis": {
           "colorbar": {
            "outlinewidth": 0,
            "ticks": ""
           }
          },
          "colorscale": {
           "diverging": [
            [
             0,
             "#8e0152"
            ],
            [
             0.1,
             "#c51b7d"
            ],
            [
             0.2,
             "#de77ae"
            ],
            [
             0.3,
             "#f1b6da"
            ],
            [
             0.4,
             "#fde0ef"
            ],
            [
             0.5,
             "#f7f7f7"
            ],
            [
             0.6,
             "#e6f5d0"
            ],
            [
             0.7,
             "#b8e186"
            ],
            [
             0.8,
             "#7fbc41"
            ],
            [
             0.9,
             "#4d9221"
            ],
            [
             1,
             "#276419"
            ]
           ],
           "sequential": [
            [
             0,
             "#0d0887"
            ],
            [
             0.1111111111111111,
             "#46039f"
            ],
            [
             0.2222222222222222,
             "#7201a8"
            ],
            [
             0.3333333333333333,
             "#9c179e"
            ],
            [
             0.4444444444444444,
             "#bd3786"
            ],
            [
             0.5555555555555556,
             "#d8576b"
            ],
            [
             0.6666666666666666,
             "#ed7953"
            ],
            [
             0.7777777777777778,
             "#fb9f3a"
            ],
            [
             0.8888888888888888,
             "#fdca26"
            ],
            [
             1,
             "#f0f921"
            ]
           ],
           "sequentialminus": [
            [
             0,
             "#0d0887"
            ],
            [
             0.1111111111111111,
             "#46039f"
            ],
            [
             0.2222222222222222,
             "#7201a8"
            ],
            [
             0.3333333333333333,
             "#9c179e"
            ],
            [
             0.4444444444444444,
             "#bd3786"
            ],
            [
             0.5555555555555556,
             "#d8576b"
            ],
            [
             0.6666666666666666,
             "#ed7953"
            ],
            [
             0.7777777777777778,
             "#fb9f3a"
            ],
            [
             0.8888888888888888,
             "#fdca26"
            ],
            [
             1,
             "#f0f921"
            ]
           ]
          },
          "colorway": [
           "#636efa",
           "#EF553B",
           "#00cc96",
           "#ab63fa",
           "#FFA15A",
           "#19d3f3",
           "#FF6692",
           "#B6E880",
           "#FF97FF",
           "#FECB52"
          ],
          "font": {
           "color": "#2a3f5f"
          },
          "geo": {
           "bgcolor": "white",
           "lakecolor": "white",
           "landcolor": "#E5ECF6",
           "showlakes": true,
           "showland": true,
           "subunitcolor": "white"
          },
          "hoverlabel": {
           "align": "left"
          },
          "hovermode": "closest",
          "mapbox": {
           "style": "light"
          },
          "paper_bgcolor": "white",
          "plot_bgcolor": "#E5ECF6",
          "polar": {
           "angularaxis": {
            "gridcolor": "white",
            "linecolor": "white",
            "ticks": ""
           },
           "bgcolor": "#E5ECF6",
           "radialaxis": {
            "gridcolor": "white",
            "linecolor": "white",
            "ticks": ""
           }
          },
          "scene": {
           "xaxis": {
            "backgroundcolor": "#E5ECF6",
            "gridcolor": "white",
            "gridwidth": 2,
            "linecolor": "white",
            "showbackground": true,
            "ticks": "",
            "zerolinecolor": "white"
           },
           "yaxis": {
            "backgroundcolor": "#E5ECF6",
            "gridcolor": "white",
            "gridwidth": 2,
            "linecolor": "white",
            "showbackground": true,
            "ticks": "",
            "zerolinecolor": "white"
           },
           "zaxis": {
            "backgroundcolor": "#E5ECF6",
            "gridcolor": "white",
            "gridwidth": 2,
            "linecolor": "white",
            "showbackground": true,
            "ticks": "",
            "zerolinecolor": "white"
           }
          },
          "shapedefaults": {
           "line": {
            "color": "#2a3f5f"
           }
          },
          "ternary": {
           "aaxis": {
            "gridcolor": "white",
            "linecolor": "white",
            "ticks": ""
           },
           "baxis": {
            "gridcolor": "white",
            "linecolor": "white",
            "ticks": ""
           },
           "bgcolor": "#E5ECF6",
           "caxis": {
            "gridcolor": "white",
            "linecolor": "white",
            "ticks": ""
           }
          },
          "title": {
           "x": 0.05
          },
          "xaxis": {
           "automargin": true,
           "gridcolor": "white",
           "linecolor": "white",
           "ticks": "",
           "title": {
            "standoff": 15
           },
           "zerolinecolor": "white",
           "zerolinewidth": 2
          },
          "yaxis": {
           "automargin": true,
           "gridcolor": "white",
           "linecolor": "white",
           "ticks": "",
           "title": {
            "standoff": 15
           },
           "zerolinecolor": "white",
           "zerolinewidth": 2
          }
         }
        },
        "xaxis": {
         "anchor": "y",
         "categoryarray": [
          "武汉鼎联丰国际贸易有限公司",
          "湖北华中能源发展有限公司",
          "湖北南方大集实业有限公司",
          "湖北南方大集实业有限公司东西湖分公司",
          "湖北南方大集实业有限公司慈惠分公司",
          "湖北南方大集实业有限公司江汉分公司",
          "湖北南方大集实业有限公司能源分公司",
          "湖北南方工贸有限公司",
          "湖北南方集团有限公司",
          "湖北国贸供应链管理有限公司",
          "湖北国贸农产品有限公司",
          "湖北国贸农产品有限公司武汉分公司",
          "湖北国贸汽车有限公司",
          "湖北国贸汽车有限公司红安分公司",
          "湖北国贸能源化工有限公司",
          "湖北国贸金属矿产有限公司",
          "湖北国际贸易集团有限公司"
         ],
         "categoryorder": "array",
         "domain": [
          0,
          1
         ],
         "title": {
          "text": "company_name"
         }
        },
        "yaxis": {
         "anchor": "x",
         "domain": [
          0,
          1
         ],
         "title": {
          "text": "SALES"
         }
        }
       }
      }
     },
     "metadata": {},
     "output_type": "display_data"
    },
    {
     "data": {
      "application/vnd.plotly.v1+json": {
       "config": {
        "plotlyServerURL": "https://plot.ly"
       },
       "data": [
        {
         "alignmentgroup": "True",
         "hovertemplate": "company_name=%{x}<br>SALES=%{text}<extra></extra>",
         "legendgroup": "武汉鼎联丰国际贸易有限公司",
         "marker": {
          "color": "#636efa",
          "pattern": {
           "shape": ""
          }
         },
         "name": "武汉鼎联丰国际贸易有限公司",
         "offsetgroup": "武汉鼎联丰国际贸易有限公司",
         "orientation": "v",
         "showlegend": true,
         "text": [
          60767700.9
         ],
         "textposition": "auto",
         "type": "bar",
         "x": [
          "武汉鼎联丰国际贸易有限公司"
         ],
         "xaxis": "x",
         "y": [
          60767700.9
         ],
         "yaxis": "y"
        },
        {
         "alignmentgroup": "True",
         "hovertemplate": "company_name=%{x}<br>SALES=%{text}<extra></extra>",
         "legendgroup": "湖北华中能源发展有限公司",
         "marker": {
          "color": "#EF553B",
          "pattern": {
           "shape": ""
          }
         },
         "name": "湖北华中能源发展有限公司",
         "offsetgroup": "湖北华中能源发展有限公司",
         "orientation": "v",
         "showlegend": true,
         "text": [
          77606591.7
         ],
         "textposition": "auto",
         "type": "bar",
         "x": [
          "湖北华中能源发展有限公司"
         ],
         "xaxis": "x",
         "y": [
          77606591.7
         ],
         "yaxis": "y"
        },
        {
         "alignmentgroup": "True",
         "hovertemplate": "company_name=%{x}<br>SALES=%{text}<extra></extra>",
         "legendgroup": "湖北南方大集实业有限公司",
         "marker": {
          "color": "#00cc96",
          "pattern": {
           "shape": ""
          }
         },
         "name": "湖北南方大集实业有限公司",
         "offsetgroup": "湖北南方大集实业有限公司",
         "orientation": "v",
         "showlegend": true,
         "text": [
          69594463.6
         ],
         "textposition": "auto",
         "type": "bar",
         "x": [
          "湖北南方大集实业有限公司"
         ],
         "xaxis": "x",
         "y": [
          69594463.6
         ],
         "yaxis": "y"
        },
        {
         "alignmentgroup": "True",
         "hovertemplate": "company_name=%{x}<br>SALES=%{text}<extra></extra>",
         "legendgroup": "湖北南方大集实业有限公司东西湖分公司",
         "marker": {
          "color": "#ab63fa",
          "pattern": {
           "shape": ""
          }
         },
         "name": "湖北南方大集实业有限公司东西湖分公司",
         "offsetgroup": "湖北南方大集实业有限公司东西湖分公司",
         "orientation": "v",
         "showlegend": true,
         "text": [
          68126462.8
         ],
         "textposition": "auto",
         "type": "bar",
         "x": [
          "湖北南方大集实业有限公司东西湖分公司"
         ],
         "xaxis": "x",
         "y": [
          68126462.8
         ],
         "yaxis": "y"
        },
        {
         "alignmentgroup": "True",
         "hovertemplate": "company_name=%{x}<br>SALES=%{text}<extra></extra>",
         "legendgroup": "湖北南方大集实业有限公司慈惠分公司",
         "marker": {
          "color": "#FFA15A",
          "pattern": {
           "shape": ""
          }
         },
         "name": "湖北南方大集实业有限公司慈惠分公司",
         "offsetgroup": "湖北南方大集实业有限公司慈惠分公司",
         "orientation": "v",
         "showlegend": true,
         "text": [
          103116025.2
         ],
         "textposition": "auto",
         "type": "bar",
         "x": [
          "湖北南方大集实业有限公司慈惠分公司"
         ],
         "xaxis": "x",
         "y": [
          103116025.2
         ],
         "yaxis": "y"
        },
        {
         "alignmentgroup": "True",
         "hovertemplate": "company_name=%{x}<br>SALES=%{text}<extra></extra>",
         "legendgroup": "湖北南方大集实业有限公司江汉分公司",
         "marker": {
          "color": "#19d3f3",
          "pattern": {
           "shape": ""
          }
         },
         "name": "湖北南方大集实业有限公司江汉分公司",
         "offsetgroup": "湖北南方大集实业有限公司江汉分公司",
         "orientation": "v",
         "showlegend": true,
         "text": [
          48015375.9
         ],
         "textposition": "auto",
         "type": "bar",
         "x": [
          "湖北南方大集实业有限公司江汉分公司"
         ],
         "xaxis": "x",
         "y": [
          48015375.9
         ],
         "yaxis": "y"
        },
        {
         "alignmentgroup": "True",
         "hovertemplate": "company_name=%{x}<br>SALES=%{text}<extra></extra>",
         "legendgroup": "湖北南方大集实业有限公司能源分公司",
         "marker": {
          "color": "#FF6692",
          "pattern": {
           "shape": ""
          }
         },
         "name": "湖北南方大集实业有限公司能源分公司",
         "offsetgroup": "湖北南方大集实业有限公司能源分公司",
         "orientation": "v",
         "showlegend": true,
         "text": [
          88091479.5
         ],
         "textposition": "auto",
         "type": "bar",
         "x": [
          "湖北南方大集实业有限公司能源分公司"
         ],
         "xaxis": "x",
         "y": [
          88091479.5
         ],
         "yaxis": "y"
        },
        {
         "alignmentgroup": "True",
         "hovertemplate": "company_name=%{x}<br>SALES=%{text}<extra></extra>",
         "legendgroup": "湖北南方工贸有限公司",
         "marker": {
          "color": "#B6E880",
          "pattern": {
           "shape": ""
          }
         },
         "name": "湖北南方工贸有限公司",
         "offsetgroup": "湖北南方工贸有限公司",
         "orientation": "v",
         "showlegend": true,
         "text": [
          88815031.3
         ],
         "textposition": "auto",
         "type": "bar",
         "x": [
          "湖北南方工贸有限公司"
         ],
         "xaxis": "x",
         "y": [
          88815031.3
         ],
         "yaxis": "y"
        },
        {
         "alignmentgroup": "True",
         "hovertemplate": "company_name=%{x}<br>SALES=%{text}<extra></extra>",
         "legendgroup": "湖北南方集团有限公司",
         "marker": {
          "color": "#FF97FF",
          "pattern": {
           "shape": ""
          }
         },
         "name": "湖北南方集团有限公司",
         "offsetgroup": "湖北南方集团有限公司",
         "orientation": "v",
         "showlegend": true,
         "text": [
          76352368.9
         ],
         "textposition": "auto",
         "type": "bar",
         "x": [
          "湖北南方集团有限公司"
         ],
         "xaxis": "x",
         "y": [
          76352368.9
         ],
         "yaxis": "y"
        },
        {
         "alignmentgroup": "True",
         "hovertemplate": "company_name=%{x}<br>SALES=%{text}<extra></extra>",
         "legendgroup": "湖北国贸供应链管理有限公司",
         "marker": {
          "color": "#FECB52",
          "pattern": {
           "shape": ""
          }
         },
         "name": "湖北国贸供应链管理有限公司",
         "offsetgroup": "湖北国贸供应链管理有限公司",
         "orientation": "v",
         "showlegend": true,
         "text": [
          66444005.4
         ],
         "textposition": "auto",
         "type": "bar",
         "x": [
          "湖北国贸供应链管理有限公司"
         ],
         "xaxis": "x",
         "y": [
          66444005.4
         ],
         "yaxis": "y"
        },
        {
         "alignmentgroup": "True",
         "hovertemplate": "company_name=%{x}<br>SALES=%{text}<extra></extra>",
         "legendgroup": "湖北国贸农产品有限公司",
         "marker": {
          "color": "#636efa",
          "pattern": {
           "shape": ""
          }
         },
         "name": "湖北国贸农产品有限公司",
         "offsetgroup": "湖北国贸农产品有限公司",
         "orientation": "v",
         "showlegend": true,
         "text": [
          53719231.4
         ],
         "textposition": "auto",
         "type": "bar",
         "x": [
          "湖北国贸农产品有限公司"
         ],
         "xaxis": "x",
         "y": [
          53719231.4
         ],
         "yaxis": "y"
        },
        {
         "alignmentgroup": "True",
         "hovertemplate": "company_name=%{x}<br>SALES=%{text}<extra></extra>",
         "legendgroup": "湖北国贸农产品有限公司武汉分公司",
         "marker": {
          "color": "#EF553B",
          "pattern": {
           "shape": ""
          }
         },
         "name": "湖北国贸农产品有限公司武汉分公司",
         "offsetgroup": "湖北国贸农产品有限公司武汉分公司",
         "orientation": "v",
         "showlegend": true,
         "text": [
          48625562.5
         ],
         "textposition": "auto",
         "type": "bar",
         "x": [
          "湖北国贸农产品有限公司武汉分公司"
         ],
         "xaxis": "x",
         "y": [
          48625562.5
         ],
         "yaxis": "y"
        },
        {
         "alignmentgroup": "True",
         "hovertemplate": "company_name=%{x}<br>SALES=%{text}<extra></extra>",
         "legendgroup": "湖北国贸汽车有限公司",
         "marker": {
          "color": "#00cc96",
          "pattern": {
           "shape": ""
          }
         },
         "name": "湖北国贸汽车有限公司",
         "offsetgroup": "湖北国贸汽车有限公司",
         "orientation": "v",
         "showlegend": true,
         "text": [
          86049023.2
         ],
         "textposition": "auto",
         "type": "bar",
         "x": [
          "湖北国贸汽车有限公司"
         ],
         "xaxis": "x",
         "y": [
          86049023.2
         ],
         "yaxis": "y"
        },
        {
         "alignmentgroup": "True",
         "hovertemplate": "company_name=%{x}<br>SALES=%{text}<extra></extra>",
         "legendgroup": "湖北国贸汽车有限公司红安分公司",
         "marker": {
          "color": "#ab63fa",
          "pattern": {
           "shape": ""
          }
         },
         "name": "湖北国贸汽车有限公司红安分公司",
         "offsetgroup": "湖北国贸汽车有限公司红安分公司",
         "orientation": "v",
         "showlegend": true,
         "text": [
          71187399
         ],
         "textposition": "auto",
         "type": "bar",
         "x": [
          "湖北国贸汽车有限公司红安分公司"
         ],
         "xaxis": "x",
         "y": [
          71187399
         ],
         "yaxis": "y"
        },
        {
         "alignmentgroup": "True",
         "hovertemplate": "company_name=%{x}<br>SALES=%{text}<extra></extra>",
         "legendgroup": "湖北国贸能源化工有限公司",
         "marker": {
          "color": "#FFA15A",
          "pattern": {
           "shape": ""
          }
         },
         "name": "湖北国贸能源化工有限公司",
         "offsetgroup": "湖北国贸能源化工有限公司",
         "orientation": "v",
         "showlegend": true,
         "text": [
          68407461.2
         ],
         "textposition": "auto",
         "type": "bar",
         "x": [
          "湖北国贸能源化工有限公司"
         ],
         "xaxis": "x",
         "y": [
          68407461.2
         ],
         "yaxis": "y"
        },
        {
         "alignmentgroup": "True",
         "hovertemplate": "company_name=%{x}<br>SALES=%{text}<extra></extra>",
         "legendgroup": "湖北国贸金属矿产有限公司",
         "marker": {
          "color": "#19d3f3",
          "pattern": {
           "shape": ""
          }
         },
         "name": "湖北国贸金属矿产有限公司",
         "offsetgroup": "湖北国贸金属矿产有限公司",
         "orientation": "v",
         "showlegend": true,
         "text": [
          63679371.9
         ],
         "textposition": "auto",
         "type": "bar",
         "x": [
          "湖北国贸金属矿产有限公司"
         ],
         "xaxis": "x",
         "y": [
          63679371.9
         ],
         "yaxis": "y"
        },
        {
         "alignmentgroup": "True",
         "hovertemplate": "company_name=%{x}<br>SALES=%{text}<extra></extra>",
         "legendgroup": "湖北国际贸易集团有限公司",
         "marker": {
          "color": "#FF6692",
          "pattern": {
           "shape": ""
          }
         },
         "name": "湖北国际贸易集团有限公司",
         "offsetgroup": "湖北国际贸易集团有限公司",
         "orientation": "v",
         "showlegend": true,
         "text": [
          59591610.5
         ],
         "textposition": "auto",
         "type": "bar",
         "x": [
          "湖北国际贸易集团有限公司"
         ],
         "xaxis": "x",
         "y": [
          59591610.5
         ],
         "yaxis": "y"
        }
       ],
       "layout": {
        "barmode": "relative",
        "legend": {
         "title": {
          "text": "company_name"
         },
         "tracegroupgap": 0
        },
        "margin": {
         "t": 60
        },
        "template": {
         "data": {
          "bar": [
           {
            "error_x": {
             "color": "#2a3f5f"
            },
            "error_y": {
             "color": "#2a3f5f"
            },
            "marker": {
             "line": {
              "color": "#E5ECF6",
              "width": 0.5
             },
             "pattern": {
              "fillmode": "overlay",
              "size": 10,
              "solidity": 0.2
             }
            },
            "type": "bar"
           }
          ],
          "barpolar": [
           {
            "marker": {
             "line": {
              "color": "#E5ECF6",
              "width": 0.5
             },
             "pattern": {
              "fillmode": "overlay",
              "size": 10,
              "solidity": 0.2
             }
            },
            "type": "barpolar"
           }
          ],
          "carpet": [
           {
            "aaxis": {
             "endlinecolor": "#2a3f5f",
             "gridcolor": "white",
             "linecolor": "white",
             "minorgridcolor": "white",
             "startlinecolor": "#2a3f5f"
            },
            "baxis": {
             "endlinecolor": "#2a3f5f",
             "gridcolor": "white",
             "linecolor": "white",
             "minorgridcolor": "white",
             "startlinecolor": "#2a3f5f"
            },
            "type": "carpet"
           }
          ],
          "choropleth": [
           {
            "colorbar": {
             "outlinewidth": 0,
             "ticks": ""
            },
            "type": "choropleth"
           }
          ],
          "contour": [
           {
            "colorbar": {
             "outlinewidth": 0,
             "ticks": ""
            },
            "colorscale": [
             [
              0,
              "#0d0887"
             ],
             [
              0.1111111111111111,
              "#46039f"
             ],
             [
              0.2222222222222222,
              "#7201a8"
             ],
             [
              0.3333333333333333,
              "#9c179e"
             ],
             [
              0.4444444444444444,
              "#bd3786"
             ],
             [
              0.5555555555555556,
              "#d8576b"
             ],
             [
              0.6666666666666666,
              "#ed7953"
             ],
             [
              0.7777777777777778,
              "#fb9f3a"
             ],
             [
              0.8888888888888888,
              "#fdca26"
             ],
             [
              1,
              "#f0f921"
             ]
            ],
            "type": "contour"
           }
          ],
          "contourcarpet": [
           {
            "colorbar": {
             "outlinewidth": 0,
             "ticks": ""
            },
            "type": "contourcarpet"
           }
          ],
          "heatmap": [
           {
            "colorbar": {
             "outlinewidth": 0,
             "ticks": ""
            },
            "colorscale": [
             [
              0,
              "#0d0887"
             ],
             [
              0.1111111111111111,
              "#46039f"
             ],
             [
              0.2222222222222222,
              "#7201a8"
             ],
             [
              0.3333333333333333,
              "#9c179e"
             ],
             [
              0.4444444444444444,
              "#bd3786"
             ],
             [
              0.5555555555555556,
              "#d8576b"
             ],
             [
              0.6666666666666666,
              "#ed7953"
             ],
             [
              0.7777777777777778,
              "#fb9f3a"
             ],
             [
              0.8888888888888888,
              "#fdca26"
             ],
             [
              1,
              "#f0f921"
             ]
            ],
            "type": "heatmap"
           }
          ],
          "heatmapgl": [
           {
            "colorbar": {
             "outlinewidth": 0,
             "ticks": ""
            },
            "colorscale": [
             [
              0,
              "#0d0887"
             ],
             [
              0.1111111111111111,
              "#46039f"
             ],
             [
              0.2222222222222222,
              "#7201a8"
             ],
             [
              0.3333333333333333,
              "#9c179e"
             ],
             [
              0.4444444444444444,
              "#bd3786"
             ],
             [
              0.5555555555555556,
              "#d8576b"
             ],
             [
              0.6666666666666666,
              "#ed7953"
             ],
             [
              0.7777777777777778,
              "#fb9f3a"
             ],
             [
              0.8888888888888888,
              "#fdca26"
             ],
             [
              1,
              "#f0f921"
             ]
            ],
            "type": "heatmapgl"
           }
          ],
          "histogram": [
           {
            "marker": {
             "pattern": {
              "fillmode": "overlay",
              "size": 10,
              "solidity": 0.2
             }
            },
            "type": "histogram"
           }
          ],
          "histogram2d": [
           {
            "colorbar": {
             "outlinewidth": 0,
             "ticks": ""
            },
            "colorscale": [
             [
              0,
              "#0d0887"
             ],
             [
              0.1111111111111111,
              "#46039f"
             ],
             [
              0.2222222222222222,
              "#7201a8"
             ],
             [
              0.3333333333333333,
              "#9c179e"
             ],
             [
              0.4444444444444444,
              "#bd3786"
             ],
             [
              0.5555555555555556,
              "#d8576b"
             ],
             [
              0.6666666666666666,
              "#ed7953"
             ],
             [
              0.7777777777777778,
              "#fb9f3a"
             ],
             [
              0.8888888888888888,
              "#fdca26"
             ],
             [
              1,
              "#f0f921"
             ]
            ],
            "type": "histogram2d"
           }
          ],
          "histogram2dcontour": [
           {
            "colorbar": {
             "outlinewidth": 0,
             "ticks": ""
            },
            "colorscale": [
             [
              0,
              "#0d0887"
             ],
             [
              0.1111111111111111,
              "#46039f"
             ],
             [
              0.2222222222222222,
              "#7201a8"
             ],
             [
              0.3333333333333333,
              "#9c179e"
             ],
             [
              0.4444444444444444,
              "#bd3786"
             ],
             [
              0.5555555555555556,
              "#d8576b"
             ],
             [
              0.6666666666666666,
              "#ed7953"
             ],
             [
              0.7777777777777778,
              "#fb9f3a"
             ],
             [
              0.8888888888888888,
              "#fdca26"
             ],
             [
              1,
              "#f0f921"
             ]
            ],
            "type": "histogram2dcontour"
           }
          ],
          "mesh3d": [
           {
            "colorbar": {
             "outlinewidth": 0,
             "ticks": ""
            },
            "type": "mesh3d"
           }
          ],
          "parcoords": [
           {
            "line": {
             "colorbar": {
              "outlinewidth": 0,
              "ticks": ""
             }
            },
            "type": "parcoords"
           }
          ],
          "pie": [
           {
            "automargin": true,
            "type": "pie"
           }
          ],
          "scatter": [
           {
            "fillpattern": {
             "fillmode": "overlay",
             "size": 10,
             "solidity": 0.2
            },
            "type": "scatter"
           }
          ],
          "scatter3d": [
           {
            "line": {
             "colorbar": {
              "outlinewidth": 0,
              "ticks": ""
             }
            },
            "marker": {
             "colorbar": {
              "outlinewidth": 0,
              "ticks": ""
             }
            },
            "type": "scatter3d"
           }
          ],
          "scattercarpet": [
           {
            "marker": {
             "colorbar": {
              "outlinewidth": 0,
              "ticks": ""
             }
            },
            "type": "scattercarpet"
           }
          ],
          "scattergeo": [
           {
            "marker": {
             "colorbar": {
              "outlinewidth": 0,
              "ticks": ""
             }
            },
            "type": "scattergeo"
           }
          ],
          "scattergl": [
           {
            "marker": {
             "colorbar": {
              "outlinewidth": 0,
              "ticks": ""
             }
            },
            "type": "scattergl"
           }
          ],
          "scattermapbox": [
           {
            "marker": {
             "colorbar": {
              "outlinewidth": 0,
              "ticks": ""
             }
            },
            "type": "scattermapbox"
           }
          ],
          "scatterpolar": [
           {
            "marker": {
             "colorbar": {
              "outlinewidth": 0,
              "ticks": ""
             }
            },
            "type": "scatterpolar"
           }
          ],
          "scatterpolargl": [
           {
            "marker": {
             "colorbar": {
              "outlinewidth": 0,
              "ticks": ""
             }
            },
            "type": "scatterpolargl"
           }
          ],
          "scatterternary": [
           {
            "marker": {
             "colorbar": {
              "outlinewidth": 0,
              "ticks": ""
             }
            },
            "type": "scatterternary"
           }
          ],
          "surface": [
           {
            "colorbar": {
             "outlinewidth": 0,
             "ticks": ""
            },
            "colorscale": [
             [
              0,
              "#0d0887"
             ],
             [
              0.1111111111111111,
              "#46039f"
             ],
             [
              0.2222222222222222,
              "#7201a8"
             ],
             [
              0.3333333333333333,
              "#9c179e"
             ],
             [
              0.4444444444444444,
              "#bd3786"
             ],
             [
              0.5555555555555556,
              "#d8576b"
             ],
             [
              0.6666666666666666,
              "#ed7953"
             ],
             [
              0.7777777777777778,
              "#fb9f3a"
             ],
             [
              0.8888888888888888,
              "#fdca26"
             ],
             [
              1,
              "#f0f921"
             ]
            ],
            "type": "surface"
           }
          ],
          "table": [
           {
            "cells": {
             "fill": {
              "color": "#EBF0F8"
             },
             "line": {
              "color": "white"
             }
            },
            "header": {
             "fill": {
              "color": "#C8D4E3"
             },
             "line": {
              "color": "white"
             }
            },
            "type": "table"
           }
          ]
         },
         "layout": {
          "annotationdefaults": {
           "arrowcolor": "#2a3f5f",
           "arrowhead": 0,
           "arrowwidth": 1
          },
          "autotypenumbers": "strict",
          "coloraxis": {
           "colorbar": {
            "outlinewidth": 0,
            "ticks": ""
           }
          },
          "colorscale": {
           "diverging": [
            [
             0,
             "#8e0152"
            ],
            [
             0.1,
             "#c51b7d"
            ],
            [
             0.2,
             "#de77ae"
            ],
            [
             0.3,
             "#f1b6da"
            ],
            [
             0.4,
             "#fde0ef"
            ],
            [
             0.5,
             "#f7f7f7"
            ],
            [
             0.6,
             "#e6f5d0"
            ],
            [
             0.7,
             "#b8e186"
            ],
            [
             0.8,
             "#7fbc41"
            ],
            [
             0.9,
             "#4d9221"
            ],
            [
             1,
             "#276419"
            ]
           ],
           "sequential": [
            [
             0,
             "#0d0887"
            ],
            [
             0.1111111111111111,
             "#46039f"
            ],
            [
             0.2222222222222222,
             "#7201a8"
            ],
            [
             0.3333333333333333,
             "#9c179e"
            ],
            [
             0.4444444444444444,
             "#bd3786"
            ],
            [
             0.5555555555555556,
             "#d8576b"
            ],
            [
             0.6666666666666666,
             "#ed7953"
            ],
            [
             0.7777777777777778,
             "#fb9f3a"
            ],
            [
             0.8888888888888888,
             "#fdca26"
            ],
            [
             1,
             "#f0f921"
            ]
           ],
           "sequentialminus": [
            [
             0,
             "#0d0887"
            ],
            [
             0.1111111111111111,
             "#46039f"
            ],
            [
             0.2222222222222222,
             "#7201a8"
            ],
            [
             0.3333333333333333,
             "#9c179e"
            ],
            [
             0.4444444444444444,
             "#bd3786"
            ],
            [
             0.5555555555555556,
             "#d8576b"
            ],
            [
             0.6666666666666666,
             "#ed7953"
            ],
            [
             0.7777777777777778,
             "#fb9f3a"
            ],
            [
             0.8888888888888888,
             "#fdca26"
            ],
            [
             1,
             "#f0f921"
            ]
           ]
          },
          "colorway": [
           "#636efa",
           "#EF553B",
           "#00cc96",
           "#ab63fa",
           "#FFA15A",
           "#19d3f3",
           "#FF6692",
           "#B6E880",
           "#FF97FF",
           "#FECB52"
          ],
          "font": {
           "color": "#2a3f5f"
          },
          "geo": {
           "bgcolor": "white",
           "lakecolor": "white",
           "landcolor": "#E5ECF6",
           "showlakes": true,
           "showland": true,
           "subunitcolor": "white"
          },
          "hoverlabel": {
           "align": "left"
          },
          "hovermode": "closest",
          "mapbox": {
           "style": "light"
          },
          "paper_bgcolor": "white",
          "plot_bgcolor": "#E5ECF6",
          "polar": {
           "angularaxis": {
            "gridcolor": "white",
            "linecolor": "white",
            "ticks": ""
           },
           "bgcolor": "#E5ECF6",
           "radialaxis": {
            "gridcolor": "white",
            "linecolor": "white",
            "ticks": ""
           }
          },
          "scene": {
           "xaxis": {
            "backgroundcolor": "#E5ECF6",
            "gridcolor": "white",
            "gridwidth": 2,
            "linecolor": "white",
            "showbackground": true,
            "ticks": "",
            "zerolinecolor": "white"
           },
           "yaxis": {
            "backgroundcolor": "#E5ECF6",
            "gridcolor": "white",
            "gridwidth": 2,
            "linecolor": "white",
            "showbackground": true,
            "ticks": "",
            "zerolinecolor": "white"
           },
           "zaxis": {
            "backgroundcolor": "#E5ECF6",
            "gridcolor": "white",
            "gridwidth": 2,
            "linecolor": "white",
            "showbackground": true,
            "ticks": "",
            "zerolinecolor": "white"
           }
          },
          "shapedefaults": {
           "line": {
            "color": "#2a3f5f"
           }
          },
          "ternary": {
           "aaxis": {
            "gridcolor": "white",
            "linecolor": "white",
            "ticks": ""
           },
           "baxis": {
            "gridcolor": "white",
            "linecolor": "white",
            "ticks": ""
           },
           "bgcolor": "#E5ECF6",
           "caxis": {
            "gridcolor": "white",
            "linecolor": "white",
            "ticks": ""
           }
          },
          "title": {
           "x": 0.05
          },
          "xaxis": {
           "automargin": true,
           "gridcolor": "white",
           "linecolor": "white",
           "ticks": "",
           "title": {
            "standoff": 15
           },
           "zerolinecolor": "white",
           "zerolinewidth": 2
          },
          "yaxis": {
           "automargin": true,
           "gridcolor": "white",
           "linecolor": "white",
           "ticks": "",
           "title": {
            "standoff": 15
           },
           "zerolinecolor": "white",
           "zerolinewidth": 2
          }
         }
        },
        "xaxis": {
         "anchor": "y",
         "categoryarray": [
          "武汉鼎联丰国际贸易有限公司",
          "湖北华中能源发展有限公司",
          "湖北南方大集实业有限公司",
          "湖北南方大集实业有限公司东西湖分公司",
          "湖北南方大集实业有限公司慈惠分公司",
          "湖北南方大集实业有限公司江汉分公司",
          "湖北南方大集实业有限公司能源分公司",
          "湖北南方工贸有限公司",
          "湖北南方集团有限公司",
          "湖北国贸供应链管理有限公司",
          "湖北国贸农产品有限公司",
          "湖北国贸农产品有限公司武汉分公司",
          "湖北国贸汽车有限公司",
          "湖北国贸汽车有限公司红安分公司",
          "湖北国贸能源化工有限公司",
          "湖北国贸金属矿产有限公司",
          "湖北国际贸易集团有限公司"
         ],
         "categoryorder": "array",
         "domain": [
          0,
          1
         ],
         "title": {
          "text": "company_name"
         }
        },
        "yaxis": {
         "anchor": "x",
         "domain": [
          0,
          1
         ],
         "title": {
          "text": "SALES"
         }
        }
       }
      }
     },
     "metadata": {},
     "output_type": "display_data"
    }
   ],
   "source": [
    "from plot import SalesBarChart,SalesBarChartForGroup\n",
    "\n",
    "\n",
    "def fig_generator():\n",
    "    for data in data_results:\n",
    "        df = pd.DataFrame(data)\n",
    "        if \"month\" in df.columns:\n",
    "            chart=SalesBarChartForGroup(df)\n",
    "        else:\n",
    "            chart = SalesBarChart(df)\n",
    "        chart.plot()\n",
    "        yield chart.fig\n",
    "\n",
    "for fig in fig_generator():\n",
    "    fig.show()"
   ]
  },
  {
   "cell_type": "code",
   "execution_count": null,
   "metadata": {},
   "outputs": [],
   "source": []
  }
 ],
 "metadata": {
  "kernelspec": {
   "display_name": "chatbi",
   "language": "python",
   "name": "python3"
  },
  "language_info": {
   "codemirror_mode": {
    "name": "ipython",
    "version": 3
   },
   "file_extension": ".py",
   "mimetype": "text/x-python",
   "name": "python",
   "nbconvert_exporter": "python",
   "pygments_lexer": "ipython3",
   "version": "3.12.4"
  }
 },
 "nbformat": 4,
 "nbformat_minor": 2
}
