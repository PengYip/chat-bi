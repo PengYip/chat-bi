{
 "cells": [
  {
   "cell_type": "code",
   "execution_count": 1,
   "metadata": {},
   "outputs": [],
   "source": [
    "from langchain_core.prompts import ChatPromptTemplate\n",
    "from langchain_core.pydantic_v1 import BaseModel, Field\n",
    "\n",
    "import os\n",
    "import sys\n",
    "\n",
    "sys.path.append(\"..\")\n",
    "from agent import DeepSeekChatLLM, ClassificationRunnable\n",
    "from entity import DomainClassification"
   ]
  },
  {
   "cell_type": "code",
   "execution_count": 2,
   "metadata": {},
   "outputs": [],
   "source": [
    "domain_tagging_chain=ClassificationRunnable(DomainClassification)"
   ]
  },
  {
   "cell_type": "code",
   "execution_count": 3,
   "metadata": {},
   "outputs": [
    {
     "data": {
      "text/plain": [
       "DomainClassification(domain='业绩')"
      ]
     },
     "execution_count": 3,
     "metadata": {},
     "output_type": "execute_result"
    }
   ],
   "source": [
    "inp = \"最近销售如何\"\n",
    "domain_tagging_chain.invoke({\"input\": inp})"
   ]
  },
  {
   "cell_type": "code",
   "execution_count": 4,
   "metadata": {},
   "outputs": [
    {
     "data": {
      "text/plain": [
       "DomainClassification(domain='应收')"
      ]
     },
     "execution_count": 4,
     "metadata": {},
     "output_type": "execute_result"
    }
   ],
   "source": [
    "inp = \"国贸化工的下游客户应收最多的\"\n",
    "domain_tagging_chain.invoke({\"input\": inp})"
   ]
  },
  {
   "cell_type": "code",
   "execution_count": 5,
   "metadata": {},
   "outputs": [
    {
     "data": {
      "text/plain": [
       "DomainClassification(domain='业绩')"
      ]
     },
     "execution_count": 5,
     "metadata": {},
     "output_type": "execute_result"
    }
   ],
   "source": [
    "inp = \"国贸化工的最近五个月的利润\"\n",
    "domain_tagging_chain.invoke({\"input\": inp})"
   ]
  },
  {
   "cell_type": "code",
   "execution_count": 6,
   "metadata": {},
   "outputs": [
    {
     "data": {
      "text/plain": [
       "DomainClassification(domain='客户属性')"
      ]
     },
     "execution_count": 6,
     "metadata": {},
     "output_type": "execute_result"
    }
   ],
   "source": [
    "inp = \"国贸化工的额度最高的客户\"\n",
    "domain_tagging_chain.invoke({\"input\": inp})"
   ]
  },
  {
   "cell_type": "code",
   "execution_count": 9,
   "metadata": {},
   "outputs": [
    {
     "data": {
      "text/plain": [
       "DomainClassification(domain='代采')"
      ]
     },
     "execution_count": 9,
     "metadata": {},
     "output_type": "execute_result"
    }
   ],
   "source": [
    "inp = \"预付货款最多的公司\"\n",
    "domain_tagging_chain.invoke({\"input\": inp})"
   ]
  },
  {
   "cell_type": "code",
   "execution_count": 7,
   "metadata": {},
   "outputs": [],
   "source": [
    "from agent import ExtractorRunnable\n",
    "from entity import PerformanceQuerySchema, InventoryQuerySchema\n",
    "from prompt import (\n",
    "    INVENTORY_OUTPUT_EXAMPLE_MESSAGES,\n",
    "    COMPANY_NAME_EXAMPLES,\n",
    "    PERFORMANCE_OUTPUT_EXAMPLES_MESSAGES,\n",
    ")\n",
    "\n",
    "chain_dict = {}\n",
    "chain_performance = ExtractorRunnable(PerformanceQuerySchema)  # 业绩查询参数提取\n",
    "chain_inventory = ExtractorRunnable(InventoryQuerySchema)  # 库存查询参数提取"
   ]
  },
  {
   "cell_type": "code",
   "execution_count": 12,
   "metadata": {},
   "outputs": [
    {
     "name": "stdout",
     "output_type": "stream",
     "text": [
      "{'aggregation': None,\n",
      " 'company_name': None,\n",
      " 'end_time': None,\n",
      " 'indicator': '库存金额',\n",
      " 'industry_type': None,\n",
      " 'inventory_name': None,\n",
      " 'operator': None,\n",
      " 'scope': 'GROUP',\n",
      " 'sort_type': 'DESC',\n",
      " 'start_time': None,\n",
      " 'value': None}\n"
     ]
    }
   ],
   "source": [
    "from pprint import pprint\n",
    "\n",
    "pprint(\n",
    "    chain_inventory.invoke(\n",
    "        {\n",
    "            \"text\": \"库存金额最多的仓库\",\n",
    "            \"date\": \"2024-08-26\",\n",
    "            \"user_role\": \"集团用户\",\n",
    "            \"examples\": INVENTORY_OUTPUT_EXAMPLE_MESSAGES,\n",
    "            \"company_name_example\": COMPANY_NAME_EXAMPLES,\n",
    "        }\n",
    "    ).dict()\n",
    ")"
   ]
  },
  {
   "cell_type": "code",
   "execution_count": 14,
   "metadata": {},
   "outputs": [
    {
     "name": "stdout",
     "output_type": "stream",
     "text": [
      "{'aggregation': 'YEAR',\n",
      " 'company_name': '湖北国贸能源化工有限公司',\n",
      " 'end_time': '2024-06-30',\n",
      " 'indicator': '月吞吐量',\n",
      " 'industry_type': None,\n",
      " 'inventory_name': None,\n",
      " 'operator': None,\n",
      " 'scope': 'COMPANY',\n",
      " 'sort_type': 'DESC',\n",
      " 'start_time': '2024-01-01',\n",
      " 'value': None}\n"
     ]
    }
   ],
   "source": [
    "pprint(\n",
    "    chain_inventory.invoke(\n",
    "        {\n",
    "            \"text\": \"今年上半年吞吐量最多的仓库，用户属于国贸能化公司\",\n",
    "            \"date\": \"2024-08-26\",\n",
    "            \"user_role\": \"公司\",\n",
    "            \"examples\": INVENTORY_OUTPUT_EXAMPLE_MESSAGES,\n",
    "            \"company_name_example\": COMPANY_NAME_EXAMPLES,\n",
    "        }\n",
    "    ).dict()\n",
    ")"
   ]
  },
  {
   "cell_type": "code",
   "execution_count": 15,
   "metadata": {},
   "outputs": [
    {
     "name": "stdout",
     "output_type": "stream",
     "text": [
      "{'aggregation': 'YEAR',\n",
      " 'company_name': '湖北国贸金属矿产有限公司',\n",
      " 'end_time': '2023-12-31',\n",
      " 'indicator': '月吞吐量',\n",
      " 'industry_type': '钢材',\n",
      " 'inventory_name': None,\n",
      " 'operator': '>',\n",
      " 'scope': 'COMPANY',\n",
      " 'sort_type': 'DESC',\n",
      " 'start_time': '2023-01-01',\n",
      " 'value': '10000000'}\n"
     ]
    }
   ],
   "source": [
    "pprint(\n",
    "    chain_inventory.invoke(\n",
    "        {\n",
    "            \"text\": \"去年吞吐量大于1000万吨的仓库，用户属于国贸金属矿公司\",\n",
    "            \"date\": \"2024-08-26\",\n",
    "            \"user_role\": \"公司\",\n",
    "            \"examples\": INVENTORY_OUTPUT_EXAMPLE_MESSAGES,\n",
    "            \"company_name_example\": COMPANY_NAME_EXAMPLES,\n",
    "        }\n",
    "    ).dict()\n",
    ")"
   ]
  },
  {
   "cell_type": "code",
   "execution_count": null,
   "metadata": {},
   "outputs": [],
   "source": []
  }
 ],
 "metadata": {
  "kernelspec": {
   "display_name": "chatbi",
   "language": "python",
   "name": "python3"
  },
  "language_info": {
   "codemirror_mode": {
    "name": "ipython",
    "version": 3
   },
   "file_extension": ".py",
   "mimetype": "text/x-python",
   "name": "python",
   "nbconvert_exporter": "python",
   "pygments_lexer": "ipython3",
   "version": "3.12.4"
  }
 },
 "nbformat": 4,
 "nbformat_minor": 2
}
