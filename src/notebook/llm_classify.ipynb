{
 "cells": [
  {
   "cell_type": "code",
   "execution_count": 2,
   "metadata": {},
   "outputs": [
    {
     "ename": "SyntaxError",
     "evalue": "invalid syntax (extraction_prompt.py, line 241)",
     "output_type": "error",
     "traceback": [
      "Traceback \u001b[0;36m(most recent call last)\u001b[0m:\n",
      "\u001b[0m  File \u001b[1;32m~/miniconda3/envs/chatbi/lib/python3.12/site-packages/IPython/core/interactiveshell.py:3577\u001b[0m in \u001b[1;35mrun_code\u001b[0m\n    exec(code_obj, self.user_global_ns, self.user_ns)\u001b[0m\n",
      "\u001b[0m  Cell \u001b[1;32mIn[2], line 8\u001b[0m\n    from agent import DeepSeekChatLLM, ClassificationRunnable\u001b[0m\n",
      "\u001b[0m  File \u001b[1;32m~/ChatBI/chat-bi/src/notebook/../agent/__init__.py:1\u001b[0m\n    from .llm_model import ExtractorRunnable, DeepSeekChatLLM, ClassificationRunnable\u001b[0m\n",
      "\u001b[0m  File \u001b[1;32m~/ChatBI/chat-bi/src/notebook/../agent/llm_model.py:6\u001b[0m\n    from prompt import (\u001b[0m\n",
      "\u001b[0;36m  File \u001b[0;32m~/ChatBI/chat-bi/src/notebook/../prompt/__init__.py:1\u001b[0;36m\n\u001b[0;31m    from .extraction_prompt import (\u001b[0;36m\n",
      "\u001b[0;36m  File \u001b[0;32m~/ChatBI/chat-bi/src/notebook/../prompt/extraction_prompt.py:241\u001b[0;36m\u001b[0m\n\u001b[0;31m    INVENTORY_OUTPUT_EXAMPLE_MESSAGES =\u001b[0m\n\u001b[0m                                        ^\u001b[0m\n\u001b[0;31mSyntaxError\u001b[0m\u001b[0;31m:\u001b[0m invalid syntax\n"
     ]
    }
   ],
   "source": [
    "from langchain_core.prompts import ChatPromptTemplate\n",
    "from langchain_core.pydantic_v1 import BaseModel, Field\n",
    "\n",
    "import os\n",
    "import sys\n",
    "\n",
    "sys.path.append(\"..\")\n",
    "from agent import DeepSeekChatLLM, ClassificationRunnable\n",
    "from entity import DomainClassification"
   ]
  },
  {
   "cell_type": "code",
   "execution_count": null,
   "metadata": {},
   "outputs": [],
   "source": [
    "domain_tagging_chain=ClassificationRunnable(DomainClassification)"
   ]
  },
  {
   "cell_type": "code",
   "execution_count": null,
   "metadata": {},
   "outputs": [],
   "source": [
    "inp = \"最近销售如何\"\n",
    "domain_tagging_chain.invoke({\"input\": inp})"
   ]
  },
  {
   "cell_type": "code",
   "execution_count": null,
   "metadata": {},
   "outputs": [],
   "source": [
    "inp = \"国贸化工的下游客户应收最多的\"\n",
    "domain_tagging_chain.invoke({\"input\": inp})"
   ]
  },
  {
   "cell_type": "code",
   "execution_count": null,
   "metadata": {},
   "outputs": [],
   "source": [
    "inp = \"国贸化工的最近五个月的利润\"\n",
    "domain_tagging_chain.invoke({\"input\": inp})"
   ]
  },
  {
   "cell_type": "code",
   "execution_count": null,
   "metadata": {},
   "outputs": [],
   "source": [
    "inp = \"国贸化工的额度最高的客户\"\n",
    "domain_tagging_chain.invoke({\"input\": inp})"
   ]
  },
  {
   "cell_type": "code",
   "execution_count": null,
   "metadata": {},
   "outputs": [],
   "source": [
    "from agent import ExtractorRunnable\n",
    "from entity import PerformanceQuerySchema, InventoryQuerySchema\n",
    "from prompt import (\n",
    "    INVENTORY_OUTPUT_EXAMPLE_MESSAGES,\n",
    "    COMPANY_NAME_EXAMPLES,\n",
    "    PERFORMANCE_OUTPUT_EXAMPLES_MESSAGES,\n",
    ")\n",
    "\n",
    "chain_dict = {}\n",
    "chain_performance = ExtractorRunnable(PerformanceQuerySchema)  # 业绩查询参数提取\n",
    "chain_inventory = ExtractorRunnable(InventoryQuerySchema)  # 库存查询参数提取"
   ]
  },
  {
   "cell_type": "code",
   "execution_count": null,
   "metadata": {},
   "outputs": [],
   "source": [
    "chain_inventory.invoke(\n",
    "    {\n",
    "        \"text\":\"库存金额最多的仓库\",\n",
    "        \"date\":\"2024-08-26\",\n",
    "        \"user_role\":\"集团用户\",\n",
    "        \"examples\":INVENTORY_OUTPUT_EXAMPLE_MESSAGES,\n",
    "        \"company_name_example\":COMPANY_NAME_EXAMPLES\n",
    "    }\n",
    ")"
   ]
  },
  {
   "cell_type": "code",
   "execution_count": null,
   "metadata": {},
   "outputs": [],
   "source": []
  }
 ],
 "metadata": {
  "kernelspec": {
   "display_name": "chatbi",
   "language": "python",
   "name": "python3"
  },
  "language_info": {
   "codemirror_mode": {
    "name": "ipython",
    "version": 3
   },
   "file_extension": ".py",
   "mimetype": "text/x-python",
   "name": "python",
   "nbconvert_exporter": "python",
   "pygments_lexer": "ipython3",
   "version": "3.12.4"
  }
 },
 "nbformat": 4,
 "nbformat_minor": 2
}
