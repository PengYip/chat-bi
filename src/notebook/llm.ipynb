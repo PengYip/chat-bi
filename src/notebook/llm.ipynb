{
 "cells": [
  {
   "cell_type": "code",
   "execution_count": 1,
   "metadata": {},
   "outputs": [],
   "source": [
    "from langchain_ollama import ChatOllama\n",
    "\n",
    "ollama_llm = ChatOllama(\n",
    "    model=\"deepseek-v2\",\n",
    "    temperature=0.7,\n",
    "    )\n"
   ]
  },
  {
   "cell_type": "code",
   "execution_count": 2,
   "metadata": {},
   "outputs": [],
   "source": [
    "from langchain_openai import ChatOpenAI\n",
    "from dotenv import load_dotenv, find_dotenv\n",
    "import os\n",
    "\n",
    "_=load_dotenv(find_dotenv())\n",
    "DEEPSEEK_API = os.getenv(\"DEEPSEEK_API\")\n",
    "BASE_URL = os.getenv(\"DEEPSEEK_URL\")\n",
    "MODEL_NAME = os.getenv(\"DEEPSEEK_MODEL\")\n",
    "llm = ChatOpenAI(api_key=DEEPSEEK_API, base_url=BASE_URL, model=MODEL_NAME)"
   ]
  },
  {
   "cell_type": "code",
   "execution_count": 3,
   "metadata": {},
   "outputs": [
    {
     "data": {
      "text/plain": [
       "AIMessage(content='你好！欢迎使用聊天机器人。有什么我可以帮助你的吗？', additional_kwargs={'refusal': None}, response_metadata={'token_usage': {'completion_tokens': 13, 'prompt_tokens': 4, 'total_tokens': 17, 'prompt_cache_hit_tokens': 0, 'prompt_cache_miss_tokens': 4}, 'model_name': 'deepseek-chat', 'system_fingerprint': 'fp_7e0991cad4', 'finish_reason': 'stop', 'logprobs': None}, id='run-21539e85-42fc-47d4-afe8-d410053ff9e1-0', usage_metadata={'input_tokens': 4, 'output_tokens': 13, 'total_tokens': 17})"
      ]
     },
     "execution_count": 3,
     "metadata": {},
     "output_type": "execute_result"
    }
   ],
   "source": [
    "llm.invoke(\"你好\")"
   ]
  },
  {
   "cell_type": "code",
   "execution_count": 4,
   "metadata": {},
   "outputs": [],
   "source": [
    "from langchain_core.prompts import ChatPromptTemplate\n",
    "from langchain_core.pydantic_v1 import BaseModel, Field\n",
    "from langchain_openai import ChatOpenAI\n",
    "\n",
    "tagging_prompt = ChatPromptTemplate.from_template(\n",
    "    \"\"\"\n",
    "Extract the desired information from the following passage.\n",
    "\n",
    "Only extract the properties mentioned in the 'Classification' function.\n",
    "\n",
    "Passage:\n",
    "{input}\n",
    "\"\"\"\n",
    ")\n",
    "\n",
    "\n",
    "class Classification(BaseModel):\n",
    "    sentiment: str = Field(description=\"The sentiment of the text\")\n",
    "    aggressiveness: int = Field(\n",
    "        description=\"How aggressive the text is on a scale from 1 to 10\"\n",
    "    )\n",
    "    language: str = Field(description=\"The language the text is written in\")\n",
    "\n",
    "\n",
    "# llm=llm.with_structured_output(Classification)\n",
    "tagging_chain = tagging_prompt | llm"
   ]
  },
  {
   "cell_type": "code",
   "execution_count": 5,
   "metadata": {},
   "outputs": [
    {
     "data": {
      "text/plain": [
       "AIMessage(content=\"The passage provided does not contain any information related to a 'Classification' function or properties. It is a personal message expressing happiness about meeting someone and the expectation of becoming good friends.\", additional_kwargs={'refusal': None}, response_metadata={'token_usage': {'completion_tokens': 36, 'prompt_tokens': 56, 'total_tokens': 92, 'prompt_cache_hit_tokens': 0, 'prompt_cache_miss_tokens': 56}, 'model_name': 'deepseek-chat', 'system_fingerprint': 'fp_7e0991cad4', 'finish_reason': 'stop', 'logprobs': None}, id='run-43330c53-5839-4463-a951-37bb4fcf48ff-0', usage_metadata={'input_tokens': 56, 'output_tokens': 36, 'total_tokens': 92})"
      ]
     },
     "execution_count": 5,
     "metadata": {},
     "output_type": "execute_result"
    }
   ],
   "source": [
    "inp = \"Estoy increiblemente contento de haberte conocido! Creo que seremos muy buenos amigos!\"\n",
    "tagging_chain.invoke({\"input\": inp})"
   ]
  },
  {
   "cell_type": "code",
   "execution_count": 6,
   "metadata": {},
   "outputs": [],
   "source": [
    "from typing import Optional\n",
    "\n",
    "from langchain_core.pydantic_v1 import BaseModel, Field\n",
    "\n",
    "\n",
    "class Person(BaseModel):\n",
    "    \"\"\"Information about a person.\"\"\"\n",
    "\n",
    "    # ^ Doc-string for the entity Person.\n",
    "    # This doc-string is sent to the LLM as the description of the schema Person,\n",
    "    # and it can help to improve extraction results.\n",
    "\n",
    "    # Note that:\n",
    "    # 1. Each field is an `optional` -- this allows the model to decline to extract it!\n",
    "    # 2. Each field has a `description` -- this description is used by the LLM.\n",
    "    # Having a good description can help improve extraction results.\n",
    "    name: Optional[str] = Field(default=None, description=\"The name of the person\")\n",
    "    hair_color: Optional[str] = Field(\n",
    "        default=None, description=\"The color of the person's hair if known\"\n",
    "    )\n",
    "    height_in_meters: Optional[str] = Field(\n",
    "        default=None, description=\"Height measured in meters\"\n",
    "    )"
   ]
  },
  {
   "cell_type": "code",
   "execution_count": 7,
   "metadata": {},
   "outputs": [],
   "source": [
    "from typing import Optional\n",
    "\n",
    "from langchain_core.prompts import ChatPromptTemplate, MessagesPlaceholder\n",
    "from langchain_core.pydantic_v1 import BaseModel, Field\n",
    "\n",
    "# Define a custom prompt to provide instructions and any additional context.\n",
    "# 1) You can add examples into the prompt template to improve extraction quality\n",
    "# 2) Introduce additional parameters to take context into account (e.g., include metadata\n",
    "#    about the document from which the text was extracted.)\n",
    "prompt = ChatPromptTemplate.from_messages(\n",
    "    [\n",
    "        (\n",
    "            \"system\",\n",
    "            \"You are an expert extraction algorithm. \"\n",
    "            \"Only extract relevant information from the text. \"\n",
    "            \"If you do not know the value of an attribute asked to extract, \"\n",
    "            \"return null for the attribute's value.\",\n",
    "        ),\n",
    "        # Please see the how-to about improving performance with\n",
    "        # reference examples.\n",
    "        # MessagesPlaceholder('examples'),\n",
    "        (\"human\", \"{text}\"),\n",
    "    ]\n",
    ")"
   ]
  },
  {
   "cell_type": "code",
   "execution_count": 8,
   "metadata": {},
   "outputs": [],
   "source": [
    "prompt_performance_template = ChatPromptTemplate.from_messages(\n",
    "    [\n",
    "        (\n",
    "            \"system\",\n",
    "            \"You are an expert extraction algorithm. \"\n",
    "            \"Only extract relevant information from the text. \"\n",
    "            \"If you do not know the value of an attribute asked to extract, \"\n",
    "            \"return null for the attribute's value.\",\n",
    "        ),\n",
    "        # Please see the how-to about improving performance with\n",
    "        # reference examples.\n",
    "        # MessagesPlaceholder('examples'),\n",
    "        (\"human\", \"{text},现在日期是{date}\"),\n",
    "    ]\n",
    ")"
   ]
  },
  {
   "cell_type": "code",
   "execution_count": 9,
   "metadata": {},
   "outputs": [
    {
     "name": "stdout",
     "output_type": "stream",
     "text": [
      "['/home/yepeng/ChatBI/chat-bi/src/notebook', '/home/yepeng/miniconda3/envs/chatbi/lib/python312.zip', '/home/yepeng/miniconda3/envs/chatbi/lib/python3.12', '/home/yepeng/miniconda3/envs/chatbi/lib/python3.12/lib-dynload', '', '/home/yepeng/miniconda3/envs/chatbi/lib/python3.12/site-packages', '/home/yepeng/miniconda3/envs/chatbi/lib/python3.12/site-packages/setuptools/_vendor', '..']\n"
     ]
    }
   ],
   "source": [
    "import sys\n",
    "sys.path.append('..')  # 将 src 目录添加到 PYTHONPATH  # 假设当前工作目录是notebook目录\n",
    "print(sys.path)"
   ]
  },
  {
   "cell_type": "code",
   "execution_count": 10,
   "metadata": {},
   "outputs": [],
   "source": [
    "from entity.extraction import PerformanceQuerySchema"
   ]
  },
  {
   "cell_type": "code",
   "execution_count": 11,
   "metadata": {},
   "outputs": [],
   "source": [
    "\n",
    "\n",
    "runnable =prompt_performance_template | llm.with_structured_output(schema=PerformanceQuerySchema)"
   ]
  },
  {
   "cell_type": "code",
   "execution_count": 12,
   "metadata": {},
   "outputs": [
    {
     "data": {
      "text/plain": [
       "{'indicator': 'GROSS_MARGIN_RATE',\n",
       " 'aggregation': 'YEAR',\n",
       " 'start_time': '2023-01-01',\n",
       " 'end_time': '2023-12-31',\n",
       " 'scope': 'COMPANY',\n",
       " 'sort_type': None,\n",
       " 'operator': None,\n",
       " 'value': None,\n",
       " 'company_name': '国贸能化公司'}"
      ]
     },
     "execution_count": 12,
     "metadata": {},
     "output_type": "execute_result"
    }
   ],
   "source": [
    "# text = \"去年国贸能化公司的利润率\"\n",
    "# runnable.invoke({\"text\": text,\"date\":\"2024-08-25\"}).dict()"
   ]
  },
  {
   "cell_type": "code",
   "execution_count": 13,
   "metadata": {},
   "outputs": [],
   "source": [
    "from entity.extraction_example import Example, tool_example_to_messages\n",
    "from entity.extraction import *\n",
    "\n",
    "examples = [\n",
    "    (\n",
    "        \"去年集团利润率为负的公司,当前日期是2024-08-25，查询用户为集团用户\",\n",
    "        PerformanceQuerySchema(\n",
    "            indicator=\"GROSS_MARGIN_RATE\",\n",
    "            aggregation=\"YEAR\",\n",
    "            start_time=\"2023-01-01\",\n",
    "            end_time=\"2023-12-31\",\n",
    "            scope=\"GROUP\",\n",
    "            sort_type=\"DESC\",\n",
    "            operator=\"<\",\n",
    "            value=\"0\",\n",
    "        ),\n",
    "    ),\n",
    "    (\n",
    "        \"国贸能化公司今年上半年的销售额大于1000万的月份,当前日期是2024-08-25\",\n",
    "        PerformanceQuerySchema(\n",
    "            indicator=\"SALES\",\n",
    "            aggregation=\"MONTH\",\n",
    "            start_time=\"2024-01-01\",\n",
    "            end_time=\"2024-06-30\",\n",
    "            scope=\"GROUP\",\n",
    "            sort_type=\"DESC\",\n",
    "            operator=\">\",\n",
    "            value=\"10000000\",\n",
    "            company_name=\"国贸能化\",\n",
    "        ),\n",
    "    ),\n",
    "]\n",
    "\n",
    "\n",
    "messages = []\n",
    "\n",
    "for text, tool_call in examples:\n",
    "    messages.extend(\n",
    "        tool_example_to_messages({\"input\": text, \"tool_calls\": [tool_call]})\n",
    "    )"
   ]
  },
  {
   "cell_type": "code",
   "execution_count": 14,
   "metadata": {},
   "outputs": [
    {
     "name": "stdout",
     "output_type": "stream",
     "text": [
      "system: content=\"You are an expert extraction algorithm. Only extract relevant information from the text. If you do not know the value of an attribute asked to extract, return null for the attribute's value.\"\n",
      "human: content='this is some text'\n"
     ]
    }
   ],
   "source": [
    "example_prompt = prompt.invoke({\"text\": \"this is some text\", \"examples\": messages})\n",
    "\n",
    "for message in example_prompt.messages:\n",
    "    print(f\"{message.type}: {message}\")"
   ]
  },
  {
   "cell_type": "code",
   "execution_count": 16,
   "metadata": {},
   "outputs": [],
   "source": [
    "from langchain_core.prompts import ChatPromptTemplate, MessagesPlaceholder\n",
    "\n",
    "# Define a custom prompt to provide instructions and any additional context.\n",
    "# 1) You can add examples into the prompt template to improve extraction quality\n",
    "# 2) Introduce additional parameters to take context into account (e.g., include metadata\n",
    "#    about the document from which the text was extracted.)\n",
    "prompt = ChatPromptTemplate.from_messages(\n",
    "    [\n",
    "        (\n",
    "            \"system\",\n",
    "            \"You are an expert extraction algorithm. \"\n",
    "            \"Only extract relevant information from the text. \"\n",
    "            \"If you do not know the value of an attribute asked \"\n",
    "            \"to extract, return null for the attribute's value.\",\n",
    "        ),\n",
    "        # ↓↓↓↓↓↓↓↓↓↓↓↓↓↓↓↓↓↓↓↓↓↓↓↓↓↓↓↓\n",
    "        MessagesPlaceholder(\"examples\"),  # <-- EXAMPLES!\n",
    "        # ↑↑↑↑↑↑↑↑↑↑↑↑↑↑↑↑↑↑↑↑↑↑↑↑↑↑↑↑↑\n",
    "        MessagesPlaceholder(\"company_name_example\"),\n",
    "        (\"human\", \"{text}\"),\n",
    "    ]\n",
    ")"
   ]
  },
  {
   "cell_type": "code",
   "execution_count": 17,
   "metadata": {},
   "outputs": [],
   "source": [
    "runnable_with_examples = prompt | llm.with_structured_output(\n",
    "    schema=PerformanceQuerySchema,\n",
    "    method=\"function_calling\",\n",
    "    include_raw=False,\n",
    ")\n",
    "\n",
    "messages = []\n",
    "\n",
    "for text, tool_call in examples:\n",
    "    messages.extend(\n",
    "        tool_example_to_messages({\"input\": text, \"tool_calls\": [tool_call]})\n",
    "    )"
   ]
  },
  {
   "cell_type": "code",
   "execution_count": 18,
   "metadata": {},
   "outputs": [
    {
     "data": {
      "text/plain": [
       "[HumanMessage(content='去年集团利润率为负的公司,当前日期是2024-08-25，查询用户为集团用户'),\n",
       " AIMessage(content='', tool_calls=[{'name': 'PerformanceQuerySchema', 'args': {'indicator': 'GROSS_MARGIN_RATE', 'aggregation': 'YEAR', 'start_time': '2023-01-01', 'end_time': '2023-12-31', 'scope': 'GROUP', 'sort_type': 'DESC', 'operator': '<', 'value': '0', 'company_name': None}, 'id': '7ed4a8f9-05a0-4870-8214-7e239abd3fc0', 'type': 'tool_call'}]),\n",
       " ToolMessage(content='You have correctly called this tool.', tool_call_id='7ed4a8f9-05a0-4870-8214-7e239abd3fc0'),\n",
       " HumanMessage(content='国贸能化公司今年上半年的销售额大于1000万的月份,当前日期是2024-08-25'),\n",
       " AIMessage(content='', tool_calls=[{'name': 'PerformanceQuerySchema', 'args': {'indicator': 'SALES', 'aggregation': 'MONTH', 'start_time': '2024-01-01', 'end_time': '2024-06-30', 'scope': 'GROUP', 'sort_type': 'DESC', 'operator': '>', 'value': '10000000', 'company_name': '国贸能化'}, 'id': '1b06fa36-52f1-4d3e-8526-f7fc1c35f103', 'type': 'tool_call'}]),\n",
       " ToolMessage(content='You have correctly called this tool.', tool_call_id='1b06fa36-52f1-4d3e-8526-f7fc1c35f103')]"
      ]
     },
     "execution_count": 18,
     "metadata": {},
     "output_type": "execute_result"
    }
   ],
   "source": [
    "messages"
   ]
  },
  {
   "cell_type": "code",
   "execution_count": 26,
   "metadata": {},
   "outputs": [],
   "source": [
    "from langchain_core.messages import (\n",
    "    AIMessage,\n",
    "    BaseMessage,\n",
    "    HumanMessage,\n",
    "    SystemMessage,\n",
    "    ToolMessage,\n",
    ")\n",
    "company_name_examples=[HumanMessage(\"company name examples:湖北国贸能源化工有限公司,湖北国贸金属矿产有限公司,湖北国贸汽车有限公司,湖北国际贸易集团有限公司,湖北国贸农产品有限公司,武汉鼎联丰国际贸易有限公司,湖北国贸农产品有限公司武汉分公司,湖北南方大集实业有限公司,湖北南方大集实业有限公司东西湖分公司,湖北南方大集实业有限公司慈惠分公司,湖北南方大集实业有限公司江汉分公司,湖北南方大集实业有限公司能源分公司,湖北南方工贸有限公司,湖北南方集团有限公司,湖北国贸供应链管理有限公司,湖北华中能源发展有限公司,湖北国贸汽车有限公司红安分公司,company_name如果要取值，提取后的名称必须从例子里选择，如果没有相符的公司名则返回company_name='company_name_not_found'\")]"
   ]
  },
  {
   "cell_type": "code",
   "execution_count": 27,
   "metadata": {},
   "outputs": [
    {
     "name": "stdout",
     "output_type": "stream",
     "text": [
      "indicator='GROSS_MARGIN_RATE' aggregation='YEAR' start_time='2023-01-01' end_time='2023-12-31' scope='GROUP' sort_type='DESC' operator='<' value='0' company_name='company_name_not_found'\n"
     ]
    }
   ],
   "source": [
    "text = \"去年集团利润率为负的公司,当前日期是2024-08-25，查询用户为集团用户\"\n",
    "print(runnable_with_examples.invoke({\"text\": text, \"examples\": messages,\"company_name_example\": company_name_examples}))\n"
   ]
  },
  {
   "cell_type": "code",
   "execution_count": 29,
   "metadata": {},
   "outputs": [
    {
     "name": "stdout",
     "output_type": "stream",
     "text": [
      "indicator='SALES' aggregation='YEAR' start_time='2024-01-01' end_time='2024-12-31' scope='COMPANY' sort_type=None operator=None value=None company_name='湖北国贸供应链管理有限公司'\n"
     ]
    }
   ],
   "source": [
    "text = \"今年国贸供应链公司的销售额,当前日期是2024-08-25，查询用户为集团用户\"\n",
    "print(runnable_with_examples.invoke({\"text\": text, \"examples\": messages,\"company_name_example\": company_name_examples}))"
   ]
  },
  {
   "cell_type": "code",
   "execution_count": null,
   "metadata": {},
   "outputs": [],
   "source": []
  }
 ],
 "metadata": {
  "kernelspec": {
   "display_name": "chatbi",
   "language": "python",
   "name": "python3"
  },
  "language_info": {
   "codemirror_mode": {
    "name": "ipython",
    "version": 3
   },
   "file_extension": ".py",
   "mimetype": "text/x-python",
   "name": "python",
   "nbconvert_exporter": "python",
   "pygments_lexer": "ipython3",
   "version": "3.12.4"
  }
 },
 "nbformat": 4,
 "nbformat_minor": 2
}
