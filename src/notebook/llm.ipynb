{
 "cells": [
  {
   "cell_type": "code",
   "execution_count": 1,
   "metadata": {},
   "outputs": [],
   "source": [
    "from langchain_openai import ChatOpenAI\n",
    "from dotenv import load_dotenv, find_dotenv\n",
    "import os\n",
    "\n",
    "_=load_dotenv(find_dotenv())\n",
    "DEEPSEEK_API = os.getenv(\"DEEPSEEK_API\")\n",
    "BASE_URL = os.getenv(\"DEEPSEEK_URL\")\n",
    "MODEL_NAME = os.getenv(\"DEEPSEEK_MODEL\")\n",
    "llm = ChatOpenAI(api_key=DEEPSEEK_API, base_url=BASE_URL, model=MODEL_NAME)"
   ]
  },
  {
   "cell_type": "code",
   "execution_count": 2,
   "metadata": {},
   "outputs": [],
   "source": [
    "from langchain_core.prompts import ChatPromptTemplate\n",
    "from langchain_core.pydantic_v1 import BaseModel, Field\n",
    "from langchain_openai import ChatOpenAI\n",
    "\n",
    "tagging_prompt = ChatPromptTemplate.from_template(\n",
    "    \"\"\"\n",
    "Extract the desired information from the following passage.\n",
    "\n",
    "Only extract the properties mentioned in the 'Classification' function.\n",
    "\n",
    "Passage:\n",
    "{input}\n",
    "\"\"\"\n",
    ")\n",
    "\n",
    "\n",
    "class Classification(BaseModel):\n",
    "    sentiment: str = Field(description=\"The sentiment of the text\")\n",
    "    aggressiveness: int = Field(\n",
    "        description=\"How aggressive the text is on a scale from 1 to 10\"\n",
    "    )\n",
    "    language: str = Field(description=\"The language the text is written in\")\n",
    "\n",
    "\n",
    "# llm=llm.with_structured_output(Classification)\n",
    "tagging_chain = tagging_prompt | llm"
   ]
  },
  {
   "cell_type": "code",
   "execution_count": 3,
   "metadata": {},
   "outputs": [],
   "source": [
    "from typing import Optional\n",
    "\n",
    "from langchain_core.pydantic_v1 import BaseModel, Field"
   ]
  },
  {
   "cell_type": "code",
   "execution_count": 4,
   "metadata": {},
   "outputs": [],
   "source": [
    "from typing import Optional\n",
    "\n",
    "from langchain_core.prompts import ChatPromptTemplate, MessagesPlaceholder\n",
    "from langchain_core.pydantic_v1 import BaseModel, Field\n",
    "\n",
    "# Define a custom prompt to provide instructions and any additional context.\n",
    "# 1) You can add examples into the prompt template to improve extraction quality\n",
    "# 2) Introduce additional parameters to take context into account (e.g., include metadata\n",
    "#    about the document from which the text was extracted.)\n",
    "prompt = ChatPromptTemplate.from_messages(\n",
    "    [\n",
    "        (\n",
    "            \"system\",\n",
    "            \"You are an expert extraction algorithm. \"\n",
    "            \"Only extract relevant information from the text. \"\n",
    "            \"If you do not know the value of an attribute asked to extract, \"\n",
    "            \"return null for the attribute's value.\",\n",
    "        ),\n",
    "        # Please see the how-to about improving performance with\n",
    "        # reference examples.\n",
    "        # MessagesPlaceholder('examples'),\n",
    "        (\"human\", \"{text}\"),\n",
    "    ]\n",
    ")"
   ]
  },
  {
   "cell_type": "code",
   "execution_count": 5,
   "metadata": {},
   "outputs": [],
   "source": [
    "prompt_performance_template = ChatPromptTemplate.from_messages(\n",
    "    [\n",
    "        (\n",
    "            \"system\",\n",
    "            \"You are an expert extraction algorithm. \"\n",
    "            \"Only extract relevant information from the text. \"\n",
    "            \"If you do not know the value of an attribute asked to extract, \"\n",
    "            \"return null for the attribute's value.\",\n",
    "        ),\n",
    "        # Please see the how-to about improving performance with\n",
    "        # reference examples.\n",
    "        # MessagesPlaceholder('examples'),\n",
    "        (\"human\", \"{text},现在日期是{date}\"),\n",
    "    ]\n",
    ")"
   ]
  },
  {
   "cell_type": "code",
   "execution_count": 6,
   "metadata": {},
   "outputs": [
    {
     "name": "stdout",
     "output_type": "stream",
     "text": [
      "['/home/yepeng/miniconda3/envs/chatbi/lib/python312.zip', '/home/yepeng/miniconda3/envs/chatbi/lib/python3.12', '/home/yepeng/miniconda3/envs/chatbi/lib/python3.12/lib-dynload', '', '/home/yepeng/.local/lib/python3.12/site-packages', '/home/yepeng/miniconda3/envs/chatbi/lib/python3.12/site-packages', '/home/yepeng/miniconda3/envs/chatbi/lib/python3.12/site-packages/setuptools/_vendor', '..']\n"
     ]
    }
   ],
   "source": [
    "import sys\n",
    "sys.path.append('..')  # 将 src 目录添加到 PYTHONPATH  # 假设当前工作目录是notebook目录\n",
    "print(sys.path)"
   ]
  },
  {
   "cell_type": "code",
   "execution_count": 7,
   "metadata": {},
   "outputs": [],
   "source": [
    "from entity.extraction import PerformanceQuerySchema"
   ]
  },
  {
   "cell_type": "code",
   "execution_count": 8,
   "metadata": {},
   "outputs": [],
   "source": [
    "\n",
    "\n",
    "runnable =prompt_performance_template | llm.with_structured_output(schema=PerformanceQuerySchema)"
   ]
  },
  {
   "cell_type": "code",
   "execution_count": null,
   "metadata": {},
   "outputs": [],
   "source": [
    "# text = \"去年国贸能化公司的利润率\"\n",
    "# runnable.invoke({\"text\": text,\"date\":\"2024-08-25\"}).dict()"
   ]
  },
  {
   "cell_type": "code",
   "execution_count": 9,
   "metadata": {},
   "outputs": [],
   "source": [
    "from entity.extraction_example import Example, tool_example_to_messages\n",
    "from entity.extraction import *\n",
    "\n",
    "examples = [\n",
    "    (\n",
    "        \"去年集团利润率为负的公司,当前日期是2024-08-25，查询用户为集团用户\",\n",
    "        PerformanceQuerySchema(\n",
    "            indicator=\"GROSS_MARGIN_RATE\",\n",
    "            aggregation=\"YEAR\",\n",
    "            start_time=\"2023-01-01\",\n",
    "            end_time=\"2023-12-31\",\n",
    "            scope=\"GROUP\",\n",
    "            sort_type=\"DESC\",\n",
    "            operator=\"<\",\n",
    "            value=\"0\",\n",
    "        ),\n",
    "    ),\n",
    "    (\n",
    "        \"国贸能化公司今年上半年的销售额大于1000万的月份,当前日期是2024-08-25\",\n",
    "        PerformanceQuerySchema(\n",
    "            indicator=\"SALES\",\n",
    "            aggregation=\"MONTH\",\n",
    "            start_time=\"2024-01-01\",\n",
    "            end_time=\"2024-06-30\",\n",
    "            scope=\"GROUP\",\n",
    "            sort_type=\"DESC\",\n",
    "            operator=\">\",\n",
    "            value=\"10000000\",\n",
    "            company_name=\"国贸能化\",\n",
    "        ),\n",
    "    ),\n",
    "]\n",
    "\n",
    "\n",
    "messages = []\n",
    "\n",
    "for text, tool_call in examples:\n",
    "    messages.extend(\n",
    "        tool_example_to_messages({\"input\": text, \"tool_calls\": [tool_call]})\n",
    "    )"
   ]
  },
  {
   "cell_type": "code",
   "execution_count": 10,
   "metadata": {},
   "outputs": [
    {
     "name": "stdout",
     "output_type": "stream",
     "text": [
      "system: content=\"You are an expert extraction algorithm. Only extract relevant information from the text. If you do not know the value of an attribute asked to extract, return null for the attribute's value.\"\n",
      "human: content='this is some text'\n"
     ]
    }
   ],
   "source": [
    "example_prompt = prompt.invoke({\"text\": \"this is some text\", \"examples\": messages})\n",
    "\n",
    "for message in example_prompt.messages:\n",
    "    print(f\"{message.type}: {message}\")"
   ]
  },
  {
   "cell_type": "code",
   "execution_count": 11,
   "metadata": {},
   "outputs": [],
   "source": [
    "from langchain_core.prompts import ChatPromptTemplate, MessagesPlaceholder\n",
    "from prompt import EXTRACTION_PROMPT\n"
   ]
  },
  {
   "cell_type": "code",
   "execution_count": 12,
   "metadata": {},
   "outputs": [],
   "source": [
    "runnable_with_examples = EXTRACTION_PROMPT | llm.with_structured_output(\n",
    "    schema=PerformanceQuerySchema,\n",
    "    method=\"function_calling\",\n",
    "    include_raw=False,\n",
    ")\n",
    "\n",
    "messages = []\n",
    "\n",
    "for text, tool_call in examples:\n",
    "    messages.extend(\n",
    "        tool_example_to_messages({\"input\": text, \"tool_calls\": [tool_call]})\n",
    "    )"
   ]
  },
  {
   "cell_type": "code",
   "execution_count": 13,
   "metadata": {},
   "outputs": [
    {
     "data": {
      "text/plain": [
       "[HumanMessage(content='去年集团利润率为负的公司,当前日期是2024-08-25，查询用户为集团用户'),\n",
       " AIMessage(content='', tool_calls=[{'name': 'PerformanceQuerySchema', 'args': {'indicator': 'GROSS_MARGIN_RATE', 'aggregation': 'YEAR', 'start_time': '2023-01-01', 'end_time': '2023-12-31', 'scope': 'GROUP', 'sort_type': 'DESC', 'operator': '<', 'value': '0', 'company_name': None}, 'id': 'a7c2e8f1-4fe1-42c6-b487-8a994958dbd6', 'type': 'tool_call'}]),\n",
       " ToolMessage(content='You have correctly called this tool.', tool_call_id='a7c2e8f1-4fe1-42c6-b487-8a994958dbd6'),\n",
       " HumanMessage(content='国贸能化公司今年上半年的销售额大于1000万的月份,当前日期是2024-08-25'),\n",
       " AIMessage(content='', tool_calls=[{'name': 'PerformanceQuerySchema', 'args': {'indicator': 'SALES', 'aggregation': 'MONTH', 'start_time': '2024-01-01', 'end_time': '2024-06-30', 'scope': 'GROUP', 'sort_type': 'DESC', 'operator': '>', 'value': '10000000', 'company_name': '国贸能化'}, 'id': '4420fadd-b986-46b2-b9b3-6a166f0c686d', 'type': 'tool_call'}]),\n",
       " ToolMessage(content='You have correctly called this tool.', tool_call_id='4420fadd-b986-46b2-b9b3-6a166f0c686d')]"
      ]
     },
     "execution_count": 13,
     "metadata": {},
     "output_type": "execute_result"
    }
   ],
   "source": [
    "messages"
   ]
  },
  {
   "cell_type": "code",
   "execution_count": 14,
   "metadata": {},
   "outputs": [],
   "source": [
    "from langchain_core.messages import (\n",
    "    AIMessage,\n",
    "    BaseMessage,\n",
    "    HumanMessage,\n",
    "    SystemMessage,\n",
    "    ToolMessage,\n",
    ")\n",
    "company_name_examples=[HumanMessage(\"company name examples:湖北国贸能源化工有限公司,湖北国贸金属矿产有限公司,湖北国贸汽车有限公司,湖北国际贸易集团有限公司,湖北国贸农产品有限公司,武汉鼎联丰国际贸易有限公司,湖北国贸农产品有限公司武汉分公司,湖北南方大集实业有限公司,湖北南方大集实业有限公司东西湖分公司,湖北南方大集实业有限公司慈惠分公司,湖北南方大集实业有限公司江汉分公司,湖北南方大集实业有限公司能源分公司,湖北南方工贸有限公司,湖北南方集团有限公司,湖北国贸供应链管理有限公司,湖北华中能源发展有限公司,湖北国贸汽车有限公司红安分公司,company_name如果要取值，提取后的名称必须从例子里选择，如果没有相符的公司名则返回company_name='company_name_not_found'\")]"
   ]
  },
  {
   "cell_type": "code",
   "execution_count": 16,
   "metadata": {},
   "outputs": [
    {
     "name": "stdout",
     "output_type": "stream",
     "text": [
      "{'indicator': 'GROSS_MARGIN_RATE', 'aggregation': 'YEAR', 'start_time': '2023-01-01', 'end_time': '2023-12-31', 'scope': 'GROUP', 'sort_type': 'DESC', 'operator': '<', 'value': '0', 'company_name': 'company_name_not_found'}\n"
     ]
    }
   ],
   "source": [
    "text = \"去年集团利润率为负的公司,当前日期是2024-08-25，查询用户为集团用户\"\n",
    "print(runnable_with_examples.invoke({\"text\": text, \"examples\": messages,\"company_name_example\": company_name_examples}).dict())\n"
   ]
  },
  {
   "cell_type": "code",
   "execution_count": 18,
   "metadata": {},
   "outputs": [
    {
     "name": "stdout",
     "output_type": "stream",
     "text": [
      "{'indicator': 'SALES', 'aggregation': 'YEAR', 'start_time': '2024-01-01', 'end_time': '2024-12-31', 'scope': 'COMPANY', 'sort_type': None, 'operator': None, 'value': None, 'company_name': '湖北国贸金属矿产有限公司'}\n"
     ]
    }
   ],
   "source": [
    "text = \"今年国贸金属矿公司的销售额,当前日期是2024-08-25，查询用户为集团用户\"\n",
    "print(runnable_with_examples.invoke({\"text\": text, \"examples\": messages,\"company_name_example\": company_name_examples}).dict())"
   ]
  },
  {
   "cell_type": "code",
   "execution_count": null,
   "metadata": {},
   "outputs": [],
   "source": []
  }
 ],
 "metadata": {
  "kernelspec": {
   "display_name": "chatbi",
   "language": "python",
   "name": "python3"
  },
  "language_info": {
   "codemirror_mode": {
    "name": "ipython",
    "version": 3
   },
   "file_extension": ".py",
   "mimetype": "text/x-python",
   "name": "python",
   "nbconvert_exporter": "python",
   "pygments_lexer": "ipython3",
   "version": "3.12.4"
  }
 },
 "nbformat": 4,
 "nbformat_minor": 2
}
