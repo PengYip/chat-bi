{
 "cells": [
  {
   "cell_type": "code",
   "execution_count": null,
   "metadata": {},
   "outputs": [],
   "source": [
    "from langchain_openai import ChatOpenAI\n",
    "from dotenv import load_dotenv, find_dotenv\n",
    "import os\n",
    "from agent import ExtractorRunnable\n",
    "\n",
    "_ = load_dotenv(find_dotenv())\n",
    "DEEPSEEK_API = os.getenv(\"DEEPSEEK_API\")\n",
    "BASE_URL = os.getenv(\"DEEPSEEK_URL\")\n",
    "MODEL_NAME = os.getenv(\"DEEPSEEK_MODEL\")\n",
    "llm = ChatOpenAI(\n",
    "    api_key=DEEPSEEK_API, base_url=BASE_URL, model=MODEL_NAME, temperature=0.1\n",
    ")"
   ]
  },
  {
   "cell_type": "code",
   "execution_count": null,
   "metadata": {},
   "outputs": [],
   "source": [
    "import sys\n",
    "sys.path.append('..')  # 将 src 目录添加到 PYTHONPATH  # 假设当前工作目录是notebook目录"
   ]
  },
  {
   "cell_type": "code",
   "execution_count": null,
   "metadata": {},
   "outputs": [],
   "source": [
    "from entity.extraction import PerformanceQuerySchema\n",
    "from prompt import (\n",
    "    EXTRACTION_PROMPT,\n",
    "    PERFORMANCE_OUTPUT_EXAMPLES_MESSAGES,\n",
    "    COMPANY_NAME_EXAMPLES,\n",
    ")\n",
    "import datetime\n",
    "date=datetime.datetime.now().strftime(\"%Y-%m-%d\")\n",
    "\n",
    "runnable_with_examples = EXTRACTION_PROMPT | llm.with_structured_output(\n",
    "    schema=PerformanceQuerySchema,\n",
    "    method=\"function_calling\",\n",
    "    include_raw=False,\n",
    ")"
   ]
  },
  {
   "cell_type": "code",
   "execution_count": null,
   "metadata": {},
   "outputs": [],
   "source": [
    "print(\n",
    "    runnable_with_examples.invoke(\n",
    "        {\n",
    "            \"text\": \"去年集团利润率为负的公司\",\n",
    "            \"date\":date,\n",
    "            \"user_role\":\"集团用户\",\n",
    "            \"examples\": PERFORMANCE_OUTPUT_EXAMPLES_MESSAGES,\n",
    "            \"company_name_example\": COMPANY_NAME_EXAMPLES,\n",
    "        }\n",
    "    ).dict()\n",
    ")"
   ]
  },
  {
   "cell_type": "code",
   "execution_count": null,
   "metadata": {},
   "outputs": [],
   "source": [
    "print(\n",
    "    runnable_with_examples.invoke(\n",
    "        {\n",
    "            \"text\": \"今年国贸金属矿公司的销售额\",\n",
    "            \"date\": date,\n",
    "            \"user_role\": \"公司用户\",\n",
    "            \"examples\": PERFORMANCE_OUTPUT_EXAMPLES_MESSAGES,\n",
    "            \"company_name_example\": COMPANY_NAME_EXAMPLES,\n",
    "        }\n",
    "    ).dict()\n",
    ")"
   ]
  },
  {
   "cell_type": "code",
   "execution_count": null,
   "metadata": {},
   "outputs": [],
   "source": [
    "# 打开文件并读取内容\n",
    "with open(\"../test/user_input.txt\", \"r\", encoding=\"utf-8\") as file:\n",
    "    lines = file.readlines()\n",
    "\n",
    "# 去掉每行末尾的换行符\n",
    "lines = [line.strip() for line in lines]\n",
    "\n",
    "# 打印列表以验证结果\n",
    "print(lines)"
   ]
  },
  {
   "cell_type": "code",
   "execution_count": null,
   "metadata": {},
   "outputs": [],
   "source": [
    "import csv\n",
    "\n",
    "\n",
    "data = []\n",
    "for line in lines:\n",
    "    try:\n",
    "        result = runnable_with_examples.invoke(\n",
    "            {\n",
    "                \"text\": line,\n",
    "                \"examples\": PERFORMANCE_OUTPUT_EXAMPLES_MESSAGES,\n",
    "                \"company_name_example\": COMPANY_NAME_EXAMPLES,\n",
    "            }\n",
    "        ).dict()\n",
    "    except:\n",
    "        result = \"Error\"\n",
    "    data.append([line, result])\n",
    "    print(line, result)\n",
    "\n",
    "\n",
    "# 写入 CSV 文件\n",
    "with open(\"../test/output.csv\", \"w\", newline=\"\", encoding=\"utf-8\") as csvfile:\n",
    "    csvwriter = csv.writer(csvfile)\n",
    "\n",
    "    # 写入表头（可选）\n",
    "    csvwriter.writerow([\"Line\", \"Result\"])\n",
    "\n",
    "    # 写入数据\n",
    "    csvwriter.writerows(data)\n",
    "\n",
    "print(\"数据已成功写入 output.csv 文件\")"
   ]
  }
 ],
 "metadata": {
  "kernelspec": {
   "display_name": "chatbi",
   "language": "python",
   "name": "python3"
  },
  "language_info": {
   "codemirror_mode": {
    "name": "ipython",
    "version": 3
   },
   "file_extension": ".py",
   "mimetype": "text/x-python",
   "name": "python",
   "nbconvert_exporter": "python",
   "pygments_lexer": "ipython3",
   "version": "3.12.4"
  }
 },
 "nbformat": 4,
 "nbformat_minor": 2
}
